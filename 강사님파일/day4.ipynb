{
 "cells": [
  {
   "cell_type": "code",
   "execution_count": 4,
   "id": "311dd286",
   "metadata": {},
   "outputs": [],
   "source": [
    "# explicit(명시적) language :파이썬, 자바, ...\n",
    "        \n",
    "# 명시적 언어의 한계 : 일부 작업에서는 모든 조건을 다 나열할 수\n",
    "# 없을 정도로 조건이 많음\n",
    "# ->\n",
    "# implicit(묵시적) language 등장 : 머신러닝(인공지능) 언어\n",
    "# 모든 조건을 나열하는 것이 아닌, 확률(통계)적 접근하여 문제 해결\n",
    "\n",
    "# ex)\n",
    "# 이세돌 <-> 알파고\n",
    "# if 이세돌 1번 위치에 돌을 놓으면:\n",
    "#     알파고에게 9번 위치\n",
    "#     if 이세돌 12번 위치에 돌을 놓으면:\n",
    "#         알파고에게 ...\n",
    "#     elif\n",
    "    \n",
    "    \n",
    "# elif 2번위치\"\n",
    "# ...\n",
    "# elif 19*19번 위치:\n",
    "    \n",
    "\n",
    "    \n",
    "\n",
    "# *자동차가 운행중 정지를 해야하는 상황\n",
    "\n",
    "# if 신호등==빨강:\n",
    "#     정지\n",
    "# if 카메라==사람감지 and 카메라==동물감지:\n",
    "#     정지\n",
    "\n",
    "#not, and, or\n",
    "\n",
    "# if 코로나단계==3:\n",
    "#     집에서 식사 #의사(pseudo) 코드\n",
    "# if 코로나단계==2:\n",
    "#     편의점에서 식사\n",
    "# if 코로나단계==1:\n",
    "#     식당에서 식사\n",
    "\n",
    "# if 조건식:\n",
    "#     처리구문1\n",
    "#     처리구문2\n",
    "#     처리구문3\n",
    "#     ...\n",
    "#     처리구문n\n",
    "\n",
    "# x=3\n",
    "# if x==3:    \n",
    "#     print(\"3과 같다\")\n",
    "    "
   ]
  },
  {
   "cell_type": "code",
   "execution_count": 11,
   "id": "f58b178b",
   "metadata": {},
   "outputs": [],
   "source": [
    "x=3\n",
    "if x==3:\n",
    "    pass #나중에 코드 구현\n",
    "else:\n",
    "    print(\"다름\")\n",
    "#파이썬에서만 존재하는 문법, 조건 만족시 아무 작업도 수행하지 않고 다음 줄로 이동\n",
    "#조건을 만족했을때 처리해야할 구문이 아직 정해지지 않은 상황"
   ]
  },
  {
   "cell_type": "code",
   "execution_count": null,
   "id": "c3a37cd1",
   "metadata": {},
   "outputs": [],
   "source": [
    "#print(\"안녕하세요\")"
   ]
  },
  {
   "cell_type": "code",
   "execution_count": null,
   "id": "f27c132d",
   "metadata": {},
   "outputs": [],
   "source": [
    "# 주머니에 3000원 이상 있으면 택시를 이용하겠다. 없으면 도보\n",
    "주머니의돈=5000\n",
    "\n",
    "# if 주머니의돈>=3000: # if True:\n",
    "#     택시이용    \n",
    "# else:\n",
    "#     도보이용\n",
    "\n",
    "#else는 if없이 독립적으로 사용될 수 없다"
   ]
  },
  {
   "cell_type": "code",
   "execution_count": 19,
   "id": "2fd10002",
   "metadata": {},
   "outputs": [
    {
     "name": "stdout",
     "output_type": "stream",
     "text": [
      "택시이용\n",
      "지하철이용\n"
     ]
    }
   ],
   "source": [
    "주머니의돈=5000\n",
    "\n",
    "if 주머니의돈>=3000: # if True:\n",
    "    print(\"택시이용\")\n",
    "    print(\"지하철이용\")\n",
    "else:\n",
    "    print(\"도보이용\")"
   ]
  },
  {
   "cell_type": "code",
   "execution_count": 21,
   "id": "51d71ded",
   "metadata": {},
   "outputs": [],
   "source": [
    "돈=2000\n",
    "카드=True"
   ]
  },
  {
   "cell_type": "code",
   "execution_count": 26,
   "id": "edc95711",
   "metadata": {},
   "outputs": [
    {
     "name": "stdout",
     "output_type": "stream",
     "text": [
      "택시\n"
     ]
    }
   ],
   "source": [
    "if 돈>=3000 or 카드:\n",
    "    print(\"택시\")\n",
    "else:\n",
    "    print(\"도보\")"
   ]
  },
  {
   "cell_type": "code",
   "execution_count": 24,
   "id": "6f7e32ae",
   "metadata": {},
   "outputs": [
    {
     "data": {
      "text/plain": [
       "True"
      ]
     },
     "execution_count": 24,
     "metadata": {},
     "output_type": "execute_result"
    }
   ],
   "source": []
  },
  {
   "cell_type": "code",
   "execution_count": null,
   "id": "a34c6985",
   "metadata": {},
   "outputs": [],
   "source": [
    "# if 신호등2번째칸==빨강:\n",
    "#     if 신호등1번째칸==화살표:\n",
    "#         좌회전\n",
    "#     else:\n",
    "#         정지"
   ]
  },
  {
   "cell_type": "code",
   "execution_count": 27,
   "id": "fcbba641",
   "metadata": {},
   "outputs": [
    {
     "name": "stdout",
     "output_type": "stream",
     "text": [
      "0 이상\n",
      "5\n"
     ]
    }
   ],
   "source": [
    "x=5\n",
    "if x>=0:\n",
    "    print(\"0 이상\")\n",
    "    if x==5:\n",
    "        print(\"5\")\n",
    "    if x==10:\n",
    "        print(\"10\")"
   ]
  },
  {
   "cell_type": "code",
   "execution_count": 29,
   "id": "d9233a4c",
   "metadata": {},
   "outputs": [
    {
     "name": "stdout",
     "output_type": "stream",
     "text": [
      "여성\n"
     ]
    }
   ],
   "source": [
    "#바람직하지 않은 코드\n",
    "성별='여성'\n",
    "if 성별=='여성':\n",
    "    print(\"여성\")\n",
    "if 성별=='남성':\n",
    "    print(\"남성\")"
   ]
  },
  {
   "cell_type": "code",
   "execution_count": 30,
   "id": "2952b00e",
   "metadata": {},
   "outputs": [
    {
     "name": "stdout",
     "output_type": "stream",
     "text": [
      "여성\n"
     ]
    }
   ],
   "source": [
    "#바람직한 코드\n",
    "성별='여성'\n",
    "if 성별=='여성':\n",
    "    print(\"여성\")\n",
    "else:\n",
    "    print(\"남성\")"
   ]
  },
  {
   "cell_type": "code",
   "execution_count": 33,
   "id": "ee6ab966",
   "metadata": {},
   "outputs": [
    {
     "name": "stdout",
     "output_type": "stream",
     "text": [
      "A\n"
     ]
    }
   ],
   "source": [
    "점수=95\n",
    "if 점수>=90:\n",
    "    print(\"A\")\n",
    "elif 점수>=80:\n",
    "    print(\"B\")\n",
    "elif 점수>=70:\n",
    "    print(\"C\")\n",
    "elif 점수>=60:\n",
    "    print(\"D\")\n",
    "elif 점수<60:\n",
    "    print(\"F\")"
   ]
  },
  {
   "cell_type": "code",
   "execution_count": 34,
   "id": "68edae37",
   "metadata": {},
   "outputs": [
    {
     "name": "stdout",
     "output_type": "stream",
     "text": [
      "점수 입력:90\n",
      "합격\n"
     ]
    }
   ],
   "source": [
    "score=int(input(\"점수 입력:\"))\n",
    "if score>=80:\n",
    "    print(\"합격\")\n",
    "else:\n",
    "    print(\"불합격\")"
   ]
  },
  {
   "cell_type": "code",
   "execution_count": 35,
   "id": "4f0277c2",
   "metadata": {},
   "outputs": [],
   "source": [
    "# 참수행문장(변수=값) if 조건문 else 거짓수행문장(값)"
   ]
  },
  {
   "cell_type": "code",
   "execution_count": 36,
   "id": "dfba98f7",
   "metadata": {},
   "outputs": [],
   "source": [
    "x=1\n",
    "# if x==0:\n",
    "#     y=x\n",
    "# else:\n",
    "#     y=0\n",
    "\n",
    "#y=x if x==0 else 0\n",
    "#x와 0이 같다면 x값을 y에게, 같지 않다면 0을 y에게 대입해라"
   ]
  },
  {
   "cell_type": "code",
   "execution_count": 37,
   "id": "ec98b192",
   "metadata": {},
   "outputs": [
    {
     "name": "stdout",
     "output_type": "stream",
     "text": [
      "0\n"
     ]
    }
   ],
   "source": [
    "print(y)"
   ]
  },
  {
   "cell_type": "code",
   "execution_count": 41,
   "id": "2a6a120a",
   "metadata": {},
   "outputs": [],
   "source": [
    "if False:   # False:\n",
    "    print(\"참\")"
   ]
  },
  {
   "cell_type": "code",
   "execution_count": 43,
   "id": "4162a125",
   "metadata": {},
   "outputs": [
    {
     "name": "stdout",
     "output_type": "stream",
     "text": [
      "출력2\n"
     ]
    }
   ],
   "source": [
    "if None: #None은 거짓\n",
    "    print(\"출력1\")\n",
    "else:\n",
    "    print(\"출력2\")"
   ]
  },
  {
   "cell_type": "code",
   "execution_count": 46,
   "id": "3a2cd331",
   "metadata": {},
   "outputs": [
    {
     "name": "stdout",
     "output_type": "stream",
     "text": [
      "출력\n"
     ]
    }
   ],
   "source": [
    "if 0.00000000001: #0은 거짓\n",
    "    print(\"출력\")"
   ]
  },
  {
   "cell_type": "code",
   "execution_count": 47,
   "id": "d02aa53d",
   "metadata": {},
   "outputs": [],
   "source": [
    "# if 0:\n",
    "# else :    "
   ]
  },
  {
   "cell_type": "code",
   "execution_count": 48,
   "id": "13dbe511",
   "metadata": {},
   "outputs": [
    {
     "name": "stdout",
     "output_type": "stream",
     "text": [
      "하이\n"
     ]
    }
   ],
   "source": [
    "if \"hi\": #참\n",
    "    print(\"하이\")"
   ]
  },
  {
   "cell_type": "code",
   "execution_count": 49,
   "id": "804379b5",
   "metadata": {},
   "outputs": [
    {
     "name": "stdout",
     "output_type": "stream",
     "text": [
      "하이\n"
     ]
    }
   ],
   "source": [
    "if \" \": #참\n",
    "    print(\"하이\")"
   ]
  },
  {
   "cell_type": "code",
   "execution_count": 50,
   "id": "20219457",
   "metadata": {},
   "outputs": [],
   "source": [
    "if \"\": #거짓\n",
    "    print(\"하이\")"
   ]
  },
  {
   "cell_type": "code",
   "execution_count": 52,
   "id": "a092836f",
   "metadata": {},
   "outputs": [
    {
     "name": "stdout",
     "output_type": "stream",
     "text": [
      "True\n"
     ]
    }
   ],
   "source": [
    "print(not 0)"
   ]
  },
  {
   "cell_type": "code",
   "execution_count": 53,
   "id": "285e0522",
   "metadata": {},
   "outputs": [
    {
     "name": "stdout",
     "output_type": "stream",
     "text": [
      "참\n"
     ]
    }
   ],
   "source": [
    "if not 0:\n",
    "    print(\"참\")"
   ]
  },
  {
   "cell_type": "code",
   "execution_count": 54,
   "id": "2af54429",
   "metadata": {},
   "outputs": [
    {
     "name": "stdout",
     "output_type": "stream",
     "text": [
      "참\n"
     ]
    }
   ],
   "source": [
    "if not None:\n",
    "    print(\"참\")"
   ]
  },
  {
   "cell_type": "code",
   "execution_count": 55,
   "id": "34b29805",
   "metadata": {},
   "outputs": [
    {
     "name": "stdout",
     "output_type": "stream",
     "text": [
      "참\n"
     ]
    }
   ],
   "source": [
    "if not '':\n",
    "    print(\"참\")"
   ]
  },
  {
   "cell_type": "code",
   "execution_count": 58,
   "id": "0ab1889c",
   "metadata": {},
   "outputs": [],
   "source": [
    "#x=[] 비어있는 리스트(튜플, 셋, 딕셔너리)는 거짓\n",
    "x=[1]"
   ]
  },
  {
   "cell_type": "code",
   "execution_count": 59,
   "id": "0dce7cb8",
   "metadata": {},
   "outputs": [
    {
     "name": "stdout",
     "output_type": "stream",
     "text": [
      "참\n"
     ]
    }
   ],
   "source": [
    "if x: #[]:거짓\n",
    "    print(\"참\")"
   ]
  },
  {
   "cell_type": "code",
   "execution_count": 62,
   "id": "0b676bab",
   "metadata": {},
   "outputs": [
    {
     "name": "stdout",
     "output_type": "stream",
     "text": [
      "비었다\n"
     ]
    }
   ],
   "source": [
    "x=[]\n",
    "if not len(x):\n",
    "    print(\"비었다\")"
   ]
  },
  {
   "cell_type": "code",
   "execution_count": 63,
   "id": "f7e2efc5",
   "metadata": {},
   "outputs": [
    {
     "name": "stdout",
     "output_type": "stream",
     "text": [
      "비었다\n"
     ]
    }
   ],
   "source": [
    "if not x:\n",
    "    print(\"비었다\")"
   ]
  },
  {
   "cell_type": "code",
   "execution_count": 64,
   "id": "4bbbff19",
   "metadata": {},
   "outputs": [],
   "source": [
    "x=5"
   ]
  },
  {
   "cell_type": "code",
   "execution_count": 70,
   "id": "dae00c39",
   "metadata": {},
   "outputs": [
    {
     "name": "stdout",
     "output_type": "stream",
     "text": [
      "작은수\n",
      "작은수\n"
     ]
    }
   ],
   "source": [
    "#x가 0 이상 10 미만이면 작은수를 출력\n",
    "if x>=0:\n",
    "    if x<10:\n",
    "        print(\"작은수\")\n",
    "\n",
    "if x>=0 and x<10:\n",
    "    print(\"작은수\")"
   ]
  },
  {
   "cell_type": "code",
   "execution_count": 72,
   "id": "597ce3ab",
   "metadata": {},
   "outputs": [
    {
     "name": "stdout",
     "output_type": "stream",
     "text": [
      "작은수\n"
     ]
    }
   ],
   "source": [
    "if 0<=x and x<10: #r개발<->python개발\n",
    "    print(\"작은수\")\n",
    "#if 0<=x<x 와 같은 코드는 r에서 에러 발생"
   ]
  },
  {
   "cell_type": "code",
   "execution_count": 73,
   "id": "47ade701",
   "metadata": {},
   "outputs": [
    {
     "ename": "SyntaxError",
     "evalue": "invalid syntax (<ipython-input-73-66311d8c4010>, line 6)",
     "output_type": "error",
     "traceback": [
      "\u001b[1;36m  File \u001b[1;32m\"<ipython-input-73-66311d8c4010>\"\u001b[1;36m, line \u001b[1;32m6\u001b[0m\n\u001b[1;33m    elif 조건:\u001b[0m\n\u001b[1;37m    ^\u001b[0m\n\u001b[1;31mSyntaxError\u001b[0m\u001b[1;31m:\u001b[0m invalid syntax\n"
     ]
    }
   ],
   "source": [
    "# if 조건:\n",
    "#     수행문장\n",
    "# elif 조건:\n",
    "#     수행문장\n",
    "# ...\n",
    "# elif 조건:\n",
    "#     수행문장\n",
    "# else:\n",
    "#     수행문장\n",
    "\n",
    "#에러발생\n",
    "# if\n",
    "# else\n",
    "# elif"
   ]
  },
  {
   "cell_type": "code",
   "execution_count": null,
   "id": "49fad22f",
   "metadata": {},
   "outputs": [],
   "source": [
    "# a in 리스트(튜플,문자열,set, 딕셔너리)\n",
    "# a not in 리스트(튜플,문자열,set, 딕셔너리)"
   ]
  },
  {
   "cell_type": "code",
   "execution_count": 75,
   "id": "d847f68f",
   "metadata": {},
   "outputs": [
    {
     "name": "stdout",
     "output_type": "stream",
     "text": [
      "들어있습니다\n"
     ]
    }
   ],
   "source": [
    "if 1 in [1,2,3]:\n",
    "    print(\"들어있습니다\")"
   ]
  },
  {
   "cell_type": "code",
   "execution_count": 76,
   "id": "bda15ffb",
   "metadata": {},
   "outputs": [
    {
     "name": "stdout",
     "output_type": "stream",
     "text": [
      "들어있습니다\n"
     ]
    }
   ],
   "source": [
    "if 1 in (1,2,3):\n",
    "    print(\"들어있습니다\")"
   ]
  },
  {
   "cell_type": "code",
   "execution_count": 77,
   "id": "80f89b78",
   "metadata": {},
   "outputs": [
    {
     "name": "stdout",
     "output_type": "stream",
     "text": [
      "들어있습니다\n"
     ]
    }
   ],
   "source": [
    "if \"1\" in (\"1\",\"2\",\"3\"):\n",
    "    print(\"들어있습니다\")"
   ]
  },
  {
   "cell_type": "code",
   "execution_count": 78,
   "id": "3de06444",
   "metadata": {},
   "outputs": [
    {
     "name": "stdout",
     "output_type": "stream",
     "text": [
      "들어있습니다\n"
     ]
    }
   ],
   "source": [
    "if 1 in {1,2,3}:\n",
    "    print(\"들어있습니다\")"
   ]
  },
  {
   "cell_type": "code",
   "execution_count": 79,
   "id": "3ef9e3f7",
   "metadata": {},
   "outputs": [
    {
     "data": {
      "text/plain": [
       "{1: 'a', 2: 'b'}"
      ]
     },
     "execution_count": 79,
     "metadata": {},
     "output_type": "execute_result"
    }
   ],
   "source": [
    "x={1:'a',2:'b'}\n",
    "x"
   ]
  },
  {
   "cell_type": "code",
   "execution_count": 82,
   "id": "ee2888fe",
   "metadata": {},
   "outputs": [],
   "source": [
    "if 3 in x:\n",
    "    print(\"존재합니다\")"
   ]
  },
  {
   "cell_type": "code",
   "execution_count": 83,
   "id": "3bca049c",
   "metadata": {},
   "outputs": [],
   "source": [
    "s=70"
   ]
  },
  {
   "cell_type": "code",
   "execution_count": 84,
   "id": "8b29f676",
   "metadata": {},
   "outputs": [
    {
     "name": "stdout",
     "output_type": "stream",
     "text": [
      "합격\n"
     ]
    }
   ],
   "source": [
    "#s에 저장된 값이 60 이상이면 합격 아니면 불합격을 출력하시오\n",
    "if s>= 60 :\n",
    "    print(\"합격\")\n",
    "else :\n",
    "    print(\"불합격\")\n"
   ]
  },
  {
   "cell_type": "code",
   "execution_count": 86,
   "id": "154e0afc",
   "metadata": {},
   "outputs": [],
   "source": [
    "s=50"
   ]
  },
  {
   "cell_type": "code",
   "execution_count": 88,
   "id": "382b52dd",
   "metadata": {},
   "outputs": [],
   "source": [
    "#print(\"합격\") if s>=60 else print(\"불합격\")\n",
    "msg=\"합격\" if s>=60 else \"불합격\""
   ]
  },
  {
   "cell_type": "code",
   "execution_count": 89,
   "id": "0ccbfed0",
   "metadata": {},
   "outputs": [
    {
     "name": "stdout",
     "output_type": "stream",
     "text": [
      "불합격\n"
     ]
    }
   ],
   "source": [
    "print(msg)"
   ]
  },
  {
   "cell_type": "code",
   "execution_count": 90,
   "id": "f6fee8cb",
   "metadata": {},
   "outputs": [],
   "source": [
    "ani=\"dog\"\n",
    "cat=\"cat\"\n",
    "dog=\"dog\""
   ]
  },
  {
   "cell_type": "code",
   "execution_count": 91,
   "id": "bb794ffb",
   "metadata": {},
   "outputs": [
    {
     "name": "stdout",
     "output_type": "stream",
     "text": [
      "같다\n"
     ]
    }
   ],
   "source": [
    "if ani==dog:\n",
    "    print(\"같다\")"
   ]
  },
  {
   "cell_type": "code",
   "execution_count": 92,
   "id": "4eed926d",
   "metadata": {},
   "outputs": [
    {
     "name": "stdout",
     "output_type": "stream",
     "text": [
      "dog\n"
     ]
    }
   ],
   "source": [
    "#A if 조건 else B\n",
    "res=dog if ani==dog else cat\n",
    "print(res)"
   ]
  },
  {
   "cell_type": "code",
   "execution_count": 93,
   "id": "bdd85f96",
   "metadata": {},
   "outputs": [],
   "source": [
    "#if elif else구조\n",
    "#A if 조건 else B if 조건 else C"
   ]
  },
  {
   "cell_type": "code",
   "execution_count": 102,
   "id": "3cc3674a",
   "metadata": {},
   "outputs": [],
   "source": [
    "ani=\"cat\"\n",
    "cat=\"cat\"\n",
    "dog=\"dog\""
   ]
  },
  {
   "cell_type": "code",
   "execution_count": 103,
   "id": "c7911578",
   "metadata": {},
   "outputs": [],
   "source": [
    "res=dog if ani==dog else cat if ani==cat else \"cow\"\n",
    "# 만약에 ani==dog면 dog이 저장, 그렇지 않고 \n",
    "# 만약에 ani==cat면 cat이 저장, 그렇지 않으면 cow가 저장\n",
    "\n",
    "# if ani==dog:\n",
    "#     res=dog\n",
    "# elif ani==cat:\n",
    "#     res=cat\n",
    "# else\n",
    "#     res=\"cow\""
   ]
  },
  {
   "cell_type": "code",
   "execution_count": 104,
   "id": "23fa5415",
   "metadata": {},
   "outputs": [
    {
     "name": "stdout",
     "output_type": "stream",
     "text": [
      "cat\n"
     ]
    }
   ],
   "source": [
    "print(res)"
   ]
  },
  {
   "cell_type": "code",
   "execution_count": 105,
   "id": "4005f4ee",
   "metadata": {},
   "outputs": [],
   "source": [
    "# 반복문(for)\n",
    "# 재귀호출(DFS) -> 재귀적 문제 해결"
   ]
  },
  {
   "cell_type": "code",
   "execution_count": null,
   "id": "6e6feab5",
   "metadata": {},
   "outputs": [],
   "source": [
    "# 50명 고객\n",
    "# 50! 경로(경우)의 수를 모두 비교(pruning) -> 가장 짧은 경로 1개 추출\n",
    "# -> 솔루션(알고리즘) 없음 (NP 문제)\n",
    "# => AI를 이용한 확률적 접근 -> 근사해"
   ]
  },
  {
   "cell_type": "code",
   "execution_count": null,
   "id": "fc6d6134",
   "metadata": {},
   "outputs": [],
   "source": [
    "# for 변수 in range(횟수):\n",
    "#     반복문장"
   ]
  },
  {
   "cell_type": "code",
   "execution_count": 106,
   "id": "38e739fa",
   "metadata": {},
   "outputs": [],
   "source": [
    "sum=0"
   ]
  },
  {
   "cell_type": "code",
   "execution_count": 115,
   "id": "341bdf55",
   "metadata": {},
   "outputs": [
    {
     "name": "stdout",
     "output_type": "stream",
     "text": [
      "1\n",
      "3\n"
     ]
    }
   ],
   "source": [
    "# for i in range(10): #range(10) 범위: 0~9까지의 값이 차례대로 i저장\n",
    "#     print(i)\n",
    "\n",
    "# i=1\n",
    "# for _ in range(10):\n",
    "#     print(i)\n",
    "\n",
    "# x,_,y=1,2,3 #2는 무시\n",
    "# print(x)\n",
    "# print(y)"
   ]
  },
  {
   "cell_type": "code",
   "execution_count": 117,
   "id": "31accb93",
   "metadata": {},
   "outputs": [
    {
     "name": "stdout",
     "output_type": "stream",
     "text": [
      "55\n"
     ]
    }
   ],
   "source": [
    "#1~10\n",
    "sum=0\n",
    "for i in range(1,11): #0~9\n",
    "    sum+=i\n",
    "#sum+=10\n",
    "print(sum)"
   ]
  },
  {
   "cell_type": "code",
   "execution_count": 119,
   "id": "83519fec",
   "metadata": {},
   "outputs": [
    {
     "name": "stdout",
     "output_type": "stream",
     "text": [
      "0\n",
      "2\n",
      "4\n",
      "6\n",
      "8\n"
     ]
    }
   ],
   "source": [
    "for i in range(0,10,2):\n",
    "    print(i)"
   ]
  },
  {
   "cell_type": "code",
   "execution_count": 123,
   "id": "b3a4aad6",
   "metadata": {},
   "outputs": [
    {
     "name": "stdout",
     "output_type": "stream",
     "text": [
      "9\n",
      "8\n",
      "7\n",
      "6\n",
      "5\n",
      "4\n",
      "3\n",
      "2\n",
      "1\n",
      "0\n"
     ]
    }
   ],
   "source": [
    "# for i in range(10,0,-1):\n",
    "#     print(i)\n",
    "    \n",
    "for i in reversed(range(10)):\n",
    "    print(i)   "
   ]
  },
  {
   "cell_type": "code",
   "execution_count": 124,
   "id": "11d2a98b",
   "metadata": {},
   "outputs": [
    {
     "name": "stdout",
     "output_type": "stream",
     "text": [
      "반복 횟수 입력:3\n",
      "반복\n",
      "반복\n",
      "반복\n"
     ]
    }
   ],
   "source": [
    "c=int(input(\"반복 횟수 입력:\"))\n",
    "for  i in range(c):\n",
    "    print(\"반복\")"
   ]
  },
  {
   "cell_type": "code",
   "execution_count": 126,
   "id": "20ea3077",
   "metadata": {},
   "outputs": [
    {
     "name": "stdout",
     "output_type": "stream",
     "text": [
      "10\n",
      "13\n",
      "16\n",
      "19\n"
     ]
    }
   ],
   "source": [
    "for i in range(10,20,3):\n",
    "    print(i)"
   ]
  },
  {
   "cell_type": "code",
   "execution_count": 131,
   "id": "e2aad1ee",
   "metadata": {},
   "outputs": [
    {
     "name": "stdout",
     "output_type": "stream",
     "text": [
      "01234"
     ]
    }
   ],
   "source": [
    "for i in range(5):\n",
    "    print(i, end=\"\") #end=\"\"  end옵션 :붙여서 출력시 연결문자"
   ]
  },
  {
   "cell_type": "code",
   "execution_count": 132,
   "id": "a0fdaca1",
   "metadata": {},
   "outputs": [],
   "source": [
    "#for문에 sequence객체를 작성하여 반복처리\n",
    "#sequence객체? 리스트, 튜플, 문자열 등\n",
    "#set, dict는 시퀀스객체로 볼 수 없지만, 최근 버전에서는  for문으로\n",
    "#처리가 되도록 업데이트 됨(사용하지 않는걸 권장)\n",
    "#[1,2,3]"
   ]
  },
  {
   "cell_type": "code",
   "execution_count": 133,
   "id": "f81cf23e",
   "metadata": {},
   "outputs": [
    {
     "name": "stdout",
     "output_type": "stream",
     "text": [
      "10\n",
      "20\n",
      "30\n"
     ]
    }
   ],
   "source": [
    "for i in [10,20,30]: #for 변수 in 시퀀스객체:\n",
    "    print(i)        "
   ]
  },
  {
   "cell_type": "code",
   "execution_count": 135,
   "id": "ff624cdc",
   "metadata": {},
   "outputs": [
    {
     "name": "stdout",
     "output_type": "stream",
     "text": [
      "1\n",
      "2\n",
      "3\n"
     ]
    }
   ],
   "source": [
    "# for i in {10,20,30}: #for 변수 in 시퀀스객체:\n",
    "#     print(i)\n",
    "# for i in {1:10,2:20,3:30}: #for 변수 in 시퀀스객체:\n",
    "#     print(i) #키"
   ]
  },
  {
   "cell_type": "code",
   "execution_count": 136,
   "id": "851b8223",
   "metadata": {},
   "outputs": [
    {
     "name": "stdout",
     "output_type": "stream",
     "text": [
      "a\n",
      "b\n",
      "c\n"
     ]
    }
   ],
   "source": [
    "for f in ('a','b','c'):\n",
    "    print(f)"
   ]
  },
  {
   "cell_type": "code",
   "execution_count": 137,
   "id": "92ab80a1",
   "metadata": {},
   "outputs": [
    {
     "name": "stdout",
     "output_type": "stream",
     "text": [
      "h\n",
      "e\n",
      "l\n",
      "l\n",
      "o\n"
     ]
    }
   ],
   "source": [
    "for s in \"hello\":\n",
    "    print(s)"
   ]
  },
  {
   "cell_type": "code",
   "execution_count": 144,
   "id": "5168978e",
   "metadata": {},
   "outputs": [
    {
     "name": "stdout",
     "output_type": "stream",
     "text": [
      "1\n",
      "2\n",
      "3\n",
      "4\n",
      "5\n",
      "6\n",
      "7\n",
      "8\n",
      "9\n",
      "10\n",
      "11\n",
      "12\n",
      "13\n",
      "14\n",
      "15\n",
      "16\n",
      "17\n",
      "18\n",
      "19\n",
      "20\n",
      "21\n",
      "22\n",
      "23\n",
      "24\n",
      "25\n",
      "26\n",
      "27\n",
      "28\n",
      "29\n",
      "30\n",
      "31\n",
      "32\n",
      "33\n",
      "34\n",
      "35\n",
      "36\n",
      "37\n",
      "38\n",
      "39\n",
      "40\n",
      "41\n",
      "42\n",
      "43\n",
      "44\n",
      "45\n",
      "46\n",
      "47\n",
      "48\n",
      "49\n",
      "50\n",
      "51\n",
      "52\n",
      "53\n",
      "54\n",
      "55\n",
      "56\n",
      "57\n",
      "58\n",
      "59\n",
      "60\n",
      "61\n",
      "62\n",
      "63\n",
      "64\n",
      "65\n",
      "66\n",
      "67\n",
      "68\n",
      "69\n",
      "70\n",
      "71\n",
      "72\n",
      "73\n",
      "74\n",
      "75\n",
      "76\n",
      "77\n",
      "78\n",
      "79\n",
      "80\n",
      "81\n",
      "82\n",
      "83\n",
      "84\n",
      "85\n",
      "86\n",
      "87\n",
      "88\n",
      "89\n",
      "90\n",
      "91\n",
      "92\n",
      "93\n",
      "94\n",
      "95\n",
      "96\n",
      "97\n",
      "98\n",
      "99\n",
      "100\n"
     ]
    }
   ],
   "source": [
    "i=0 #초기값\n",
    "while i<100: #i 변수 값이 101보다 작다는 조건을 만족하는 동안 반복\n",
    "    i+=1\n",
    "    print(i)    "
   ]
  },
  {
   "cell_type": "code",
   "execution_count": null,
   "id": "f8e40678",
   "metadata": {},
   "outputs": [],
   "source": [
    "#파이썬 모듈(module, 관련 함수,변수,클래스의 집합, 일반적으로 파이썬 파일)\n",
    "#패키지(라이브러리) : 관련 모듈의 모임, 폴더, 패키지도 포함\n",
    "\n",
    "#라이브러리: 파이썬 표준 라이브러리(모듈, 패키지 모두 포함)\n",
    "#파이썬 표준 라이브러리 설치"
   ]
  },
  {
   "cell_type": "code",
   "execution_count": 147,
   "id": "c983ba89",
   "metadata": {},
   "outputs": [],
   "source": [
    "#import 파이썬 모듈 불러오기 -> math 모듈을 사용하기 위해 메모리에 적재\n",
    "import math\n",
    "#import 모듈1, 모듈2, 모듈3,..."
   ]
  },
  {
   "cell_type": "code",
   "execution_count": 148,
   "id": "eccc9977",
   "metadata": {},
   "outputs": [],
   "source": [
    "# math.함수()\n",
    "# math.변수\n",
    "# math.클래스()"
   ]
  },
  {
   "cell_type": "code",
   "execution_count": 151,
   "id": "a3cb28d8",
   "metadata": {},
   "outputs": [
    {
     "data": {
      "text/plain": [
       "2.0"
      ]
     },
     "execution_count": 151,
     "metadata": {},
     "output_type": "execute_result"
    }
   ],
   "source": [
    "math.pi\n",
    "math.sqrt(4)"
   ]
  },
  {
   "cell_type": "code",
   "execution_count": 155,
   "id": "cc3a7c07",
   "metadata": {},
   "outputs": [
    {
     "data": {
      "text/plain": [
       "2.0"
      ]
     },
     "execution_count": 155,
     "metadata": {},
     "output_type": "execute_result"
    }
   ],
   "source": [
    "math.sqrt(4)"
   ]
  },
  {
   "cell_type": "code",
   "execution_count": 156,
   "id": "948cae21",
   "metadata": {},
   "outputs": [],
   "source": [
    "import math as mt #축약형"
   ]
  },
  {
   "cell_type": "code",
   "execution_count": 157,
   "id": "38a01a64",
   "metadata": {},
   "outputs": [
    {
     "data": {
      "text/plain": [
       "2.0"
      ]
     },
     "execution_count": 157,
     "metadata": {},
     "output_type": "execute_result"
    }
   ],
   "source": [
    "mt.sqrt(4)"
   ]
  },
  {
   "cell_type": "code",
   "execution_count": 165,
   "id": "07bf8baf",
   "metadata": {},
   "outputs": [],
   "source": [
    "#from 모듈명 import 함수(변수, 클래스)명\n",
    "#from math import sqrt as s"
   ]
  },
  {
   "cell_type": "code",
   "execution_count": 166,
   "id": "4d9d3aaf",
   "metadata": {},
   "outputs": [
    {
     "data": {
      "text/plain": [
       "2.0"
      ]
     },
     "execution_count": 166,
     "metadata": {},
     "output_type": "execute_result"
    }
   ],
   "source": [
    "#s(4)"
   ]
  },
  {
   "cell_type": "code",
   "execution_count": 167,
   "id": "d7aac20e",
   "metadata": {},
   "outputs": [],
   "source": [
    "#import math"
   ]
  },
  {
   "cell_type": "code",
   "execution_count": 169,
   "id": "fdcb372b",
   "metadata": {},
   "outputs": [],
   "source": [
    "import math"
   ]
  },
  {
   "cell_type": "code",
   "execution_count": 170,
   "id": "21349713",
   "metadata": {},
   "outputs": [],
   "source": [
    "#math 사용완료"
   ]
  },
  {
   "cell_type": "code",
   "execution_count": 171,
   "id": "25a728ed",
   "metadata": {},
   "outputs": [],
   "source": [
    "del math #메모리에서 math모듈이 제거됨"
   ]
  },
  {
   "cell_type": "code",
   "execution_count": null,
   "id": "4a02fd54",
   "metadata": {},
   "outputs": [],
   "source": []
  },
  {
   "cell_type": "code",
   "execution_count": 172,
   "id": "b00bf2dc",
   "metadata": {},
   "outputs": [],
   "source": [
    "import random"
   ]
  },
  {
   "cell_type": "code",
   "execution_count": 185,
   "id": "b0671463",
   "metadata": {},
   "outputs": [
    {
     "name": "stdout",
     "output_type": "stream",
     "text": [
      "26\n",
      "8\n",
      "32\n",
      "11\n",
      "37\n",
      "37\n"
     ]
    }
   ],
   "source": [
    "for i in range(6):\n",
    "    print(random.randint(1,45)) #1~3 범위에서 난수 1개 발생\n",
    "#모듈이름.함수(변수,클래스)명"
   ]
  },
  {
   "cell_type": "code",
   "execution_count": 186,
   "id": "49211935",
   "metadata": {},
   "outputs": [
    {
     "name": "stdout",
     "output_type": "stream",
     "text": [
      "2\n",
      "5\n"
     ]
    }
   ],
   "source": [
    "i=0\n",
    "while i != 5:\n",
    "    i=random.randint(1,6)\n",
    "    print(i)"
   ]
  },
  {
   "cell_type": "code",
   "execution_count": 189,
   "id": "a4044dca",
   "metadata": {},
   "outputs": [
    {
     "data": {
      "text/plain": [
       "'h'"
      ]
     },
     "execution_count": 189,
     "metadata": {},
     "output_type": "execute_result"
    }
   ],
   "source": [
    "#random.choice([1,2,3]) #1,2,3 중에서 1개를 임의로 선택\n",
    "#random.choice(시퀀스객체)\n",
    "random.choice(\"hello\")"
   ]
  },
  {
   "cell_type": "code",
   "execution_count": 211,
   "id": "16950736",
   "metadata": {},
   "outputs": [
    {
     "name": "stdout",
     "output_type": "stream",
     "text": [
      "{1, 35, 6, 9, 19, 26}\n"
     ]
    }
   ],
   "source": [
    "#random.choice([1,2,3]) #복원 추출\n",
    "\n",
    "s=set()\n",
    "# s.add(1)\n",
    "# s.add(1)\n",
    "# s.add(2)\n",
    "# print(len(s))\n",
    "\n",
    "while len(s)!=6:\n",
    "    r=random.choice(range(1,46))\n",
    "    s.add(r)\n",
    "#     if len(s)==6:\n",
    "#         print(s)\n",
    "print(s)\n",
    "\n",
    "#random.sample(시퀀스객체, 추출데이터개수) #비복원 추출\n",
    "\n",
    "#데이터 전체를 셔플(shuffle,  뒤섞음)\n",
    "#random.sample([1,2,3], 2)\n"
   ]
  },
  {
   "cell_type": "code",
   "execution_count": 208,
   "id": "66ebe5dc",
   "metadata": {},
   "outputs": [
    {
     "name": "stdout",
     "output_type": "stream",
     "text": [
      "[15, 12, 22, 14, 35, 23]\n",
      "[7, 30, 3, 44, 19, 25]\n",
      "[4, 13, 6, 26, 7, 14]\n",
      "[41, 26, 27, 30, 17, 6]\n",
      "[38, 30, 20, 11, 36, 19]\n"
     ]
    }
   ],
   "source": [
    "#이번 주 로또 예상 당첨 번호 : 5셋 \n",
    "#1~45\n",
    "for i in range(5):\n",
    "    print(random.sample(range(1,46), 6))"
   ]
  },
  {
   "cell_type": "code",
   "execution_count": 217,
   "id": "44f0ae65",
   "metadata": {},
   "outputs": [],
   "source": [
    "cond=1\n",
    "#while True: #조건식의 결과가 항상 참이므로 계속(무한) 반복\n",
    "#while 999: #0이 아니면 모두 참\n",
    "#while \"Hello\":\n",
    "while \"\":\n",
    "    print(\"1\")\n",
    "    if cond==10:\n",
    "        break\n",
    "    cond=cond+1\n",
    "    "
   ]
  },
  {
   "cell_type": "code",
   "execution_count": 222,
   "id": "bfc7da3c",
   "metadata": {},
   "outputs": [
    {
     "name": "stdout",
     "output_type": "stream",
     "text": [
      "1\n"
     ]
    }
   ],
   "source": [
    "c=0\n",
    "while c<10:\n",
    "    c+=1   \n",
    "    if c%2==0:\n",
    "        continue #계속 반복해라 -> 반복문의 시작위치로 이동\n",
    "    print(c)"
   ]
  },
  {
   "cell_type": "code",
   "execution_count": 223,
   "id": "376a929a",
   "metadata": {},
   "outputs": [],
   "source": [
    "# for i in range(10):    \n",
    "#     pass\n",
    "\n",
    "# while True:\n",
    "#     pass"
   ]
  },
  {
   "cell_type": "code",
   "execution_count": null,
   "id": "c5588d88",
   "metadata": {},
   "outputs": [],
   "source": []
  },
  {
   "cell_type": "code",
   "execution_count": null,
   "id": "c49d6aff",
   "metadata": {},
   "outputs": [],
   "source": []
  },
  {
   "cell_type": "code",
   "execution_count": null,
   "id": "829c4049",
   "metadata": {},
   "outputs": [],
   "source": []
  }
 ],
 "metadata": {
  "kernelspec": {
   "display_name": "Python 3",
   "language": "python",
   "name": "python3"
  },
  "language_info": {
   "codemirror_mode": {
    "name": "ipython",
    "version": 3
   },
   "file_extension": ".py",
   "mimetype": "text/x-python",
   "name": "python",
   "nbconvert_exporter": "python",
   "pygments_lexer": "ipython3",
   "version": "3.8.8"
  }
 },
 "nbformat": 4,
 "nbformat_minor": 5
}
