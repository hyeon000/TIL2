{
 "cells": [
  {
   "cell_type": "code",
   "execution_count": 1,
   "id": "4fcb649c",
   "metadata": {},
   "outputs": [],
   "source": [
    "# 예방\n",
    "\n",
    "# 식중독에 안 걸리려면 어떻게 하죠?\n",
    "# 챗봇 : 예방방법 안내    \n",
    "    \n",
    "# 식중독에 걸리지 않으려면 어떻게 하죠?\n",
    "# 챗봇 : 엉뚱한 답변\n",
    "        \n",
    "# 시나리오, 인텐트(intent), 엔티티 (챗봇 플랫폼) 기반 챗봇\n",
    "\n",
    "# ex) 인텐트(식중독 예방) -> 답변 :  예방방법\n",
    "# 질문\n",
    "# 식중독에 안 걸리려면 어떻게 하죠?\n",
    "# 식중독에 걸리지 않으려면 어떻게 하죠?\n",
    "# ...\n"
   ]
  },
  {
   "cell_type": "code",
   "execution_count": 2,
   "id": "fd14ae54",
   "metadata": {},
   "outputs": [],
   "source": [
    "#insert함수:리스트내의 특정 위치에 데이터를 삽입\n",
    "a=[10,20,30]\n",
    "a.append(100)"
   ]
  },
  {
   "cell_type": "code",
   "execution_count": 3,
   "id": "46c06613",
   "metadata": {},
   "outputs": [
    {
     "data": {
      "text/plain": [
       "[10, 20, 30, 100]"
      ]
     },
     "execution_count": 3,
     "metadata": {},
     "output_type": "execute_result"
    }
   ],
   "source": [
    "a"
   ]
  },
  {
   "cell_type": "code",
   "execution_count": 4,
   "id": "48f1872f",
   "metadata": {},
   "outputs": [],
   "source": [
    "a.insert(1, 15)"
   ]
  },
  {
   "cell_type": "code",
   "execution_count": 5,
   "id": "5dd76c61",
   "metadata": {},
   "outputs": [
    {
     "data": {
      "text/plain": [
       "[10, 15, 20, 30, 100]"
      ]
     },
     "execution_count": 5,
     "metadata": {},
     "output_type": "execute_result"
    }
   ],
   "source": [
    "a"
   ]
  },
  {
   "cell_type": "code",
   "execution_count": 6,
   "id": "e01691b1",
   "metadata": {},
   "outputs": [
    {
     "data": {
      "text/plain": [
       "[10, 15, 20, 30, 100, [50, 60]]"
      ]
     },
     "execution_count": 6,
     "metadata": {},
     "output_type": "execute_result"
    }
   ],
   "source": [
    "a.append([50,60])\n",
    "a"
   ]
  },
  {
   "cell_type": "code",
   "execution_count": 7,
   "id": "61aadb6f",
   "metadata": {},
   "outputs": [
    {
     "data": {
      "text/plain": [
       "[10, 15, 20, 30, 100, [50, 60], 70, 80]"
      ]
     },
     "execution_count": 7,
     "metadata": {},
     "output_type": "execute_result"
    }
   ],
   "source": [
    "a.extend([70,80])\n",
    "a"
   ]
  },
  {
   "cell_type": "code",
   "execution_count": 8,
   "id": "fbdae01b",
   "metadata": {},
   "outputs": [],
   "source": [
    "a=[10,20,10,20]"
   ]
  },
  {
   "cell_type": "code",
   "execution_count": 9,
   "id": "a33d84fb",
   "metadata": {},
   "outputs": [],
   "source": [
    "a.remove(10)"
   ]
  },
  {
   "cell_type": "code",
   "execution_count": 10,
   "id": "6f398cb6",
   "metadata": {},
   "outputs": [
    {
     "data": {
      "text/plain": [
       "[20, 10, 20]"
      ]
     },
     "execution_count": 10,
     "metadata": {},
     "output_type": "execute_result"
    }
   ],
   "source": [
    "a"
   ]
  },
  {
   "cell_type": "code",
   "execution_count": 11,
   "id": "e8dcce38",
   "metadata": {},
   "outputs": [],
   "source": [
    "a.remove(10)"
   ]
  },
  {
   "cell_type": "code",
   "execution_count": 12,
   "id": "7f832200",
   "metadata": {},
   "outputs": [
    {
     "data": {
      "text/plain": [
       "[20, 20]"
      ]
     },
     "execution_count": 12,
     "metadata": {},
     "output_type": "execute_result"
    }
   ],
   "source": [
    "a"
   ]
  },
  {
   "cell_type": "code",
   "execution_count": 16,
   "id": "acc65031",
   "metadata": {},
   "outputs": [],
   "source": [
    "a=[10,20,30]"
   ]
  },
  {
   "cell_type": "code",
   "execution_count": 17,
   "id": "99e97b2e",
   "metadata": {},
   "outputs": [],
   "source": [
    "#pop : 가장 마지막 요소를 제거\n",
    "\n",
    "#a.pop() #가장 마지막 요소를 꺼낸다음 제거\n",
    "\n",
    "data=a.pop()#가장 마지막 요소를 꺼낸다음 data변수에 저장"
   ]
  },
  {
   "cell_type": "code",
   "execution_count": 18,
   "id": "878e02be",
   "metadata": {},
   "outputs": [
    {
     "data": {
      "text/plain": [
       "30"
      ]
     },
     "execution_count": 18,
     "metadata": {},
     "output_type": "execute_result"
    }
   ],
   "source": [
    "data"
   ]
  },
  {
   "cell_type": "code",
   "execution_count": 19,
   "id": "4950873b",
   "metadata": {},
   "outputs": [
    {
     "data": {
      "text/plain": [
       "[10, 20]"
      ]
     },
     "execution_count": 19,
     "metadata": {},
     "output_type": "execute_result"
    }
   ],
   "source": [
    "a"
   ]
  },
  {
   "cell_type": "code",
   "execution_count": 20,
   "id": "4d1594c6",
   "metadata": {},
   "outputs": [],
   "source": [
    "a=[10,20,30]"
   ]
  },
  {
   "cell_type": "code",
   "execution_count": 21,
   "id": "6e3de21d",
   "metadata": {},
   "outputs": [
    {
     "data": {
      "text/plain": [
       "20"
      ]
     },
     "execution_count": 21,
     "metadata": {},
     "output_type": "execute_result"
    }
   ],
   "source": [
    "a.pop(1)"
   ]
  },
  {
   "cell_type": "code",
   "execution_count": 22,
   "id": "124f2136",
   "metadata": {},
   "outputs": [
    {
     "data": {
      "text/plain": [
       "[10, 30]"
      ]
     },
     "execution_count": 22,
     "metadata": {},
     "output_type": "execute_result"
    }
   ],
   "source": [
    "a"
   ]
  },
  {
   "cell_type": "code",
   "execution_count": 23,
   "id": "6064c878",
   "metadata": {},
   "outputs": [],
   "source": [
    "# 튜플?리스트와 거의 비슷. \n",
    "#리스트:[], 튜플:()\n",
    "#리스트는 데이터를 생성, 수정, 삭제 등 수행\n",
    "#튜플은 데이터를 변경할 수 없음"
   ]
  },
  {
   "cell_type": "code",
   "execution_count": 33,
   "id": "31dbb6c3",
   "metadata": {},
   "outputs": [
    {
     "data": {
      "text/plain": [
       "(1, 2)"
      ]
     },
     "execution_count": 33,
     "metadata": {},
     "output_type": "execute_result"
    }
   ],
   "source": [
    "tup1=()\n",
    "tup1\n",
    "type(tup1)\n",
    "\n",
    "# tup2=(1)\n",
    "# tup2\n",
    "# type(tup2) #int\n",
    "\n",
    "tup2=(1,)\n",
    "tup2\n",
    "type(tup2)\n",
    "\n",
    "tup3=(10,20,30)\n",
    "tup3\n",
    "\n",
    "#tup4=1,2\n",
    "tup4=(1,2)\n",
    "tup4\n"
   ]
  },
  {
   "cell_type": "code",
   "execution_count": null,
   "id": "637b0fab",
   "metadata": {},
   "outputs": [],
   "source": []
  },
  {
   "cell_type": "code",
   "execution_count": 34,
   "id": "b4fbccb6",
   "metadata": {},
   "outputs": [
    {
     "data": {
      "text/plain": [
       "(1, 2)"
      ]
     },
     "execution_count": 34,
     "metadata": {},
     "output_type": "execute_result"
    }
   ],
   "source": [
    "tup4"
   ]
  },
  {
   "cell_type": "code",
   "execution_count": 39,
   "id": "85517332",
   "metadata": {},
   "outputs": [
    {
     "ename": "TypeError",
     "evalue": "'tuple' object does not support item assignment",
     "output_type": "error",
     "traceback": [
      "\u001b[1;31m---------------------------------------------------------------------------\u001b[0m",
      "\u001b[1;31mTypeError\u001b[0m                                 Traceback (most recent call last)",
      "\u001b[1;32m<ipython-input-39-e7985aeef596>\u001b[0m in \u001b[0;36m<module>\u001b[1;34m\u001b[0m\n\u001b[0;32m      5\u001b[0m \u001b[1;31m#tup4[1]=3\u001b[0m\u001b[1;33m\u001b[0m\u001b[1;33m\u001b[0m\u001b[1;33m\u001b[0m\u001b[0m\n\u001b[0;32m      6\u001b[0m \u001b[1;33m\u001b[0m\u001b[0m\n\u001b[1;32m----> 7\u001b[1;33m \u001b[0mtup4\u001b[0m\u001b[1;33m[\u001b[0m\u001b[1;36m3\u001b[0m\u001b[1;33m]\u001b[0m\u001b[1;33m=\u001b[0m\u001b[1;36m3\u001b[0m\u001b[1;33m\u001b[0m\u001b[1;33m\u001b[0m\u001b[0m\n\u001b[0m",
      "\u001b[1;31mTypeError\u001b[0m: 'tuple' object does not support item assignment"
     ]
    }
   ],
   "source": [
    "#에러 발생의 경우\n",
    "\n",
    "#del tup4[0]\n",
    "\n",
    "#tup4[1]=3\n",
    "\n",
    "tup4[3]=3"
   ]
  },
  {
   "cell_type": "code",
   "execution_count": 40,
   "id": "625f27c5",
   "metadata": {},
   "outputs": [
    {
     "data": {
      "text/plain": [
       "(1, 2)"
      ]
     },
     "execution_count": 40,
     "metadata": {},
     "output_type": "execute_result"
    }
   ],
   "source": [
    "tup4"
   ]
  },
  {
   "cell_type": "code",
   "execution_count": 42,
   "id": "3e11c6f9",
   "metadata": {},
   "outputs": [],
   "source": [
    "l4=list(tup4) #튜플 -> 리스트"
   ]
  },
  {
   "cell_type": "code",
   "execution_count": 44,
   "id": "81493b71",
   "metadata": {},
   "outputs": [
    {
     "data": {
      "text/plain": [
       "[1, 3]"
      ]
     },
     "execution_count": 44,
     "metadata": {},
     "output_type": "execute_result"
    }
   ],
   "source": [
    "l4[1]=3\n",
    "l4"
   ]
  },
  {
   "cell_type": "code",
   "execution_count": 46,
   "id": "45a71fca",
   "metadata": {},
   "outputs": [],
   "source": [
    "tup4=tuple(l4)"
   ]
  },
  {
   "cell_type": "code",
   "execution_count": 47,
   "id": "cd9117d2",
   "metadata": {},
   "outputs": [
    {
     "data": {
      "text/plain": [
       "(1, 3)"
      ]
     },
     "execution_count": 47,
     "metadata": {},
     "output_type": "execute_result"
    }
   ],
   "source": [
    "tup4"
   ]
  },
  {
   "cell_type": "code",
   "execution_count": 48,
   "id": "7cd871ec",
   "metadata": {},
   "outputs": [
    {
     "data": {
      "text/plain": [
       "(10, 20, '가', '나')"
      ]
     },
     "execution_count": 48,
     "metadata": {},
     "output_type": "execute_result"
    }
   ],
   "source": [
    "tup5=(10,20,'가', '나')\n",
    "tup5"
   ]
  },
  {
   "cell_type": "code",
   "execution_count": 50,
   "id": "a936cdd7",
   "metadata": {},
   "outputs": [
    {
     "data": {
      "text/plain": [
       "('가', '나')"
      ]
     },
     "execution_count": 50,
     "metadata": {},
     "output_type": "execute_result"
    }
   ],
   "source": [
    "tup5[3]\n",
    "tup5[2:]"
   ]
  },
  {
   "cell_type": "code",
   "execution_count": 57,
   "id": "33f30529",
   "metadata": {},
   "outputs": [
    {
     "name": "stdout",
     "output_type": "stream",
     "text": [
      "(10, 20, '가', '나')\n",
      "(10, 20, 30)\n"
     ]
    },
    {
     "data": {
      "text/plain": [
       "(10, 20, '가', '나', 10, 20, 30)"
      ]
     },
     "execution_count": 57,
     "metadata": {},
     "output_type": "execute_result"
    }
   ],
   "source": [
    "print(tup5)\n",
    "print(tup3)\n",
    "tup5+tup3"
   ]
  },
  {
   "cell_type": "code",
   "execution_count": 55,
   "id": "cf7e863b",
   "metadata": {},
   "outputs": [
    {
     "data": {
      "text/plain": [
       "[1, 2, 3, 4]"
      ]
     },
     "execution_count": 55,
     "metadata": {},
     "output_type": "execute_result"
    }
   ],
   "source": [
    "li1=[1,2]\n",
    "li2=[3,4]\n",
    "li1+li2"
   ]
  },
  {
   "cell_type": "code",
   "execution_count": 58,
   "id": "fd278140",
   "metadata": {},
   "outputs": [
    {
     "data": {
      "text/plain": [
       "[1, 2, 1, 2, 1, 2, 1, 2, 1, 2]"
      ]
     },
     "execution_count": 58,
     "metadata": {},
     "output_type": "execute_result"
    }
   ],
   "source": [
    "li1*5"
   ]
  },
  {
   "cell_type": "code",
   "execution_count": 60,
   "id": "5bf64a33",
   "metadata": {},
   "outputs": [
    {
     "data": {
      "text/plain": [
       "(10, 20, '가', '나', 10, 20, '가', '나', 10, 20, '가', '나')"
      ]
     },
     "execution_count": 60,
     "metadata": {},
     "output_type": "execute_result"
    }
   ],
   "source": [
    "tup5*3"
   ]
  },
  {
   "cell_type": "code",
   "execution_count": 61,
   "id": "ca735793",
   "metadata": {},
   "outputs": [
    {
     "data": {
      "text/plain": [
       "2"
      ]
     },
     "execution_count": 61,
     "metadata": {},
     "output_type": "execute_result"
    }
   ],
   "source": [
    "len(li1)"
   ]
  },
  {
   "cell_type": "code",
   "execution_count": 63,
   "id": "2d91cf31",
   "metadata": {},
   "outputs": [
    {
     "data": {
      "text/plain": [
       "4"
      ]
     },
     "execution_count": 63,
     "metadata": {},
     "output_type": "execute_result"
    }
   ],
   "source": [
    "len(tup5)"
   ]
  },
  {
   "cell_type": "code",
   "execution_count": 64,
   "id": "d55faa06",
   "metadata": {},
   "outputs": [
    {
     "data": {
      "text/plain": [
       "range(0, 5)"
      ]
     },
     "execution_count": 64,
     "metadata": {},
     "output_type": "execute_result"
    }
   ],
   "source": [
    "range(5) #0~4"
   ]
  },
  {
   "cell_type": "code",
   "execution_count": 65,
   "id": "cd8a8995",
   "metadata": {},
   "outputs": [
    {
     "data": {
      "text/plain": [
       "(0, 1, 2, 3, 4)"
      ]
     },
     "execution_count": 65,
     "metadata": {},
     "output_type": "execute_result"
    }
   ],
   "source": [
    "tuple(range(5))"
   ]
  },
  {
   "cell_type": "code",
   "execution_count": 66,
   "id": "fde3cd81",
   "metadata": {},
   "outputs": [
    {
     "data": {
      "text/plain": [
       "[0, 1, 2, 3, 4]"
      ]
     },
     "execution_count": 66,
     "metadata": {},
     "output_type": "execute_result"
    }
   ],
   "source": [
    "list(range(5))"
   ]
  },
  {
   "cell_type": "code",
   "execution_count": 67,
   "id": "9f3e1d84",
   "metadata": {},
   "outputs": [
    {
     "data": {
      "text/plain": [
       "(10, 11, 12, 13, 14)"
      ]
     },
     "execution_count": 67,
     "metadata": {},
     "output_type": "execute_result"
    }
   ],
   "source": [
    "tuple(range(10, 15))"
   ]
  },
  {
   "cell_type": "code",
   "execution_count": 70,
   "id": "1c17cf4a",
   "metadata": {},
   "outputs": [
    {
     "data": {
      "text/plain": [
       "['d', 'a', 't', 'a']"
      ]
     },
     "execution_count": 70,
     "metadata": {},
     "output_type": "execute_result"
    }
   ],
   "source": [
    "list(\"data\")"
   ]
  },
  {
   "cell_type": "code",
   "execution_count": 71,
   "id": "a41fd2bf",
   "metadata": {},
   "outputs": [
    {
     "data": {
      "text/plain": [
       "('d', 'a', 't', 'a')"
      ]
     },
     "execution_count": 71,
     "metadata": {},
     "output_type": "execute_result"
    }
   ],
   "source": [
    "tuple(\"data\")"
   ]
  },
  {
   "cell_type": "code",
   "execution_count": 72,
   "id": "4f47d968",
   "metadata": {},
   "outputs": [],
   "source": [
    "#set(셋):파이썬에서 집합을 의미\n",
    "#중괄호, 컴마로 구분"
   ]
  },
  {
   "cell_type": "code",
   "execution_count": 77,
   "id": "deecf4a9",
   "metadata": {},
   "outputs": [
    {
     "data": {
      "text/plain": [
       "{'bye', 'hello', 'hi'}"
      ]
     },
     "execution_count": 77,
     "metadata": {},
     "output_type": "execute_result"
    }
   ],
   "source": [
    "s1={1,2,3,1,2,4}\n",
    "s1\n",
    "s2={'hi', 'hello', 'bye', 'hi'}\n",
    "s2 #자료가 랜덤하게 출력, 저장 순서가 없음 => 대괄호 기호를 사용하여\n",
    "#데이터 참조를 할 수 없음\n",
    "\n",
    "# s2 = {'a', 3, 'b', 1, 'c', 1, 2, 3}   # {1, 2, 3, 'a', 'b', 'c'}\n",
    "# s2"
   ]
  },
  {
   "cell_type": "code",
   "execution_count": 79,
   "id": "8406620a",
   "metadata": {},
   "outputs": [],
   "source": [
    "#리스트나 튜플에서는 데이터 참조시 대괄호([]) 기호를 사용\n",
    "#리스트변수명[3] : 3번 index 자료 추출\n",
    "#s2[1] 에러 발생"
   ]
  },
  {
   "cell_type": "code",
   "execution_count": 80,
   "id": "b34dd672",
   "metadata": {},
   "outputs": [
    {
     "data": {
      "text/plain": [
       "{'bye', 'hello', 'hi'}"
      ]
     },
     "execution_count": 80,
     "metadata": {},
     "output_type": "execute_result"
    }
   ],
   "source": [
    "s2={'hi', 'hello', 'bye', 'hi'}\n",
    "s2 "
   ]
  },
  {
   "cell_type": "code",
   "execution_count": 84,
   "id": "2db6b815",
   "metadata": {},
   "outputs": [
    {
     "data": {
      "text/plain": [
       "False"
      ]
     },
     "execution_count": 84,
     "metadata": {},
     "output_type": "execute_result"
    }
   ],
   "source": [
    "#in 연산자\n",
    "'key' in s2\n",
    "'bye' in s2\n",
    "\n",
    "#not in 연산자\n",
    "'bye' not in s2"
   ]
  },
  {
   "cell_type": "code",
   "execution_count": 85,
   "id": "286797fc",
   "metadata": {},
   "outputs": [
    {
     "data": {
      "text/plain": [
       "{'e', 'h', 'l', 'o'}"
      ]
     },
     "execution_count": 85,
     "metadata": {},
     "output_type": "execute_result"
    }
   ],
   "source": [
    "a=set('hello')\n",
    "a\n"
   ]
  },
  {
   "cell_type": "code",
   "execution_count": 87,
   "id": "74c72c6c",
   "metadata": {},
   "outputs": [
    {
     "data": {
      "text/plain": [
       "range(0, 5)"
      ]
     },
     "execution_count": 87,
     "metadata": {},
     "output_type": "execute_result"
    }
   ],
   "source": [
    "range(5) #range객체 : 0~4까지 범위를 갖는 값들을 포장해놓은 포장물(객체)\n",
    "\n",
    "#객체? 객체지향언어에 등장하는 클래스로부터 파생된 실체(인스턴스)"
   ]
  },
  {
   "cell_type": "code",
   "execution_count": 90,
   "id": "9326819b",
   "metadata": {},
   "outputs": [
    {
     "data": {
      "text/plain": [
       "{0, 1, 2, 3, 4}"
      ]
     },
     "execution_count": 90,
     "metadata": {},
     "output_type": "execute_result"
    }
   ],
   "source": [
    "list(range(5)) #포장지를 뜯어서 리스트 형태로 만듬\n",
    "tuple(range(5)) #포장지를 뜯어서 튜플 형태로 만듬\n",
    "set(range(5))#포장지를 뜯어서 집합 형태로 만듬"
   ]
  },
  {
   "cell_type": "code",
   "execution_count": 92,
   "id": "4edc2335",
   "metadata": {},
   "outputs": [
    {
     "data": {
      "text/plain": [
       "set()"
      ]
     },
     "execution_count": 92,
     "metadata": {},
     "output_type": "execute_result"
    }
   ],
   "source": [
    "c=set()\n",
    "c #공집합"
   ]
  },
  {
   "cell_type": "code",
   "execution_count": 94,
   "id": "c06693ee",
   "metadata": {},
   "outputs": [
    {
     "data": {
      "text/plain": [
       "dict"
      ]
     },
     "execution_count": 94,
     "metadata": {},
     "output_type": "execute_result"
    }
   ],
   "source": [
    "c={} #dictionary\n",
    "type(c) "
   ]
  },
  {
   "cell_type": "code",
   "execution_count": 95,
   "id": "f488fab1",
   "metadata": {},
   "outputs": [
    {
     "data": {
      "text/plain": [
       "{'가', '반', '요', '워'}"
      ]
     },
     "execution_count": 95,
     "metadata": {},
     "output_type": "execute_result"
    }
   ],
   "source": [
    "set(\"반가워요반가워\")"
   ]
  },
  {
   "cell_type": "code",
   "execution_count": 98,
   "id": "b14ae5d8",
   "metadata": {},
   "outputs": [],
   "source": [
    "a={10,20,30}\n",
    "b={30,40,50}\n",
    "#c={}   dict"
   ]
  },
  {
   "cell_type": "code",
   "execution_count": 102,
   "id": "d8f4af4e",
   "metadata": {},
   "outputs": [
    {
     "data": {
      "text/plain": [
       "{10, 20, 30, 40, 50}"
      ]
     },
     "execution_count": 102,
     "metadata": {},
     "output_type": "execute_result"
    }
   ],
   "source": [
    "a | b   #or 연산자, 합집합(union)\n",
    "set.union(a,b)"
   ]
  },
  {
   "cell_type": "code",
   "execution_count": 104,
   "id": "d7958da8",
   "metadata": {},
   "outputs": [
    {
     "data": {
      "text/plain": [
       "{30}"
      ]
     },
     "execution_count": 104,
     "metadata": {},
     "output_type": "execute_result"
    }
   ],
   "source": [
    "#교집합(intersection)\n",
    "a & b #and 연산자, 교집합\n",
    "set.intersection(a,b)"
   ]
  },
  {
   "cell_type": "code",
   "execution_count": 106,
   "id": "95fb416c",
   "metadata": {},
   "outputs": [
    {
     "data": {
      "text/plain": [
       "{10, 20}"
      ]
     },
     "execution_count": 106,
     "metadata": {},
     "output_type": "execute_result"
    }
   ],
   "source": [
    "#차집합(difference)\n",
    "a - b\n",
    "set.difference(a,b)"
   ]
  },
  {
   "cell_type": "code",
   "execution_count": 107,
   "id": "4251ba0a",
   "metadata": {},
   "outputs": [
    {
     "data": {
      "text/plain": [
       "{10, 20, 40, 50}"
      ]
     },
     "execution_count": 107,
     "metadata": {},
     "output_type": "execute_result"
    }
   ],
   "source": [
    "#대칭차집합, XOR 연산\n",
    "a ^ b"
   ]
  },
  {
   "cell_type": "code",
   "execution_count": 108,
   "id": "bb76f78b",
   "metadata": {},
   "outputs": [],
   "source": [
    "a={10,20,30}"
   ]
  },
  {
   "cell_type": "code",
   "execution_count": 109,
   "id": "6503bb95",
   "metadata": {},
   "outputs": [],
   "source": [
    "a.add(40)"
   ]
  },
  {
   "cell_type": "code",
   "execution_count": 110,
   "id": "ff2716c4",
   "metadata": {},
   "outputs": [
    {
     "data": {
      "text/plain": [
       "{10, 20, 30, 40}"
      ]
     },
     "execution_count": 110,
     "metadata": {},
     "output_type": "execute_result"
    }
   ],
   "source": [
    "a"
   ]
  },
  {
   "cell_type": "code",
   "execution_count": 112,
   "id": "5506653d",
   "metadata": {},
   "outputs": [],
   "source": [
    "a.remove(20)"
   ]
  },
  {
   "cell_type": "code",
   "execution_count": 113,
   "id": "28dcaf4b",
   "metadata": {},
   "outputs": [
    {
     "data": {
      "text/plain": [
       "{10, 30, 40}"
      ]
     },
     "execution_count": 113,
     "metadata": {},
     "output_type": "execute_result"
    }
   ],
   "source": [
    "a"
   ]
  },
  {
   "cell_type": "code",
   "execution_count": 117,
   "id": "70fcf7dd",
   "metadata": {},
   "outputs": [],
   "source": [
    "#a.remove(20)  에러발생\n",
    "\n",
    "#a.discard(20) 에러 발생 안함\n",
    "\n",
    "a.discard(30) "
   ]
  },
  {
   "cell_type": "code",
   "execution_count": 118,
   "id": "3cde7377",
   "metadata": {},
   "outputs": [
    {
     "data": {
      "text/plain": [
       "{10, 40}"
      ]
     },
     "execution_count": 118,
     "metadata": {},
     "output_type": "execute_result"
    }
   ],
   "source": [
    "a"
   ]
  },
  {
   "cell_type": "code",
   "execution_count": 120,
   "id": "e54bcd1e",
   "metadata": {},
   "outputs": [],
   "source": [
    "#a.remove(30)\n",
    "a.discard(30) "
   ]
  },
  {
   "cell_type": "code",
   "execution_count": 131,
   "id": "3ecf4189",
   "metadata": {},
   "outputs": [
    {
     "data": {
      "text/plain": [
       "{10, 20, 30, 'k', '가', '나'}"
      ]
     },
     "execution_count": 131,
     "metadata": {},
     "output_type": "execute_result"
    }
   ],
   "source": [
    "a={'나',10,20,30,'가', 'k'}\n",
    "a"
   ]
  },
  {
   "cell_type": "code",
   "execution_count": 132,
   "id": "410e4bf1",
   "metadata": {},
   "outputs": [
    {
     "data": {
      "text/plain": [
       "'나'"
      ]
     },
     "execution_count": 132,
     "metadata": {},
     "output_type": "execute_result"
    }
   ],
   "source": [
    "a.pop()"
   ]
  },
  {
   "cell_type": "code",
   "execution_count": 133,
   "id": "570877c0",
   "metadata": {},
   "outputs": [
    {
     "data": {
      "text/plain": [
       "{10, 20, 30, 'k', '가'}"
      ]
     },
     "execution_count": 133,
     "metadata": {},
     "output_type": "execute_result"
    }
   ],
   "source": [
    "a"
   ]
  },
  {
   "cell_type": "code",
   "execution_count": 134,
   "id": "5debae60",
   "metadata": {},
   "outputs": [
    {
     "data": {
      "text/plain": [
       "'k'"
      ]
     },
     "execution_count": 134,
     "metadata": {},
     "output_type": "execute_result"
    }
   ],
   "source": [
    "a.pop()"
   ]
  },
  {
   "cell_type": "code",
   "execution_count": 130,
   "id": "21be5d62",
   "metadata": {},
   "outputs": [
    {
     "data": {
      "text/plain": [
       "{10, 20, 30, '가'}"
      ]
     },
     "execution_count": 130,
     "metadata": {},
     "output_type": "execute_result"
    }
   ],
   "source": [
    "a"
   ]
  },
  {
   "cell_type": "code",
   "execution_count": 135,
   "id": "701fab96",
   "metadata": {},
   "outputs": [],
   "source": [
    "#집합은 자료의 순서가 유지가 안됨\n",
    "\n",
    "#set 자료구조는 자료의 저장 순서가 필요없으면서 중복을 제거해야 하는 상황에\n",
    "#사용"
   ]
  },
  {
   "cell_type": "code",
   "execution_count": 137,
   "id": "dcf64988",
   "metadata": {},
   "outputs": [],
   "source": [
    "a.clear()"
   ]
  },
  {
   "cell_type": "code",
   "execution_count": 138,
   "id": "ae7b4fc4",
   "metadata": {},
   "outputs": [
    {
     "data": {
      "text/plain": [
       "set()"
      ]
     },
     "execution_count": 138,
     "metadata": {},
     "output_type": "execute_result"
    }
   ],
   "source": [
    "a"
   ]
  },
  {
   "cell_type": "code",
   "execution_count": 139,
   "id": "e4c41041",
   "metadata": {},
   "outputs": [],
   "source": [
    "s={10,20,30}"
   ]
  },
  {
   "cell_type": "code",
   "execution_count": 140,
   "id": "7a0038e0",
   "metadata": {},
   "outputs": [],
   "source": [
    "s2=s"
   ]
  },
  {
   "cell_type": "code",
   "execution_count": 142,
   "id": "eed62edb",
   "metadata": {},
   "outputs": [
    {
     "data": {
      "text/plain": [
       "{10, 20, 30}"
      ]
     },
     "execution_count": 142,
     "metadata": {},
     "output_type": "execute_result"
    }
   ],
   "source": [
    "s2"
   ]
  },
  {
   "cell_type": "code",
   "execution_count": 143,
   "id": "b1b2e24d",
   "metadata": {},
   "outputs": [],
   "source": [
    " #대입연산자로 새로운 변수에 할당하게 되면, 셋이 2개가 아니라 여전히 1개"
   ]
  },
  {
   "cell_type": "code",
   "execution_count": 144,
   "id": "8586c8cf",
   "metadata": {},
   "outputs": [
    {
     "data": {
      "text/plain": [
       "{10, 20, 30, 40}"
      ]
     },
     "execution_count": 144,
     "metadata": {},
     "output_type": "execute_result"
    }
   ],
   "source": [
    "s2.add(40)\n",
    "s2"
   ]
  },
  {
   "cell_type": "code",
   "execution_count": 145,
   "id": "029eb0d7",
   "metadata": {},
   "outputs": [
    {
     "data": {
      "text/plain": [
       "{10, 20, 30, 40}"
      ]
     },
     "execution_count": 145,
     "metadata": {},
     "output_type": "execute_result"
    }
   ],
   "source": [
    "s"
   ]
  },
  {
   "cell_type": "code",
   "execution_count": 146,
   "id": "612bb9a8",
   "metadata": {},
   "outputs": [],
   "source": [
    "#is : s, s2 집합이 동일한 집합인지 확인하는 연산자"
   ]
  },
  {
   "cell_type": "code",
   "execution_count": 147,
   "id": "62e0b738",
   "metadata": {},
   "outputs": [
    {
     "data": {
      "text/plain": [
       "True"
      ]
     },
     "execution_count": 147,
     "metadata": {},
     "output_type": "execute_result"
    }
   ],
   "source": [
    "s is s2"
   ]
  },
  {
   "cell_type": "code",
   "execution_count": 148,
   "id": "a9504ffc",
   "metadata": {},
   "outputs": [],
   "source": [
    "#copy() : 두 개의 완전히 분리된 집합을 생성하기 위한 함수"
   ]
  },
  {
   "cell_type": "code",
   "execution_count": 149,
   "id": "6b46d549",
   "metadata": {},
   "outputs": [],
   "source": [
    "a={10,20,30}"
   ]
  },
  {
   "cell_type": "code",
   "execution_count": 150,
   "id": "ccee5c40",
   "metadata": {},
   "outputs": [],
   "source": [
    "#b=a 동일한 집합\n",
    "b=a.copy()"
   ]
  },
  {
   "cell_type": "code",
   "execution_count": 151,
   "id": "ecd80857",
   "metadata": {},
   "outputs": [
    {
     "data": {
      "text/plain": [
       "{10, 20, 30}"
      ]
     },
     "execution_count": 151,
     "metadata": {},
     "output_type": "execute_result"
    }
   ],
   "source": [
    "b"
   ]
  },
  {
   "cell_type": "code",
   "execution_count": 153,
   "id": "f6c65e16",
   "metadata": {},
   "outputs": [
    {
     "name": "stdout",
     "output_type": "stream",
     "text": [
      "False\n",
      "True\n"
     ]
    }
   ],
   "source": [
    "#is : 두 집합이 동일한지(메모리 상의 주소, 위치) 확인\n",
    "print(a is b)\n",
    "#False의 의미? a 집합과 b 집합의 자료들이 메모리 상의 다른 위치에 저장되어 있음\n",
    "\n",
    "# == : 두 집합에 속해있는 요소{1,2,3}가 동일한지 확인\n",
    "print(a == b)"
   ]
  },
  {
   "cell_type": "code",
   "execution_count": 154,
   "id": "1291496d",
   "metadata": {},
   "outputs": [
    {
     "data": {
      "text/plain": [
       "{10, 20, 30}"
      ]
     },
     "execution_count": 154,
     "metadata": {},
     "output_type": "execute_result"
    }
   ],
   "source": [
    "a"
   ]
  },
  {
   "cell_type": "code",
   "execution_count": 155,
   "id": "6dd2d7b6",
   "metadata": {},
   "outputs": [
    {
     "data": {
      "text/plain": [
       "{10, 20, 30}"
      ]
     },
     "execution_count": 155,
     "metadata": {},
     "output_type": "execute_result"
    }
   ],
   "source": [
    "b"
   ]
  },
  {
   "cell_type": "code",
   "execution_count": 156,
   "id": "5eff02e2",
   "metadata": {},
   "outputs": [
    {
     "data": {
      "text/plain": [
       "{10, 20, 30, 40}"
      ]
     },
     "execution_count": 156,
     "metadata": {},
     "output_type": "execute_result"
    }
   ],
   "source": [
    "b.add(40) \n",
    "b"
   ]
  },
  {
   "cell_type": "code",
   "execution_count": 157,
   "id": "57284749",
   "metadata": {},
   "outputs": [
    {
     "data": {
      "text/plain": [
       "{10, 20, 30}"
      ]
     },
     "execution_count": 157,
     "metadata": {},
     "output_type": "execute_result"
    }
   ],
   "source": [
    "a"
   ]
  },
  {
   "cell_type": "code",
   "execution_count": null,
   "id": "365094fa",
   "metadata": {},
   "outputs": [],
   "source": [
    "#단어 : 설명\n",
    "#딕셔너리 -> 키 : 값\n",
    "#딕셔너리 : 키와 값(밸류, value)의 쌍으로 구성\n",
    "#json파일이 딕셔너리 구조"
   ]
  },
  {
   "cell_type": "code",
   "execution_count": 158,
   "id": "3463f76f",
   "metadata": {},
   "outputs": [],
   "source": [
    "#딕셔너리={키1:값1, 키2:값2, ..., 키n:값n}"
   ]
  },
  {
   "cell_type": "code",
   "execution_count": 171,
   "id": "3f0d0013",
   "metadata": {},
   "outputs": [],
   "source": [
    "people={'name':'kim',\n",
    "        'cp':114,\n",
    "        'birth':'0707',\n",
    "        'gender':None,\n",
    "       10:'ten',\n",
    "        True:1,\n",
    "        'nickname':['ai', 'robot'],\n",
    "        #['ai', 'robot']:'nickname',        \n",
    "        'dic1':{'dic2':'value1', 'dic3':'value2'},               \n",
    "       'cp':119} \n",
    "#키 이름이 중복되면 마지막 키에 해당하는 값이 저장"
   ]
  },
  {
   "cell_type": "code",
   "execution_count": 172,
   "id": "7bef47da",
   "metadata": {},
   "outputs": [
    {
     "data": {
      "text/plain": [
       "{'name': 'kim',\n",
       " 'cp': 119,\n",
       " 'birth': '0707',\n",
       " 'gender': None,\n",
       " 10: 'ten',\n",
       " True: 1,\n",
       " 'nickname': ['ai', 'robot'],\n",
       " 'dic1': {'dic2': 'value1', 'dic3': 'value2'}}"
      ]
     },
     "execution_count": 172,
     "metadata": {},
     "output_type": "execute_result"
    }
   ],
   "source": [
    "people"
   ]
  },
  {
   "cell_type": "code",
   "execution_count": 173,
   "id": "2e45235a",
   "metadata": {},
   "outputs": [],
   "source": [
    "# 변수명={\n",
    "#     성명,\n",
    "#     주소,\n",
    "#     성별,\n",
    "#     별명,\n",
    "#     취미\n",
    "# }"
   ]
  },
  {
   "cell_type": "code",
   "execution_count": 175,
   "id": "a2b244c3",
   "metadata": {},
   "outputs": [],
   "source": [
    "s={}\n",
    "s=dict()"
   ]
  },
  {
   "cell_type": "code",
   "execution_count": 178,
   "id": "8fb3bdee",
   "metadata": {},
   "outputs": [
    {
     "data": {
      "text/plain": [
       "dict"
      ]
     },
     "execution_count": 178,
     "metadata": {},
     "output_type": "execute_result"
    }
   ],
   "source": [
    "type(s)"
   ]
  },
  {
   "cell_type": "code",
   "execution_count": 182,
   "id": "bbad528f",
   "metadata": {},
   "outputs": [],
   "source": [
    "dict()\n",
    "\n",
    "#people={'name':'kim', 'cp':114}\n",
    "\n",
    "#mydic=dict(name='kim', cp=114)\n",
    "\n",
    "#mydic=dict('name'='kim', 'cp'=114)  에러 발생\n",
    "#키에 작은/큰 따옴표를 사용하면 안됨!!!\n",
    "\n",
    "mydic=dict(name='kim', cp=114)"
   ]
  },
  {
   "cell_type": "code",
   "execution_count": 180,
   "id": "0afbda42",
   "metadata": {},
   "outputs": [
    {
     "data": {
      "text/plain": [
       "{'name': 'kim', 'cp': 114}"
      ]
     },
     "execution_count": 180,
     "metadata": {},
     "output_type": "execute_result"
    }
   ],
   "source": [
    "mydic"
   ]
  },
  {
   "cell_type": "code",
   "execution_count": 187,
   "id": "59ba5c3d",
   "metadata": {},
   "outputs": [],
   "source": [
    "# dict(name='kim', cp=114, 10='ten') #오류\n",
    "\n",
    "#people={'name':'kim', 'cp':114, 10:'ten'} #가능"
   ]
  },
  {
   "cell_type": "code",
   "execution_count": null,
   "id": "87fe0aab",
   "metadata": {},
   "outputs": [],
   "source": [
    "#dict함수와 zip함수를 활용하여 딕셔너리를 생성\n",
    "#잘 사용하지 않는 방법\n",
    "\n",
    "dict()\n"
   ]
  },
  {
   "cell_type": "code",
   "execution_count": 189,
   "id": "98959b9c",
   "metadata": {},
   "outputs": [
    {
     "data": {
      "text/plain": [
       "{'one': 1, 'two': 2}"
      ]
     },
     "execution_count": 189,
     "metadata": {},
     "output_type": "execute_result"
    }
   ],
   "source": [
    "mydic=dict(zip(['one', 'two'], [1, 2]))"
   ]
  },
  {
   "cell_type": "code",
   "execution_count": null,
   "id": "c8f36a6c",
   "metadata": {},
   "outputs": [],
   "source": [
    "mydic={'one': 1, \n",
    "       'two': 2}"
   ]
  },
  {
   "cell_type": "code",
   "execution_count": 190,
   "id": "7c0e08b2",
   "metadata": {},
   "outputs": [
    {
     "data": {
      "text/plain": [
       "{'name': 'kim', 'cp': 114}"
      ]
     },
     "execution_count": 190,
     "metadata": {},
     "output_type": "execute_result"
    }
   ],
   "source": [
    "mydic"
   ]
  },
  {
   "cell_type": "code",
   "execution_count": 191,
   "id": "3660b044",
   "metadata": {},
   "outputs": [
    {
     "data": {
      "text/plain": [
       "'kim'"
      ]
     },
     "execution_count": 191,
     "metadata": {},
     "output_type": "execute_result"
    }
   ],
   "source": [
    "#딕셔너리의 키에 연결된 값을 추출하는 작업\n",
    "mydic['name']"
   ]
  },
  {
   "cell_type": "code",
   "execution_count": 192,
   "id": "3c3f1f62",
   "metadata": {},
   "outputs": [],
   "source": [
    "mydic['cp']=119"
   ]
  },
  {
   "cell_type": "code",
   "execution_count": 193,
   "id": "f8c0ec8b",
   "metadata": {},
   "outputs": [
    {
     "data": {
      "text/plain": [
       "{'name': 'kim', 'cp': 119}"
      ]
     },
     "execution_count": 193,
     "metadata": {},
     "output_type": "execute_result"
    }
   ],
   "source": [
    "mydic"
   ]
  },
  {
   "cell_type": "code",
   "execution_count": 194,
   "id": "16e18b66",
   "metadata": {},
   "outputs": [],
   "source": [
    "mydic['bloodtype']='B'"
   ]
  },
  {
   "cell_type": "code",
   "execution_count": 195,
   "id": "bcecf3d3",
   "metadata": {},
   "outputs": [
    {
     "data": {
      "text/plain": [
       "{'name': 'kim', 'cp': 119, 'bloodtype': 'B'}"
      ]
     },
     "execution_count": 195,
     "metadata": {},
     "output_type": "execute_result"
    }
   ],
   "source": [
    "mydic"
   ]
  },
  {
   "cell_type": "code",
   "execution_count": 201,
   "id": "6268cf14",
   "metadata": {},
   "outputs": [
    {
     "data": {
      "text/plain": [
       "True"
      ]
     },
     "execution_count": 201,
     "metadata": {},
     "output_type": "execute_result"
    }
   ],
   "source": [
    "#mydic['addr']\n",
    "\n",
    "#딕셔너리 키가 존재?\n",
    "'name' in mydic\n",
    "\n",
    "'addr' not in mydic"
   ]
  },
  {
   "cell_type": "code",
   "execution_count": 202,
   "id": "b066a746",
   "metadata": {},
   "outputs": [
    {
     "data": {
      "text/plain": [
       "3"
      ]
     },
     "execution_count": 202,
     "metadata": {},
     "output_type": "execute_result"
    }
   ],
   "source": [
    "len(mydic)"
   ]
  },
  {
   "cell_type": "code",
   "execution_count": 205,
   "id": "6ab732ab",
   "metadata": {},
   "outputs": [],
   "source": [
    "res=mydic.keys()"
   ]
  },
  {
   "cell_type": "code",
   "execution_count": 208,
   "id": "d479d00d",
   "metadata": {},
   "outputs": [
    {
     "data": {
      "text/plain": [
       "['name', 'cp', 'bloodtype']"
      ]
     },
     "execution_count": 208,
     "metadata": {},
     "output_type": "execute_result"
    }
   ],
   "source": [
    "list(res)"
   ]
  },
  {
   "cell_type": "code",
   "execution_count": 209,
   "id": "c905ca68",
   "metadata": {},
   "outputs": [
    {
     "name": "stdout",
     "output_type": "stream",
     "text": [
      "name\n",
      "cp\n",
      "bloodtype\n"
     ]
    }
   ],
   "source": [
    "for k in mydic.keys():\n",
    "    print(k)"
   ]
  },
  {
   "cell_type": "code",
   "execution_count": 212,
   "id": "1cd4f1e8",
   "metadata": {},
   "outputs": [
    {
     "data": {
      "text/plain": [
       "['kim', 119, 'B']"
      ]
     },
     "execution_count": 212,
     "metadata": {},
     "output_type": "execute_result"
    }
   ],
   "source": [
    "list(mydic.values())"
   ]
  },
  {
   "cell_type": "code",
   "execution_count": 213,
   "id": "a7a05bb7",
   "metadata": {},
   "outputs": [
    {
     "data": {
      "text/plain": [
       "dict_items([('name', 'kim'), ('cp', 119), ('bloodtype', 'B')])"
      ]
     },
     "execution_count": 213,
     "metadata": {},
     "output_type": "execute_result"
    }
   ],
   "source": [
    "mydic.items()"
   ]
  },
  {
   "cell_type": "code",
   "execution_count": 219,
   "id": "400fb401",
   "metadata": {},
   "outputs": [
    {
     "data": {
      "text/plain": [
       "'B'"
      ]
     },
     "execution_count": 219,
     "metadata": {},
     "output_type": "execute_result"
    }
   ],
   "source": [
    "list(mydic.items())\n",
    "#1개의 리스트 내부에 3개의 튜플이 존재\n",
    "#각 튜플은 2개의 요소로 구성\n",
    "list(mydic.items())[2][1]"
   ]
  },
  {
   "cell_type": "code",
   "execution_count": 215,
   "id": "1dc96d08",
   "metadata": {},
   "outputs": [
    {
     "data": {
      "text/plain": [
       "1"
      ]
     },
     "execution_count": 215,
     "metadata": {},
     "output_type": "execute_result"
    }
   ],
   "source": [
    "li=[1,2,3]\n",
    "li[0]"
   ]
  },
  {
   "cell_type": "code",
   "execution_count": 222,
   "id": "bd8fdc13",
   "metadata": {},
   "outputs": [
    {
     "data": {
      "text/plain": [
       "119"
      ]
     },
     "execution_count": 222,
     "metadata": {},
     "output_type": "execute_result"
    }
   ],
   "source": [
    "list(mydic.items())[1][1]"
   ]
  },
  {
   "cell_type": "code",
   "execution_count": 224,
   "id": "d9d87d11",
   "metadata": {},
   "outputs": [],
   "source": [
    "mydic.clear()"
   ]
  },
  {
   "cell_type": "code",
   "execution_count": 225,
   "id": "8e8aedaa",
   "metadata": {},
   "outputs": [
    {
     "data": {
      "text/plain": [
       "{}"
      ]
     },
     "execution_count": 225,
     "metadata": {},
     "output_type": "execute_result"
    }
   ],
   "source": [
    "mydic"
   ]
  },
  {
   "cell_type": "code",
   "execution_count": 226,
   "id": "de48155d",
   "metadata": {},
   "outputs": [
    {
     "data": {
      "text/plain": [
       "[]"
      ]
     },
     "execution_count": 226,
     "metadata": {},
     "output_type": "execute_result"
    }
   ],
   "source": [
    "list(mydic.items())"
   ]
  },
  {
   "cell_type": "code",
   "execution_count": 227,
   "id": "b33c323b",
   "metadata": {},
   "outputs": [],
   "source": [
    "li=[('name', 'kim'), ('cp', '119'), ('bloodtype', 'B')]"
   ]
  },
  {
   "cell_type": "code",
   "execution_count": 228,
   "id": "d0c59df3",
   "metadata": {},
   "outputs": [
    {
     "data": {
      "text/plain": [
       "[('name', 'kim'), ('cp', '119'), ('bloodtype', 'B')]"
      ]
     },
     "execution_count": 228,
     "metadata": {},
     "output_type": "execute_result"
    }
   ],
   "source": [
    "li"
   ]
  },
  {
   "cell_type": "code",
   "execution_count": 231,
   "id": "35a66ab8",
   "metadata": {},
   "outputs": [
    {
     "data": {
      "text/plain": [
       "{'name': 'kim', 'cp': '119', 'bloodtype': 'B'}"
      ]
     },
     "execution_count": 231,
     "metadata": {},
     "output_type": "execute_result"
    }
   ],
   "source": [
    "mydic=dict(li)\n",
    "mydic"
   ]
  },
  {
   "cell_type": "code",
   "execution_count": 237,
   "id": "d6f5c1c3",
   "metadata": {},
   "outputs": [
    {
     "data": {
      "text/plain": [
       "'B'"
      ]
     },
     "execution_count": 237,
     "metadata": {},
     "output_type": "execute_result"
    }
   ],
   "source": [
    "mydic['cp'] #mydic.get('cp')\n",
    "\n",
    "#mydic['addr'] #해당 키가 없는 경우에는 에러 발생\n",
    "mydic.get('addr', '서울')\n",
    "\n",
    "#bloodtype 키가 존재하면 값을 리턴, 키가 존재하지 않으면 A를 디폴트값으로 리턴\n",
    "mydic.get('bloodtype', 'A')"
   ]
  },
  {
   "cell_type": "code",
   "execution_count": 238,
   "id": "0b53ef50",
   "metadata": {},
   "outputs": [
    {
     "data": {
      "text/plain": [
       "{'name': 'kim', 'cp': '119', 'bloodtype': 'B'}"
      ]
     },
     "execution_count": 238,
     "metadata": {},
     "output_type": "execute_result"
    }
   ],
   "source": [
    "mydic"
   ]
  },
  {
   "cell_type": "code",
   "execution_count": 239,
   "id": "98864f85",
   "metadata": {},
   "outputs": [
    {
     "data": {
      "text/plain": [
       "False"
      ]
     },
     "execution_count": 239,
     "metadata": {},
     "output_type": "execute_result"
    }
   ],
   "source": [
    "'nickname' in mydic"
   ]
  },
  {
   "cell_type": "code",
   "execution_count": 240,
   "id": "073631e8",
   "metadata": {},
   "outputs": [],
   "source": [
    "del mydic['cp']"
   ]
  },
  {
   "cell_type": "code",
   "execution_count": 241,
   "id": "5866c3e4",
   "metadata": {},
   "outputs": [
    {
     "data": {
      "text/plain": [
       "{'name': 'kim', 'bloodtype': 'B'}"
      ]
     },
     "execution_count": 241,
     "metadata": {},
     "output_type": "execute_result"
    }
   ],
   "source": [
    "mydic"
   ]
  },
  {
   "cell_type": "code",
   "execution_count": 242,
   "id": "e9f76b8e",
   "metadata": {},
   "outputs": [
    {
     "data": {
      "text/plain": [
       "2"
      ]
     },
     "execution_count": 242,
     "metadata": {},
     "output_type": "execute_result"
    }
   ],
   "source": [
    "len(mydic)"
   ]
  },
  {
   "cell_type": "code",
   "execution_count": 243,
   "id": "c827fecc",
   "metadata": {},
   "outputs": [],
   "source": [
    "##딕셔너리 연습##"
   ]
  },
  {
   "cell_type": "code",
   "execution_count": 245,
   "id": "50710288",
   "metadata": {},
   "outputs": [],
   "source": [
    "t={'새우깡':1000, '감자칩':2000, '요구르트':500}"
   ]
  },
  {
   "cell_type": "code",
   "execution_count": 246,
   "id": "5dfeb72d",
   "metadata": {},
   "outputs": [
    {
     "data": {
      "text/plain": [
       "{'새우깡': 1000, '감자칩': 2000, '요구르트': 500}"
      ]
     },
     "execution_count": 246,
     "metadata": {},
     "output_type": "execute_result"
    }
   ],
   "source": [
    "t"
   ]
  },
  {
   "cell_type": "code",
   "execution_count": 247,
   "id": "750385fe",
   "metadata": {},
   "outputs": [],
   "source": [
    "t['생수']=500"
   ]
  },
  {
   "cell_type": "code",
   "execution_count": 248,
   "id": "014f5560",
   "metadata": {},
   "outputs": [
    {
     "data": {
      "text/plain": [
       "{'새우깡': 1000, '감자칩': 2000, '요구르트': 500, '생수': 500}"
      ]
     },
     "execution_count": 248,
     "metadata": {},
     "output_type": "execute_result"
    }
   ],
   "source": [
    "t"
   ]
  },
  {
   "cell_type": "code",
   "execution_count": 249,
   "id": "0bc6376e",
   "metadata": {},
   "outputs": [
    {
     "data": {
      "text/plain": [
       "1000"
      ]
     },
     "execution_count": 249,
     "metadata": {},
     "output_type": "execute_result"
    }
   ],
   "source": [
    "t['새우깡']"
   ]
  },
  {
   "cell_type": "code",
   "execution_count": 251,
   "id": "dfa80cd8",
   "metadata": {},
   "outputs": [],
   "source": [
    "t['감자칩']=1500"
   ]
  },
  {
   "cell_type": "code",
   "execution_count": 252,
   "id": "5d9ccf6e",
   "metadata": {},
   "outputs": [
    {
     "data": {
      "text/plain": [
       "{'새우깡': 1000, '감자칩': 1500, '요구르트': 500, '생수': 500}"
      ]
     },
     "execution_count": 252,
     "metadata": {},
     "output_type": "execute_result"
    }
   ],
   "source": [
    "t"
   ]
  },
  {
   "cell_type": "code",
   "execution_count": 253,
   "id": "1a56ba62",
   "metadata": {},
   "outputs": [],
   "source": [
    "del t['요구르트']"
   ]
  },
  {
   "cell_type": "code",
   "execution_count": 254,
   "id": "26a2e660",
   "metadata": {},
   "outputs": [
    {
     "data": {
      "text/plain": [
       "{'새우깡': 1000, '감자칩': 1500, '생수': 500}"
      ]
     },
     "execution_count": 254,
     "metadata": {},
     "output_type": "execute_result"
    }
   ],
   "source": [
    "t"
   ]
  },
  {
   "cell_type": "code",
   "execution_count": 255,
   "id": "337985c2",
   "metadata": {},
   "outputs": [],
   "source": [
    "# 새우깡 1000  5\n",
    "# 생수    500 10"
   ]
  },
  {
   "cell_type": "code",
   "execution_count": 256,
   "id": "04036b2c",
   "metadata": {},
   "outputs": [],
   "source": [
    "가격={'새우깡':1000, '생수':500}\n",
    "재고={'새우깡':5, '생수':10}"
   ]
  },
  {
   "cell_type": "code",
   "execution_count": 257,
   "id": "39f7f003",
   "metadata": {},
   "outputs": [],
   "source": [
    "제품={'새우깡':[1000,5], '생수':[500,10]}"
   ]
  },
  {
   "cell_type": "code",
   "execution_count": 259,
   "id": "751191ab",
   "metadata": {},
   "outputs": [
    {
     "data": {
      "text/plain": [
       "5"
      ]
     },
     "execution_count": 259,
     "metadata": {},
     "output_type": "execute_result"
    }
   ],
   "source": [
    "가격['새우깡']\n",
    "재고['새우깡']"
   ]
  },
  {
   "cell_type": "code",
   "execution_count": 260,
   "id": "d146972c",
   "metadata": {},
   "outputs": [
    {
     "data": {
      "text/plain": [
       "[500, 10]"
      ]
     },
     "execution_count": 260,
     "metadata": {},
     "output_type": "execute_result"
    }
   ],
   "source": [
    "제품['생수']"
   ]
  },
  {
   "cell_type": "code",
   "execution_count": 263,
   "id": "f30d8ba2",
   "metadata": {},
   "outputs": [
    {
     "data": {
      "text/plain": [
       "'1000원'"
      ]
     },
     "execution_count": 263,
     "metadata": {},
     "output_type": "execute_result"
    }
   ],
   "source": [
    "str(가격['새우깡'])+\"원\""
   ]
  },
  {
   "cell_type": "code",
   "execution_count": 264,
   "id": "d3a60f95",
   "metadata": {},
   "outputs": [
    {
     "name": "stdout",
     "output_type": "stream",
     "text": [
      "1000원 5개\n"
     ]
    }
   ],
   "source": [
    "print(str(가격['새우깡'])+\"원\", str(재고['새우깡'])+\"개\")"
   ]
  },
  {
   "cell_type": "code",
   "execution_count": 265,
   "id": "549d3a1f",
   "metadata": {},
   "outputs": [],
   "source": [
    "제품={'새우깡':[1000,5], '생수':[500,10]}\n",
    "#생수의 재고량을 출력"
   ]
  },
  {
   "cell_type": "code",
   "execution_count": 269,
   "id": "f55b668a",
   "metadata": {},
   "outputs": [
    {
     "name": "stdout",
     "output_type": "stream",
     "text": [
      "10\n",
      "10개\n"
     ]
    }
   ],
   "source": [
    "print(제품['생수'][1])\n",
    "print(str(제품['생수'][1])+\"개\")"
   ]
  },
  {
   "cell_type": "code",
   "execution_count": 275,
   "id": "7575e58c",
   "metadata": {},
   "outputs": [
    {
     "data": {
      "text/plain": [
       "'10개'"
      ]
     },
     "execution_count": 275,
     "metadata": {},
     "output_type": "execute_result"
    }
   ],
   "source": [
    "str(list(제품.items())[1][1][1])+\"개\""
   ]
  },
  {
   "cell_type": "code",
   "execution_count": 276,
   "id": "21c54a8e",
   "metadata": {},
   "outputs": [
    {
     "data": {
      "text/plain": [
       "dict_keys(['새우깡', '생수'])"
      ]
     },
     "execution_count": 276,
     "metadata": {},
     "output_type": "execute_result"
    }
   ],
   "source": [
    "제품.keys()"
   ]
  },
  {
   "cell_type": "code",
   "execution_count": null,
   "id": "a877721c",
   "metadata": {},
   "outputs": [],
   "source": []
  }
 ],
 "metadata": {
  "kernelspec": {
   "display_name": "Python 3",
   "language": "python",
   "name": "python3"
  },
  "language_info": {
   "codemirror_mode": {
    "name": "ipython",
    "version": 3
   },
   "file_extension": ".py",
   "mimetype": "text/x-python",
   "name": "python",
   "nbconvert_exporter": "python",
   "pygments_lexer": "ipython3",
   "version": "3.8.8"
  }
 },
 "nbformat": 4,
 "nbformat_minor": 5
}
