{
 "cells": [
  {
   "cell_type": "code",
   "execution_count": null,
   "id": "42206007",
   "metadata": {},
   "outputs": [],
   "source": [
    "# python 파일 읽기/쓰기\n",
    "# 파일 열기(open) -> 읽기(read)/쓰기(write) -> 파일 닫기(close)"
   ]
  },
  {
   "cell_type": "code",
   "execution_count": 13,
   "id": "c1a64682",
   "metadata": {},
   "outputs": [],
   "source": [
    "f=open(\"test.txt\",\"w\") # 읽기 모드로 open\n",
    "# 파일이 없으면 새로운 파일 만들고, 있으면 덮어쓰기 됨\n",
    "f.write(\"Hihello\") \n",
    "f.close()"
   ]
  },
  {
   "cell_type": "code",
   "execution_count": 14,
   "id": "52d47834",
   "metadata": {},
   "outputs": [
    {
     "name": "stdout",
     "output_type": "stream",
     "text": [
      "Hihello\n"
     ]
    }
   ],
   "source": [
    "f=open(\"test.txt\",\"r\")\n",
    "s=f.read() # 파일의 내용 저장\n",
    "print(s) # 확인\n",
    "f.close()"
   ]
  },
  {
   "cell_type": "code",
   "execution_count": 15,
   "id": "90ab53d2",
   "metadata": {},
   "outputs": [
    {
     "name": "stdout",
     "output_type": "stream",
     "text": [
      "Hihello\n"
     ]
    }
   ],
   "source": [
    "# 다른 방식\n",
    "# with as 구문\n",
    "with open(\"test.txt\",\"r\") as f:\n",
    "    s=f.read()\n",
    "    print(s)\n",
    "# close 따로 안해도 포함되있음"
   ]
  },
  {
   "cell_type": "code",
   "execution_count": 32,
   "id": "742b08d3",
   "metadata": {},
   "outputs": [],
   "source": [
    "# 여러 줄 작성 저장\n",
    "with open(\"test.txt\",\"w\") as f:\n",
    "    for i in range(3) :\n",
    "#         f.write(\"hello{1} world{0}\".format(i+1,999))\n",
    "        f.write(\"hello world%d\"%(i+1))\n",
    "        \n",
    "        \n",
    "#         s=\"hello world\"+str(i+1)+\"\\n\"\n",
    "#         f.write(s)\n",
    "#         f.write(\"hello world\",i+1)\n",
    "#     f.write(\"hello world\\n\")\n",
    "#     f.write(\"hello world\\n\")\n",
    "#     f.write(\"hello world\")"
   ]
  },
  {
   "cell_type": "code",
   "execution_count": 41,
   "id": "90a87add",
   "metadata": {},
   "outputs": [],
   "source": [
    "lines=['hello\\n','hi\\n','hallo']"
   ]
  },
  {
   "cell_type": "code",
   "execution_count": 42,
   "id": "15dbf501",
   "metadata": {},
   "outputs": [],
   "source": [
    "# with open(\"test2.txt\",\"w\") as f :\n",
    "#     for i in range(len(lines)) :\n",
    "#         f.write(lines[i])\n",
    "        \n",
    "with open(\"test2.txt\",\"w\") as f:\n",
    "    f.writelines(lines)\n",
    "# read: 파일을 읽어서 문자열로 가져옴\n",
    "# readline: 파일을 읽어서 리스트 형태로 가져옴"
   ]
  },
  {
   "cell_type": "code",
   "execution_count": 45,
   "id": "bf43cc1a",
   "metadata": {},
   "outputs": [
    {
     "name": "stdout",
     "output_type": "stream",
     "text": [
      "['hello\\n', 'hi\\n', 'hallo']\n"
     ]
    }
   ],
   "source": [
    "f=open(\"test2.txt\",\"r\")\n",
    "s=f.readlines() # 파일의 내용 저장\n",
    "print(s) # 확인"
   ]
  },
  {
   "cell_type": "code",
   "execution_count": 46,
   "id": "c868b72a",
   "metadata": {},
   "outputs": [
    {
     "name": "stdout",
     "output_type": "stream",
     "text": [
      "hello\n",
      "\n"
     ]
    }
   ],
   "source": [
    "f=open(\"test2.txt\",\"r\")\n",
    "s=f.readline() # 파일의 내용 저장\n",
    "print(s) # 확인"
   ]
  },
  {
   "cell_type": "code",
   "execution_count": 49,
   "id": "ae954d44",
   "metadata": {},
   "outputs": [
    {
     "name": "stdout",
     "output_type": "stream",
     "text": [
      "hello\n",
      "hello\n",
      "hello\n",
      "hello\n",
      "hello\n",
      "hi\n",
      "hallo\n"
     ]
    }
   ],
   "source": [
    "with open(\"test2.txt\",\"r\") as f :\n",
    "    line=None\n",
    "    while line !=\"\":\n",
    "        line=f.readline()\n",
    "        print(s.strip(\"\\n\"))\n",
    "        \n",
    "with open(\"test2.txt\",\"r\") as f:\n",
    "    while True:\n",
    "        s=f.readline()\n",
    "        if s!=\"\":\n",
    "            print(s.strip(\"\\n\"))\n",
    "        else:\n",
    "            break\n",
    "        "
   ]
  },
  {
   "cell_type": "code",
   "execution_count": null,
   "id": "e4364bb5",
   "metadata": {},
   "outputs": [],
   "source": []
  },
  {
   "cell_type": "code",
   "execution_count": null,
   "id": "183ec43e",
   "metadata": {},
   "outputs": [],
   "source": [
    "# 피클(picke) Module : 객체를 파일로 저장한다.\n",
    "# 객체? class(붕어빵기계)로부터 파생된 실체(인스턴스, 붕어빵)"
   ]
  },
  {
   "cell_type": "code",
   "execution_count": 53,
   "id": "a423a9e8",
   "metadata": {},
   "outputs": [],
   "source": [
    "import pickle\n",
    "uid='kim'\n",
    "lv=50\n",
    "ch='human'\n",
    "items={'sword':1,'re':10}\n",
    "\n",
    "with open(\"user1.p\",\"wb\") as f :# write binary(2진수로 저장)\n",
    "    pickle.dump(uid, f)\n",
    "    pickle.dump(lv, f)\n",
    "    pickle.dump(ch, f)\n",
    "    pickle.dump(items, f)"
   ]
  },
  {
   "cell_type": "code",
   "execution_count": 56,
   "id": "9acd8063",
   "metadata": {},
   "outputs": [
    {
     "name": "stdout",
     "output_type": "stream",
     "text": [
      "kim 50 human {'sword': 1, 're': 10}\n"
     ]
    }
   ],
   "source": [
    "# 기상하자마자 게임 접속\n",
    "with open(\"user1.p\",\"rb\") as f:\n",
    "    uid=pickle.load(f)\n",
    "    lv=pickle.load(f)\n",
    "    ch=pickle.load(f)\n",
    "    items=pickle.load(f)\n",
    "print(uid, lv, ch, items)"
   ]
  },
  {
   "cell_type": "code",
   "execution_count": null,
   "id": "ec56ea8f",
   "metadata": {},
   "outputs": [],
   "source": []
  },
  {
   "cell_type": "code",
   "execution_count": 65,
   "id": "15891895",
   "metadata": {},
   "outputs": [
    {
     "name": "stdout",
     "output_type": "stream",
     "text": [
      "입력:\n",
      "True\n"
     ]
    }
   ],
   "source": [
    "# 회문 확인\n",
    "w=input(\"입력:\")\n",
    "#print(w)\n",
    "#print(w[::-1])\n",
    "print(w==w[::-1])"
   ]
  },
  {
   "cell_type": "code",
   "execution_count": 70,
   "id": "3567d776",
   "metadata": {},
   "outputs": [
    {
     "data": {
      "text/plain": [
       "True"
      ]
     },
     "execution_count": 70,
     "metadata": {},
     "output_type": "execute_result"
    }
   ],
   "source": [
    "w=\"abcba\"\n",
    "list(w)\n",
    "list(reversed(w))\n",
    "list(w)==list(reversed(w))"
   ]
  },
  {
   "cell_type": "code",
   "execution_count": 73,
   "id": "e4dee698",
   "metadata": {},
   "outputs": [
    {
     "data": {
      "text/plain": [
       "'dcba'"
      ]
     },
     "execution_count": 73,
     "metadata": {},
     "output_type": "execute_result"
    }
   ],
   "source": [
    "a=\"abcd\"\n",
    "b=\"\".join(reversed(a))\n",
    "b"
   ]
  },
  {
   "cell_type": "code",
   "execution_count": 74,
   "id": "5e692354",
   "metadata": {},
   "outputs": [
    {
     "ename": "SyntaxError",
     "evalue": "invalid syntax (<ipython-input-74-e55a11257c43>, line 7)",
     "output_type": "error",
     "traceback": [
      "\u001b[0;36m  File \u001b[0;32m\"<ipython-input-74-e55a11257c43>\"\u001b[0;36m, line \u001b[0;32m7\u001b[0m\n\u001b[0;31m    문장 -> 단어 단위(2-gram)으로 추출\u001b[0m\n\u001b[0m       ^\u001b[0m\n\u001b[0;31mSyntaxError\u001b[0m\u001b[0;31m:\u001b[0m invalid syntax\n"
     ]
    }
   ],
   "source": [
    "# n 그램 : 문자열(문장)에서 n개의 연속된 문자(단어)를 추출하는 것\n",
    "n=2, 2-gram # 2개의 연속된 문자, 단어 추출\n",
    "n=3, 3-gram # 3그램이라고 부름\n",
    "\n",
    "# 삼성동에 코로나가 퍼지고 있습니다.\n",
    "n=2, 2-gram\n",
    "문장 -> 단어 단위(2-gram)으로 추출\n",
    "공백 단위로 구분 -> 4개 [삼성동에, 코로나가, 퍼지고, 있습니다]\n",
    "\n",
    "문장 -> 글자 단위(2-gram) 추출\n",
    "글자 단위(2-gram) 추출 -> ['삼성','성동','동에'''...]\n",
    "\n",
    "hello 2-gram 추출 -> he, el, ll, lo"
   ]
  },
  {
   "cell_type": "code",
   "execution_count": 97,
   "id": "ca84e3a1",
   "metadata": {},
   "outputs": [
    {
     "name": "stdout",
     "output_type": "stream",
     "text": [
      "5\n",
      "he\n",
      "5\n",
      "el\n",
      "5\n",
      "ll\n",
      "5\n",
      "lo\n"
     ]
    }
   ],
   "source": [
    "Zzz=\"hello\"\n",
    "# bi-gram -> he, el, ll, lo\n",
    "# 두글자씩 쪼개기... \n",
    "for i in range(len(Zzz)-1) : # i: 0~3\n",
    "    print(len(Zzz))\n",
    "    print(Zzz[i:i+2])"
   ]
  },
  {
   "cell_type": "code",
   "execution_count": 102,
   "id": "03592abd",
   "metadata": {},
   "outputs": [
    {
     "name": "stdout",
     "output_type": "stream",
     "text": [
      "this is\n",
      "is python\n",
      "python program\n"
     ]
    }
   ],
   "source": [
    "Zzz2=\"this is python program\"\n",
    "# 2-gram 단위로 단어 추출\n",
    "# z = Zzz2.split(\" \")\n",
    "z = Zzz2.split()\n",
    "for n in range(len(z)-1) :\n",
    "#    print(z[n:n+2])\n",
    "    print(z[n],z[n+1])"
   ]
  },
  {
   "cell_type": "code",
   "execution_count": null,
   "id": "c5cc90db",
   "metadata": {},
   "outputs": [],
   "source": [
    "# n-gram language model : \n",
    "# language model : 단어(문자)의 순서에 확률을 적용한 모델\n",
    "나는 아침에 줌에 접속하여 (QR) 인증을 하였다. # QR 을 넣는 확률..?\n",
    "\n",
    "# 언어 모델을 만드는 유형 : 통계적 방법, 신경망 방법()\n",
    "# N-gram은 통계적 방법 중 하나\n",
    "\n"
   ]
  },
  {
   "cell_type": "code",
   "execution_count": null,
   "id": "b9e784df",
   "metadata": {},
   "outputs": [],
   "source": [
    "# 단순 조건부 확률 기반의 언어모델\n",
    "P(갔다 | 나는, 오늘, 학교에 ) # 나는 , 오늘 , 학교에 , 다음에 갔다가 올 확률은?\n",
    "P(안 갔다 | 나는, 오늘, 학교에) \n"
   ]
  },
  {
   "cell_type": "code",
   "execution_count": null,
   "id": "2ab0a80e",
   "metadata": {},
   "outputs": [],
   "source": [
    "전체 문장에서 아래 문장이 나오는 횟수\n",
    "# count 기반의 확률 접근\n",
    "\n",
    " count(나는 오늘 학교에 갔다) = 100번\n",
    "---------------------------------- = 1% = P(갔다 | 나는, 오늘, 학교에 )\n",
    "   count(나는 오늘 학교에) = 10000번\n",
    "    \n",
    "count(나는 오늘 학교에 왔다) = 100번\n",
    "---------------------------------- = 3% = P(갔다 | 나는, 오늘, 학교에 )\n",
    "   count(나는 오늘 학교에) = 10000번\n",
    "    \n",
    "    "
   ]
  },
  {
   "cell_type": "code",
   "execution_count": null,
   "id": "365d4c1f",
   "metadata": {},
   "outputs": [],
   "source": [
    "# n-gram 활용(문장 유사도 조사)\n",
    "# 카피킬러(copy killer)"
   ]
  },
  {
   "cell_type": "code",
   "execution_count": null,
   "id": "37ecff8e",
   "metadata": {},
   "outputs": [],
   "source": []
  },
  {
   "cell_type": "code",
   "execution_count": null,
   "id": "83f27a1b",
   "metadata": {},
   "outputs": [],
   "source": []
  },
  {
   "cell_type": "code",
   "execution_count": null,
   "id": "db75f6e3",
   "metadata": {},
   "outputs": [],
   "source": []
  },
  {
   "cell_type": "code",
   "execution_count": null,
   "id": "3900c6d4",
   "metadata": {},
   "outputs": [],
   "source": []
  },
  {
   "cell_type": "code",
   "execution_count": null,
   "id": "128d75a1",
   "metadata": {},
   "outputs": [],
   "source": []
  },
  {
   "cell_type": "code",
   "execution_count": null,
   "id": "fd0857ac",
   "metadata": {},
   "outputs": [],
   "source": []
  },
  {
   "cell_type": "code",
   "execution_count": null,
   "id": "fc4d585f",
   "metadata": {},
   "outputs": [],
   "source": []
  },
  {
   "cell_type": "code",
   "execution_count": null,
   "id": "11b7d70b",
   "metadata": {},
   "outputs": [],
   "source": []
  }
 ],
 "metadata": {
  "kernelspec": {
   "display_name": "Python 3",
   "language": "python",
   "name": "python3"
  },
  "language_info": {
   "codemirror_mode": {
    "name": "ipython",
    "version": 3
   },
   "file_extension": ".py",
   "mimetype": "text/x-python",
   "name": "python",
   "nbconvert_exporter": "python",
   "pygments_lexer": "ipython3",
   "version": "3.8.8"
  }
 },
 "nbformat": 4,
 "nbformat_minor": 5
}
