{
 "cells": [
  {
   "cell_type": "code",
   "execution_count": null,
   "id": "1c4b2816",
   "metadata": {},
   "outputs": [],
   "source": []
  },
  {
   "cell_type": "code",
   "execution_count": 1,
   "id": "29829c93",
   "metadata": {},
   "outputs": [
    {
     "name": "stdout",
     "output_type": "stream",
     "text": [
      "반갑습니다\n"
     ]
    }
   ],
   "source": [
    "print(\"반갑습니다\")"
   ]
  },
  {
   "cell_type": "code",
   "execution_count": 2,
   "id": "1478d17b",
   "metadata": {
    "scrolled": false
   },
   "outputs": [
    {
     "name": "stdout",
     "output_type": "stream",
     "text": [
      "반갑습니다\n"
     ]
    }
   ],
   "source": [
    "print(\"반갑습니다\")"
   ]
  },
  {
   "cell_type": "code",
   "execution_count": 3,
   "id": "c68e9386",
   "metadata": {},
   "outputs": [],
   "source": [
    "x=1"
   ]
  },
  {
   "cell_type": "code",
   "execution_count": 5,
   "id": "31002092",
   "metadata": {},
   "outputs": [
    {
     "name": "stdout",
     "output_type": "stream",
     "text": [
      "3\n"
     ]
    }
   ],
   "source": [
    "print(x+2)"
   ]
  },
  {
   "cell_type": "code",
   "execution_count": null,
   "id": "03eb0950",
   "metadata": {},
   "outputs": [],
   "source": [
    "# 구글계정생성\n",
    "# kaggle.com -> 회원가입\n",
    "# 인스타그램 회원가입\n",
    "# 카페가입\n",
    "\n"
   ]
  },
  {
   "cell_type": "code",
   "execution_count": 7,
   "id": "633a5ed9",
   "metadata": {},
   "outputs": [
    {
     "name": "stdout",
     "output_type": "stream",
     "text": [
      "없어\n"
     ]
    }
   ],
   "source": [
    "if 10 in [1,2,3,4,5]:\n",
    "    print(\"있어\")\n",
    "else:\n",
    "    print(\"없어\")"
   ]
  },
  {
   "cell_type": "code",
   "execution_count": null,
   "id": "2432ee8e",
   "metadata": {},
   "outputs": [],
   "source": []
  },
  {
   "cell_type": "code",
   "execution_count": 20,
   "id": "790b5357",
   "metadata": {},
   "outputs": [
    {
     "name": "stdout",
     "output_type": "stream",
     "text": [
      "50005000\n"
     ]
    }
   ],
   "source": [
    "#작업 : 1~5까지의 합을 구하시오. -> 15, 주석문(설명문)\n",
    "\n",
    "# sum=0 #변수(variable)\n",
    "# sum=1+2+3+4+5\n",
    "\n",
    "# sum=1\n",
    "# sum=sum+2 #연산자 우선순위\n",
    "# sum=sum+3 \n",
    "# sum=sum+4 \n",
    "# sum=sum+5 \n",
    "#print(sum) #15\n",
    "\n",
    "# sum=0\n",
    "# for i in range(1,10001):    #range(시작값, 끝값(5)+1)\n",
    "#     sum=sum+i    \n",
    "# print(sum)  \n",
    "\n",
    "\n",
    "#print(10000*(10000+1)/2)"
   ]
  },
  {
   "cell_type": "code",
   "execution_count": 21,
   "id": "fdf4e381",
   "metadata": {},
   "outputs": [
    {
     "name": "stdout",
     "output_type": "stream",
     "text": [
      "hello world\n"
     ]
    }
   ],
   "source": [
    "print(\"hello world\")\n",
    "#함수 실행(호출)"
   ]
  },
  {
   "cell_type": "code",
   "execution_count": 22,
   "id": "ffa13390",
   "metadata": {},
   "outputs": [
    {
     "name": "stdout",
     "output_type": "stream",
     "text": [
      "hello world\n",
      "123\n"
     ]
    }
   ],
   "source": [
    "print(\"hello world\")\n",
    "print(\"123\")"
   ]
  },
  {
   "cell_type": "code",
   "execution_count": 26,
   "id": "6b02ea3e",
   "metadata": {},
   "outputs": [
    {
     "name": "stdout",
     "output_type": "stream",
     "text": [
      "hello world\n",
      "123\n",
      "123\n"
     ]
    }
   ],
   "source": [
    "print(\"hello world\");print(\"123\");print(\"123\")\n",
    "#세미콜론으로 여러 문장을 구분할 수 있다"
   ]
  },
  {
   "cell_type": "code",
   "execution_count": 40,
   "id": "f0b64bb1",
   "metadata": {},
   "outputs": [
    {
     "name": "stdout",
     "output_type": "stream",
     "text": [
      "0보다 커요\n",
      "3보다 작습니다\n",
      "a는 자연수입니다\n"
     ]
    }
   ],
   "source": [
    "#파이썬은 들여쓰기가 문법, 기본 4칸\n",
    "a=1\n",
    "if a>0 : #만약에 a가 1보다 크다면 아래 문장으로 이동\n",
    "    if a < 3: #만약에 a가 3보다 작다면 아래 문장으로 이동\n",
    "        print(\"0보다 커요\")\n",
    "        print(\"3보다 작습니다\")\n",
    "    print(\"a는 자연수입니다\")        "
   ]
  },
  {
   "cell_type": "code",
   "execution_count": 41,
   "id": "73cc7e36",
   "metadata": {},
   "outputs": [
    {
     "name": "stdout",
     "output_type": "stream",
     "text": [
      "a는 자연수입니다\n"
     ]
    }
   ],
   "source": [
    "a=10\n",
    "if a>0 : #만약에 a가 10보다 크다면 아래 문장으로 이동\n",
    "    if a < 3: #만약에 a가 3보다 작다면 아래 문장으로 이동\n",
    "        print(\"0보다 커요\")\n",
    "        print(\"3보다 작습니다\")\n",
    "    print(\"a는 자연수입니다\") "
   ]
  },
  {
   "cell_type": "code",
   "execution_count": 43,
   "id": "a8a40571",
   "metadata": {},
   "outputs": [
    {
     "name": "stdout",
     "output_type": "stream",
     "text": [
      "무조건 실행되는 문장\n"
     ]
    }
   ],
   "source": [
    "a=-2\n",
    "if a>0 : #만약에 a가 10보다 크다면 아래 문장으로 이동\n",
    "    if a < 3: #만약에 a가 3보다 작다면 아래 문장으로 이동\n",
    "        print(\"0보다 커요\")\n",
    "        print(\"3보다 작습니다\")\n",
    "print(\"무조건 실행되는 문장\") "
   ]
  },
  {
   "cell_type": "code",
   "execution_count": 47,
   "id": "4127277a",
   "metadata": {},
   "outputs": [
    {
     "name": "stdout",
     "output_type": "stream",
     "text": [
      "helloworld\n",
      "hello world\n",
      "hello world\n",
      "helloworld\n",
      "helloworld\n"
     ]
    }
   ],
   "source": [
    "print(\"helloworld\") #정상\n",
    "print('hello world') #정상\n",
    "print(\"hello\",\"world\")#정상\n"
   ]
  },
  {
   "cell_type": "code",
   "execution_count": 52,
   "id": "cf42b405",
   "metadata": {},
   "outputs": [
    {
     "name": "stdout",
     "output_type": "stream",
     "text": [
      "4.1e-05\n"
     ]
    }
   ],
   "source": [
    "x=111\n",
    "x=4.1E5 #4.1 * 10의 5승 => 실수형\n",
    "x=4.1e-5#4.1 * 10의 -5승 => 실수형\n",
    "print(x)"
   ]
  },
  {
   "cell_type": "code",
   "execution_count": 54,
   "id": "b7e5729f",
   "metadata": {},
   "outputs": [
    {
     "name": "stdout",
     "output_type": "stream",
     "text": [
      "15\n"
     ]
    }
   ],
   "source": [
    "x=0o17 #8진수 17을 의미  0,1,2,...,7,10,11,...,17,20,...\n",
    "print(x) #10진수로 변환되어 출력\n",
    "\n",
    "#8의1승*1 + 8의0승*7 = 15"
   ]
  },
  {
   "cell_type": "code",
   "execution_count": 55,
   "id": "320df1ce",
   "metadata": {},
   "outputs": [
    {
     "name": "stdout",
     "output_type": "stream",
     "text": [
      "10\n"
     ]
    }
   ],
   "source": [
    "x=0xA   #16진수 0,1,2,3...,9,A,B,C,D,E,F,10,11,...,1F,20,..FF,100\n",
    "print(x)"
   ]
  },
  {
   "cell_type": "code",
   "execution_count": 64,
   "id": "a66c00bb",
   "metadata": {},
   "outputs": [
    {
     "name": "stdout",
     "output_type": "stream",
     "text": [
      "6\n",
      "2\n",
      "2.5\n"
     ]
    }
   ],
   "source": [
    "print(4+2)\n",
    "print(4-2)\n",
    "\n",
    "\n",
    "print(5/2) #파이썬 3.x 대 버전에서는 실수형(2.5)\n",
    "#파이썬 2.x 대 버전에서는 정수형(2)"
   ]
  },
  {
   "cell_type": "code",
   "execution_count": 70,
   "id": "373e718d",
   "metadata": {},
   "outputs": [
    {
     "name": "stdout",
     "output_type": "stream",
     "text": [
      "2\n",
      "2.0\n"
     ]
    }
   ],
   "source": [
    "print(5//2) #정수\n",
    "print(5.0//2) #실수"
   ]
  },
  {
   "cell_type": "code",
   "execution_count": 68,
   "id": "18661f9c",
   "metadata": {},
   "outputs": [
    {
     "data": {
      "text/plain": [
       "2.0"
      ]
     },
     "execution_count": 68,
     "metadata": {},
     "output_type": "execute_result"
    }
   ],
   "source": [
    "5.5//2"
   ]
  },
  {
   "cell_type": "code",
   "execution_count": 69,
   "id": "f45f7ae0",
   "metadata": {},
   "outputs": [
    {
     "data": {
      "text/plain": [
       "2.0"
      ]
     },
     "execution_count": 69,
     "metadata": {},
     "output_type": "execute_result"
    }
   ],
   "source": [
    "4//2.0"
   ]
  },
  {
   "cell_type": "code",
   "execution_count": 73,
   "id": "3bf682f0",
   "metadata": {},
   "outputs": [
    {
     "data": {
      "text/plain": [
       "8"
      ]
     },
     "execution_count": 73,
     "metadata": {},
     "output_type": "execute_result"
    }
   ],
   "source": [
    "2 ** 3 # => 2의 3승"
   ]
  },
  {
   "cell_type": "code",
   "execution_count": 75,
   "id": "d0998c9e",
   "metadata": {},
   "outputs": [
    {
     "data": {
      "text/plain": [
       "1267650600228229401496703205376"
      ]
     },
     "execution_count": 75,
     "metadata": {},
     "output_type": "execute_result"
    }
   ],
   "source": [
    "2 ** 100"
   ]
  },
  {
   "cell_type": "code",
   "execution_count": 78,
   "id": "9ff3dbe2",
   "metadata": {},
   "outputs": [
    {
     "name": "stdout",
     "output_type": "stream",
     "text": [
      "1\n",
      "2\n"
     ]
    }
   ],
   "source": [
    "print(5//3) #몫\n",
    "print(5%3) #나머지"
   ]
  },
  {
   "cell_type": "code",
   "execution_count": 86,
   "id": "7213ebde",
   "metadata": {},
   "outputs": [
    {
     "name": "stdout",
     "output_type": "stream",
     "text": [
      "2\n"
     ]
    },
    {
     "data": {
      "text/plain": [
       "5"
      ]
     },
     "execution_count": 86,
     "metadata": {},
     "output_type": "execute_result"
    }
   ],
   "source": [
    "#데이터를 정수로 변환\n",
    "print(int(5//2.0))\n",
    "#문자열 -> 정수로 변환\n",
    "int(5.5)"
   ]
  },
  {
   "cell_type": "code",
   "execution_count": 98,
   "id": "194b152f",
   "metadata": {},
   "outputs": [
    {
     "name": "stdout",
     "output_type": "stream",
     "text": [
      "5\n",
      "51\n",
      "3\n",
      "5\n",
      "10.1\n"
     ]
    }
   ],
   "source": [
    "print('5')\n",
    "print('5'+'1')\n",
    "print(int(3.14))\n",
    "print(int(\"5\")) #숫자(정수)로된 문자를 숫자로 \n",
    "#print(int(\"5.1\")) #에러발생\n",
    "print(float(\"5.1\")+5)#숫자(실수)로된 문자를 숫자로 "
   ]
  },
  {
   "cell_type": "code",
   "execution_count": 102,
   "id": "2ef09f6e",
   "metadata": {},
   "outputs": [],
   "source": [
    "#//, %\n",
    "divmod(5,3) #몫과 나머지 구하는 함수\n",
    "#5를 3으로 나눈 몫과 나머지\n",
    "\n",
    "#함수명() : 함수\n",
    "#(,) : 튜플(자료형 중의 하나)\n",
    "\n",
    "m,n=divmod(5,3)"
   ]
  },
  {
   "cell_type": "code",
   "execution_count": 104,
   "id": "8f8bd288",
   "metadata": {},
   "outputs": [
    {
     "name": "stdout",
     "output_type": "stream",
     "text": [
      "1\n",
      "2\n"
     ]
    }
   ],
   "source": [
    "print(m)\n",
    "print(n)"
   ]
  },
  {
   "cell_type": "code",
   "execution_count": 109,
   "id": "a26998df",
   "metadata": {},
   "outputs": [
    {
     "name": "stdout",
     "output_type": "stream",
     "text": [
      "(1, 2)\n",
      "1\n",
      "2\n"
     ]
    },
    {
     "ename": "IndexError",
     "evalue": "tuple index out of range",
     "output_type": "error",
     "traceback": [
      "\u001b[1;31m---------------------------------------------------------------------------\u001b[0m",
      "\u001b[1;31mIndexError\u001b[0m                                Traceback (most recent call last)",
      "\u001b[1;32m<ipython-input-109-c5d21bb955fe>\u001b[0m in \u001b[0;36m<module>\u001b[1;34m\u001b[0m\n\u001b[0;32m      3\u001b[0m \u001b[0mprint\u001b[0m\u001b[1;33m(\u001b[0m\u001b[0mres\u001b[0m\u001b[1;33m[\u001b[0m\u001b[1;36m0\u001b[0m\u001b[1;33m]\u001b[0m\u001b[1;33m)\u001b[0m\u001b[1;33m\u001b[0m\u001b[1;33m\u001b[0m\u001b[0m\n\u001b[0;32m      4\u001b[0m \u001b[0mprint\u001b[0m\u001b[1;33m(\u001b[0m\u001b[0mres\u001b[0m\u001b[1;33m[\u001b[0m\u001b[1;36m1\u001b[0m\u001b[1;33m]\u001b[0m\u001b[1;33m)\u001b[0m\u001b[1;33m\u001b[0m\u001b[1;33m\u001b[0m\u001b[0m\n\u001b[1;32m----> 5\u001b[1;33m \u001b[0mprint\u001b[0m\u001b[1;33m(\u001b[0m\u001b[0mres\u001b[0m\u001b[1;33m[\u001b[0m\u001b[1;36m2\u001b[0m\u001b[1;33m]\u001b[0m\u001b[1;33m)\u001b[0m\u001b[1;33m\u001b[0m\u001b[1;33m\u001b[0m\u001b[0m\n\u001b[0m",
      "\u001b[1;31mIndexError\u001b[0m: tuple index out of range"
     ]
    }
   ],
   "source": [
    "res=divmod(5,3)\n",
    "print(res)\n",
    "print(res[0])\n",
    "print(res[1])\n",
    "print(res[2])"
   ]
  },
  {
   "cell_type": "code",
   "execution_count": 111,
   "id": "2a1151b0",
   "metadata": {},
   "outputs": [
    {
     "name": "stdout",
     "output_type": "stream",
     "text": [
      "<class 'int'>\n",
      "<class 'float'>\n"
     ]
    }
   ],
   "source": [
    "print(type(5))\n",
    "#3.14\n",
    "print(type(5.1))\n"
   ]
  },
  {
   "cell_type": "code",
   "execution_count": 118,
   "id": "67fba4fb",
   "metadata": {},
   "outputs": [
    {
     "data": {
      "text/plain": [
       "float"
      ]
     },
     "execution_count": 118,
     "metadata": {},
     "output_type": "execute_result"
    }
   ],
   "source": [
    "float(5) #강제로 실수형으로 변경\n",
    "type(float(5))\n",
    "float(1+3)\n",
    "type(float('3.14'))\n",
    "#type('3.14') #문자형"
   ]
  },
  {
   "cell_type": "code",
   "execution_count": null,
   "id": "ca83b8a2",
   "metadata": {},
   "outputs": [],
   "source": [
    "(1+2)*3\n",
    "#연산자 우선순위가 헷갈리면? 괄호로 묶어라"
   ]
  },
  {
   "cell_type": "code",
   "execution_count": null,
   "id": "baa939d8",
   "metadata": {},
   "outputs": [],
   "source": [
    "2"
   ]
  },
  {
   "cell_type": "code",
   "execution_count": null,
   "id": "3d713072",
   "metadata": {},
   "outputs": [],
   "source": []
  },
  {
   "cell_type": "code",
   "execution_count": 101,
   "id": "498493cc",
   "metadata": {},
   "outputs": [
    {
     "data": {
      "text/plain": [
       "2"
      ]
     },
     "execution_count": 101,
     "metadata": {},
     "output_type": "execute_result"
    }
   ],
   "source": [
    "5//3\n",
    "5%3"
   ]
  },
  {
   "cell_type": "code",
   "execution_count": 121,
   "id": "5e987677",
   "metadata": {},
   "outputs": [
    {
     "name": "stdout",
     "output_type": "stream",
     "text": [
      "3\n"
     ]
    }
   ],
   "source": [
    "x,y,z=1,2,3\n",
    "print(z)"
   ]
  },
  {
   "cell_type": "code",
   "execution_count": 122,
   "id": "9e0af85f",
   "metadata": {},
   "outputs": [],
   "source": [
    "a=b=1\n",
    "# b=1\n",
    "# a=b"
   ]
  },
  {
   "cell_type": "code",
   "execution_count": 131,
   "id": "cf829bbe",
   "metadata": {},
   "outputs": [],
   "source": [
    "x=2\n",
    "y=3"
   ]
  },
  {
   "cell_type": "code",
   "execution_count": 132,
   "id": "b3c57ac8",
   "metadata": {},
   "outputs": [
    {
     "name": "stdout",
     "output_type": "stream",
     "text": [
      "3\n",
      "2\n"
     ]
    }
   ],
   "source": [
    "x,y=y,x\n",
    "\n",
    "# t=y\n",
    "# y=x\n",
    "# x=t\n",
    "#x와 y값이 서로 교환\n",
    "print(x) #3\n",
    "print(y) #2"
   ]
  },
  {
   "cell_type": "code",
   "execution_count": 134,
   "id": "914cc8ef",
   "metadata": {},
   "outputs": [],
   "source": [
    "del x #메모리에서 x를 삭제"
   ]
  },
  {
   "cell_type": "code",
   "execution_count": 135,
   "id": "a96decd3",
   "metadata": {},
   "outputs": [
    {
     "ename": "NameError",
     "evalue": "name 'x' is not defined",
     "output_type": "error",
     "traceback": [
      "\u001b[1;31m---------------------------------------------------------------------------\u001b[0m",
      "\u001b[1;31mNameError\u001b[0m                                 Traceback (most recent call last)",
      "\u001b[1;32m<ipython-input-135-fc17d851ef81>\u001b[0m in \u001b[0;36m<module>\u001b[1;34m\u001b[0m\n\u001b[1;32m----> 1\u001b[1;33m \u001b[0mprint\u001b[0m\u001b[1;33m(\u001b[0m\u001b[0mx\u001b[0m\u001b[1;33m)\u001b[0m\u001b[1;33m\u001b[0m\u001b[1;33m\u001b[0m\u001b[0m\n\u001b[0m",
      "\u001b[1;31mNameError\u001b[0m: name 'x' is not defined"
     ]
    }
   ],
   "source": [
    "print(x)"
   ]
  },
  {
   "cell_type": "code",
   "execution_count": 136,
   "id": "c32a16cc",
   "metadata": {},
   "outputs": [],
   "source": [
    "a=3"
   ]
  },
  {
   "cell_type": "code",
   "execution_count": 137,
   "id": "9078d4f2",
   "metadata": {},
   "outputs": [
    {
     "name": "stdout",
     "output_type": "stream",
     "text": [
      "3\n"
     ]
    }
   ],
   "source": [
    "print(a)"
   ]
  },
  {
   "cell_type": "code",
   "execution_count": 140,
   "id": "f622233d",
   "metadata": {},
   "outputs": [],
   "source": [
    "b=None #값이 없음을 의미,  다른 언어에서는  Null로 표현\n",
    "#None : 값이 들어가 있지 않은 변수를 선언"
   ]
  },
  {
   "cell_type": "code",
   "execution_count": null,
   "id": "f21635bb",
   "metadata": {},
   "outputs": [],
   "source": [
    "a=3\n",
    "#a=a+1, a=a-1\n",
    "#a+=1, a-=1\n",
    "\n",
    "#축약형이 존재\n",
    "\n",
    "#a=a+1과  a+=1 같음"
   ]
  },
  {
   "cell_type": "code",
   "execution_count": 142,
   "id": "e060cccf",
   "metadata": {},
   "outputs": [
    {
     "name": "stdout",
     "output_type": "stream",
     "text": [
      "-3\n"
     ]
    }
   ],
   "source": [
    "x=-3\n",
    "print(+x)"
   ]
  },
  {
   "cell_type": "code",
   "execution_count": 159,
   "id": "152e1e45",
   "metadata": {},
   "outputs": [
    {
     "name": "stdout",
     "output_type": "stream",
     "text": [
      "첫번째 숫자를 입력한 후 엔터를 치세요 : 5\n",
      "두번째 숫자를 입력한 후 엔터를 치세요 : 3\n"
     ]
    }
   ],
   "source": [
    "#변수 입력\n",
    "#x=3\n",
    "\n",
    "i=int(input(\"첫번째 숫자를 입력한 후 엔터를 치세요 : \"))\n",
    "j=int(input(\"두번째 숫자를 입력한 후 엔터를 치세요 : \"))"
   ]
  },
  {
   "cell_type": "code",
   "execution_count": 160,
   "id": "41a9777b",
   "metadata": {},
   "outputs": [
    {
     "name": "stdout",
     "output_type": "stream",
     "text": [
      "8\n"
     ]
    }
   ],
   "source": [
    "#print(i)\n",
    "#print(j)\n",
    "print(i+j) #'5'+'3' => '53'\n",
    "\n",
    "# 8 출력"
   ]
  },
  {
   "cell_type": "code",
   "execution_count": 175,
   "id": "78eb74a9",
   "metadata": {},
   "outputs": [
    {
     "name": "stdout",
     "output_type": "stream",
     "text": [
      "단어를 2개 입력 : habhabhab\n",
      "['h', 'h', 'h', '']\n"
     ]
    }
   ],
   "source": [
    "x=input(\"단어를 2개 입력 : \") #x=\"hi hello\"\n",
    "res=x.split(\"ab\") #문자열을 공백으로 분리\n",
    "#문자열에 대해 어떤 연산을 수행하고자 하는 경우에는\n",
    "#문자열.함수이름()\n",
    "\n",
    "print(res)\n",
    "#print(b)"
   ]
  },
  {
   "cell_type": "code",
   "execution_count": null,
   "id": "79aa4da1",
   "metadata": {},
   "outputs": [],
   "source": [
    "\"hello\"\n",
    "'hello'\n",
    "\"\"\"\n",
    "hi\n",
    "hello\n",
    "\"\"\"\n",
    "\n",
    "\"\"\"hi hello\"\"\"\n"
   ]
  },
  {
   "cell_type": "code",
   "execution_count": 176,
   "id": "84f9b7eb",
   "metadata": {},
   "outputs": [],
   "source": [
    "x=\"\"\"\n",
    "hi\n",
    "hello\n",
    "\"\"\""
   ]
  },
  {
   "cell_type": "code",
   "execution_count": 177,
   "id": "2c428953",
   "metadata": {},
   "outputs": [
    {
     "name": "stdout",
     "output_type": "stream",
     "text": [
      "\n",
      "hi\n",
      "hello\n",
      "\n"
     ]
    }
   ],
   "source": [
    "print(x)"
   ]
  },
  {
   "cell_type": "code",
   "execution_count": 178,
   "id": "c2954efb",
   "metadata": {},
   "outputs": [],
   "source": [
    "x=\"\"\"Life\n",
    "is\n",
    "too\n",
    "short\n",
    "You\n",
    "need\n",
    "Python\"\"\""
   ]
  },
  {
   "cell_type": "code",
   "execution_count": 179,
   "id": "8f463852",
   "metadata": {},
   "outputs": [
    {
     "name": "stdout",
     "output_type": "stream",
     "text": [
      "Life\n",
      "is\n",
      "too\n",
      "short\n",
      "You\n",
      "need\n",
      "Python\n"
     ]
    }
   ],
   "source": [
    "print(x)"
   ]
  },
  {
   "cell_type": "code",
   "execution_count": 180,
   "id": "4c25918e",
   "metadata": {},
   "outputs": [],
   "source": [
    "x=\"Python's\""
   ]
  },
  {
   "cell_type": "code",
   "execution_count": 181,
   "id": "c0c7a901",
   "metadata": {},
   "outputs": [
    {
     "name": "stdout",
     "output_type": "stream",
     "text": [
      "Python's\n"
     ]
    }
   ],
   "source": [
    "print(x)"
   ]
  },
  {
   "cell_type": "code",
   "execution_count": 182,
   "id": "b744e9c2",
   "metadata": {},
   "outputs": [
    {
     "ename": "SyntaxError",
     "evalue": "invalid syntax (<ipython-input-182-40628141c121>, line 1)",
     "output_type": "error",
     "traceback": [
      "\u001b[1;36m  File \u001b[1;32m\"<ipython-input-182-40628141c121>\"\u001b[1;36m, line \u001b[1;32m1\u001b[0m\n\u001b[1;33m    x='Python's'\u001b[0m\n\u001b[1;37m              ^\u001b[0m\n\u001b[1;31mSyntaxError\u001b[0m\u001b[1;31m:\u001b[0m invalid syntax\n"
     ]
    }
   ],
   "source": [
    "x=\"Python's\"\n",
    "print(x)"
   ]
  },
  {
   "cell_type": "code",
   "execution_count": 183,
   "id": "27cc802e",
   "metadata": {},
   "outputs": [
    {
     "name": "stdout",
     "output_type": "stream",
     "text": [
      "\"Python is easy.\" he says\n"
     ]
    }
   ],
   "source": [
    "he='\"Python is easy.\" he says'\n",
    "print(he)"
   ]
  },
  {
   "cell_type": "code",
   "execution_count": 184,
   "id": "a87bdbd4",
   "metadata": {},
   "outputs": [
    {
     "name": "stdout",
     "output_type": "stream",
     "text": [
      "Life\n",
      " is too\n",
      " short\n"
     ]
    }
   ],
   "source": [
    "s=\"Life\\n is too\\n short\"\n",
    "print(s)"
   ]
  },
  {
   "cell_type": "code",
   "execution_count": 191,
   "id": "de484f90",
   "metadata": {},
   "outputs": [
    {
     "name": "stdout",
     "output_type": "stream",
     "text": [
      "--------------------------------------------------\n",
      "lifelifelifelifelife\n",
      "--------------------------------------------------\n",
      "ㅎㅎㅎㅎㅎㅎㅎㅎㅎㅎㅎㅎㅎㅎㅎㅎㅎㅎㅎㅎㅎㅎㅎㅎㅎㅎㅎㅎㅎㅎㅎㅎㅎㅎㅎㅎㅎㅎㅎㅎㅎㅎㅎㅎㅎㅎㅎㅎㅎㅎㅎㅎㅎㅎㅎㅎㅎㅎㅎㅎㅎㅎㅎㅎㅎㅎㅎㅎㅎㅎㅎㅎㅎㅎㅎㅎㅎㅎㅎㅎㅎㅎㅎㅎㅎㅎㅎㅎㅎㅎㅎㅎㅎㅎㅎㅎㅎㅎㅎㅎ\n"
     ]
    }
   ],
   "source": [
    "s=\"life\"\n",
    "print(\"-\"*50)\n",
    "print(s*5)\n",
    "print(\"-\"*50)\n",
    "print(\"ㅎ\"*100)"
   ]
  },
  {
   "cell_type": "code",
   "execution_count": 198,
   "id": "d237a9ab",
   "metadata": {},
   "outputs": [
    {
     "name": "stdout",
     "output_type": "stream",
     "text": [
      "4\n"
     ]
    },
    {
     "data": {
      "text/plain": [
       "'l'"
      ]
     },
     "execution_count": 198,
     "metadata": {},
     "output_type": "execute_result"
    }
   ],
   "source": [
    "s=\"life\"\n",
    "print(len(s))\n",
    "s[2]\n",
    "s[-1] #맨 뒤에서부터 첫번째 문자\n",
    "s[0]"
   ]
  },
  {
   "cell_type": "code",
   "execution_count": 203,
   "id": "bb697256",
   "metadata": {},
   "outputs": [
    {
     "name": "stdout",
     "output_type": "stream",
     "text": [
      "i\n",
      "is too short\n",
      "Lif\n",
      "Life is too short\n",
      "is too sh\n"
     ]
    }
   ],
   "source": [
    "s=\"Life is too short\"\n",
    "print(s[5])\n",
    "print(s[5:]) #5번  index~ 마지막까지\n",
    "print(s[:3]) #맨 앞에서부터 3-1번 index 까지\n",
    "print(s[:])\n",
    "\n",
    "print(s[5:-3])"
   ]
  },
  {
   "cell_type": "code",
   "execution_count": 208,
   "id": "94e96ea6",
   "metadata": {},
   "outputs": [
    {
     "data": {
      "text/plain": [
       "'science'"
      ]
     },
     "execution_count": 208,
     "metadata": {},
     "output_type": "execute_result"
    }
   ],
   "source": [
    "s=\"saience\" #a -> c\n",
    "\n",
    "#s[1]='c'\n",
    "\n",
    "s[:1]+'c'+s[2:]\n"
   ]
  },
  {
   "cell_type": "code",
   "execution_count": null,
   "id": "cb2dc6b5",
   "metadata": {},
   "outputs": [],
   "source": []
  }
 ],
 "metadata": {
  "kernelspec": {
   "display_name": "Python 3",
   "language": "python",
   "name": "python3"
  },
  "language_info": {
   "codemirror_mode": {
    "name": "ipython",
    "version": 3
   },
   "file_extension": ".py",
   "mimetype": "text/x-python",
   "name": "python",
   "nbconvert_exporter": "python",
   "pygments_lexer": "ipython3",
   "version": "3.8.8"
  }
 },
 "nbformat": 4,
 "nbformat_minor": 5
}
