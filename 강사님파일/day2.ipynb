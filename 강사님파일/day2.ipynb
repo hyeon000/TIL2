{
 "cells": [
  {
   "cell_type": "code",
   "execution_count": 3,
   "id": "39ab7718",
   "metadata": {},
   "outputs": [
    {
     "name": "stdout",
     "output_type": "stream",
     "text": [
      "숫자 두 개를 입력 : 1 2\n",
      "3\n"
     ]
    }
   ],
   "source": [
    "x,y=input(\"숫자 두 개를 입력 : \").split()\n",
    "print(int(x)+int(y))"
   ]
  },
  {
   "cell_type": "code",
   "execution_count": 5,
   "id": "f9394fc8",
   "metadata": {},
   "outputs": [
    {
     "name": "stdout",
     "output_type": "stream",
     "text": [
      "숫자를 입력 : 3\n",
      "5\n"
     ]
    }
   ],
   "source": [
    "x=int(input(\"숫자를 입력 : \"))\n",
    "print(x+2)"
   ]
  },
  {
   "cell_type": "code",
   "execution_count": 6,
   "id": "c4ad59c5",
   "metadata": {},
   "outputs": [
    {
     "name": "stdout",
     "output_type": "stream",
     "text": [
      "숫자 두 개를 입력 : 2 3\n",
      "['2', '3']\n"
     ]
    }
   ],
   "source": [
    "print(input(\"숫자 두 개를 입력 : \").split())"
   ]
  },
  {
   "cell_type": "code",
   "execution_count": 9,
   "id": "eae4e88d",
   "metadata": {},
   "outputs": [
    {
     "name": "stdout",
     "output_type": "stream",
     "text": [
      "5\n"
     ]
    }
   ],
   "source": [
    "#['2', '3']\n",
    "print(int('2')+3)"
   ]
  },
  {
   "cell_type": "code",
   "execution_count": 11,
   "id": "56f86567",
   "metadata": {},
   "outputs": [],
   "source": [
    "#int(['2', '3']) error"
   ]
  },
  {
   "cell_type": "code",
   "execution_count": 13,
   "id": "f1d6d882",
   "metadata": {},
   "outputs": [
    {
     "name": "stdout",
     "output_type": "stream",
     "text": [
      "숫자 입력 : 2 3\n",
      "5\n"
     ]
    }
   ],
   "source": [
    "#map함수\n",
    "x,y=map(int, input(\"숫자 입력 : \").split())\n",
    "print(x+y)\n",
    "\n"
   ]
  },
  {
   "cell_type": "code",
   "execution_count": 14,
   "id": "b702ecfe",
   "metadata": {},
   "outputs": [
    {
     "name": "stdout",
     "output_type": "stream",
     "text": [
      "숫자 입력 : 2 3\n",
      "<map object at 0x00000204FDA960D0>\n"
     ]
    }
   ],
   "source": [
    "print(map(int, input(\"숫자 입력 : \").split()))"
   ]
  },
  {
   "cell_type": "code",
   "execution_count": 15,
   "id": "2c9c68f4",
   "metadata": {},
   "outputs": [],
   "source": [
    "# 숫자 입력 : 1,2\n",
    "# 3"
   ]
  },
  {
   "cell_type": "code",
   "execution_count": 16,
   "id": "89ec1ba3",
   "metadata": {},
   "outputs": [
    {
     "name": "stdout",
     "output_type": "stream",
     "text": [
      "숫자 입력 : 1,2\n",
      "3\n"
     ]
    }
   ],
   "source": [
    "x,y=map(int, input(\"숫자 입력 : \").split(','))\n",
    "print(x+y)"
   ]
  },
  {
   "cell_type": "code",
   "execution_count": 21,
   "id": "665ed89c",
   "metadata": {},
   "outputs": [
    {
     "name": "stdout",
     "output_type": "stream",
     "text": [
      "10 20 30\n",
      "10,20,30\n",
      "102030\n"
     ]
    }
   ],
   "source": [
    "print(10,20,30)\n",
    "print(10,20,30,sep=\",\")\n",
    "print(10,20,30,sep=\"\")"
   ]
  },
  {
   "cell_type": "code",
   "execution_count": 27,
   "id": "758ee678",
   "metadata": {},
   "outputs": [
    {
     "name": "stdout",
     "output_type": "stream",
     "text": [
      "True\n"
     ]
    },
    {
     "data": {
      "text/plain": [
       "'skySky'"
      ]
     },
     "execution_count": 27,
     "metadata": {},
     "output_type": "execute_result"
    }
   ],
   "source": [
    "#비교연산자, 논리연산자 => 연산 결과가 불린형\n",
    "3>2\n",
    "1==2   # = 의미? assign, == 의미? equal\n",
    "1 != 2 # != (not equal)\n",
    "\n",
    "'test' == 'test'\n",
    "print('test' != 'Test')\n",
    "\n",
    "'donald_trump' 'trump'\n",
    "\n",
    "'sky' 'Sky'\n",
    "#자연어 전처리 과정에서는 대소문자를 통일하는 작업을 수행"
   ]
  },
  {
   "cell_type": "code",
   "execution_count": 31,
   "id": "1906eff2",
   "metadata": {},
   "outputs": [
    {
     "data": {
      "text/plain": [
       "True"
      ]
     },
     "execution_count": 31,
     "metadata": {},
     "output_type": "execute_result"
    }
   ],
   "source": [
    "10 <= 10 #크거나 같디"
   ]
  },
  {
   "cell_type": "code",
   "execution_count": 42,
   "id": "ecb94ad2",
   "metadata": {},
   "outputs": [
    {
     "data": {
      "text/plain": [
       "True"
      ]
     },
     "execution_count": 42,
     "metadata": {},
     "output_type": "execute_result"
    }
   ],
   "source": [
    "#논리연산자 : and, or, not 연산자\n",
    "True\n",
    "False\n",
    "\n",
    "#and : 모두 다 참인경우만 참이되는 연산자\n",
    "True and False\n",
    "True and True\n",
    "\n",
    "#or : 적어도 하나 이상이 참인 경우 참이되는 연산자\n",
    "True or False\n",
    "True or True\n",
    "\n",
    "#not : 참 -> 거짓, 거짓 -> 참\n",
    "not True\n",
    "\n",
    "#논리 연산자 우선순위 :  not, and, or\n",
    "not True and False\n",
    "\n",
    "True and True or not True\n",
    "\n",
    "# not True and False or not False\n",
    "# => False and False or True\n",
    "# => False or True\n",
    "# => True\n",
    "not True and False or not False"
   ]
  },
  {
   "cell_type": "code",
   "execution_count": 44,
   "id": "0005421b",
   "metadata": {},
   "outputs": [
    {
     "data": {
      "text/plain": [
       "True"
      ]
     },
     "execution_count": 44,
     "metadata": {},
     "output_type": "execute_result"
    }
   ],
   "source": [
    "1==1 and 1!=2\n",
    "# True and True\n",
    "# True\n",
    "#비교연산자:2개, 논리연산자:1개\n",
    "#우선순위가 비교> 논리"
   ]
  },
  {
   "cell_type": "code",
   "execution_count": 60,
   "id": "1884dbac",
   "metadata": {},
   "outputs": [
    {
     "name": "stdout",
     "output_type": "stream",
     "text": [
      "정상처리\n"
     ]
    }
   ],
   "source": [
    "#bool() : 정수, 실수, 문자 -> 불린\n",
    "bool(100)\n",
    "bool(-100)\n",
    "bool(1)\n",
    "bool(0) #거짓\n",
    "\n",
    "bool(3.14)\n",
    "bool(-1.1)\n",
    "bool(0.1)\n",
    "bool(0.0) #거짓\n",
    "\n",
    "bool('a')\n",
    "bool(\"test\")\n",
    "bool(\"\")\n",
    "\n",
    "\n",
    "x=\"donald_trump\"\n",
    "if x:\n",
    "    print(\"정상처리\")\n",
    "else:\n",
    "    print(\"비정상처리\")"
   ]
  },
  {
   "cell_type": "code",
   "execution_count": 61,
   "id": "72f1cda1",
   "metadata": {},
   "outputs": [
    {
     "data": {
      "text/plain": [
       "True"
      ]
     },
     "execution_count": 61,
     "metadata": {},
     "output_type": "execute_result"
    }
   ],
   "source": [
    "'mulcam' and True"
   ]
  },
  {
   "cell_type": "code",
   "execution_count": 62,
   "id": "75a232db",
   "metadata": {},
   "outputs": [
    {
     "name": "stdout",
     "output_type": "stream",
     "text": [
      "I eat 2 apples\n"
     ]
    }
   ],
   "source": [
    "#문자열 관련 함수\n",
    "print(\"I eat 2 apples\")"
   ]
  },
  {
   "cell_type": "code",
   "execution_count": 68,
   "id": "ee3000f1",
   "metadata": {},
   "outputs": [
    {
     "name": "stdout",
     "output_type": "stream",
     "text": [
      "I eat 20 apples\n",
      "I eat three apples\n"
     ]
    }
   ],
   "source": [
    "#포매팅\n",
    "x=20\n",
    "a=\"three\"\n",
    "print(\"I eat %d apples\" % x) #digit\n",
    "print(\"I eat %s apples\" % a) #string"
   ]
  },
  {
   "cell_type": "code",
   "execution_count": 70,
   "id": "ecca512e",
   "metadata": {},
   "outputs": [
    {
     "name": "stdout",
     "output_type": "stream",
     "text": [
      "I ate 3 apples. so I was sick for three days\n"
     ]
    }
   ],
   "source": [
    "print(\"I ate %d apples. so I was sick for %s days\" % (3,\"three\"))"
   ]
  },
  {
   "cell_type": "code",
   "execution_count": 79,
   "id": "bc06e3c2",
   "metadata": {},
   "outputs": [
    {
     "name": "stdout",
     "output_type": "stream",
     "text": [
      "I eat 2 apples\n",
      "I eat 2.100000 apples\n",
      "I eat 2.10 apples\n"
     ]
    }
   ],
   "source": [
    "x=2.1\n",
    "print(\"I eat %d apples\" % x)\n",
    "print(\"I eat %f apples\" % x)\n",
    "print(\"I eat %.2f apples\" % x)"
   ]
  },
  {
   "cell_type": "code",
   "execution_count": 83,
   "id": "51b2cac6",
   "metadata": {},
   "outputs": [
    {
     "name": "stdout",
     "output_type": "stream",
     "text": [
      "Accuracy is 90%\n"
     ]
    }
   ],
   "source": [
    "#print(\"Accuracy is 90%\")\n",
    "print(\"Accuracy is %d%%\" % 90)"
   ]
  },
  {
   "cell_type": "code",
   "execution_count": 87,
   "id": "3429f0af",
   "metadata": {},
   "outputs": [
    {
     "name": "stdout",
     "output_type": "stream",
     "text": [
      "     hello\n",
      "hello     \n"
     ]
    }
   ],
   "source": [
    "# print(\"%s\" % \"hello\")\n",
    "# print(\"%s\" % \"hellohi\")\n",
    "\n",
    "print(\"%10s\" % \"hello\") #10칸 확보 후 우측 정렬하여 출력\n",
    "print(\"%-10s\" % \"hello\") #10칸 확보 후 우측 정렬하여 출력"
   ]
  },
  {
   "cell_type": "code",
   "execution_count": 90,
   "id": "e300a6d8",
   "metadata": {},
   "outputs": [],
   "source": [
    "num=3\n",
    "day=\"five\""
   ]
  },
  {
   "cell_type": "code",
   "execution_count": 93,
   "id": "38eb70ae",
   "metadata": {},
   "outputs": [
    {
     "name": "stdout",
     "output_type": "stream",
     "text": [
      "I ate 3 apples. so I was sick for five days\n",
      "I ate 3 apples. so I was sick for five days\n",
      "I ate 3 apples. so I was sick for five days\n"
     ]
    }
   ],
   "source": [
    "print(\"I ate %d apples. so I was sick for %s days\" % (3,\"five\"))\n",
    "print(\"I ate %d apples. so I was sick for %s days\" % (num,day))\n",
    "\n",
    "print(\"I ate {0} apples. so I was sick for {1} days\".format(num,day))\n",
    "#{0}:format함수의 첫번째 인수\n",
    "#{1}:format함수의 두번째 인수"
   ]
  },
  {
   "cell_type": "code",
   "execution_count": 95,
   "id": "cee02fc6",
   "metadata": {},
   "outputs": [
    {
     "name": "stdout",
     "output_type": "stream",
     "text": [
      "I ate five apples. so I was sick for 3 days\n",
      "I ate 3 apples. so I was sick for three days\n"
     ]
    }
   ],
   "source": [
    "print(\"I ate {1} apples. so I was sick for {0} days\".format(num,day))\n",
    "print(\"I ate {num} apples. so I was sick for {day} days\".format(num=3,day=\"three\"))"
   ]
  },
  {
   "cell_type": "code",
   "execution_count": 101,
   "id": "ecbce542",
   "metadata": {},
   "outputs": [
    {
     "name": "stdout",
     "output_type": "stream",
     "text": [
      "hello     \n",
      "     hello\n",
      "  hello   \n",
      "$$hello$$$\n"
     ]
    }
   ],
   "source": [
    "print(\"{0:<10}\".format(\"hello\"))\n",
    "#   :<10 의미? 전체 자리수가 10자리, 왼쪽 정렬\n",
    "print(\"{0:>10}\".format(\"hello\"))\n",
    "#   :>10 의미? 전체 자리수가 10자리, 오른쪽 정렬\n",
    "print(\"{0:^10}\".format(\"hello\"))\n",
    "#   :^10 의미? 전체 자리수가 10자리, 가운데 정렬\n",
    "print(\"{0:$^10}\".format(\"hello\"))"
   ]
  },
  {
   "cell_type": "code",
   "execution_count": 106,
   "id": "aee93a2e",
   "metadata": {},
   "outputs": [
    {
     "data": {
      "text/plain": [
       "2"
      ]
     },
     "execution_count": 106,
     "metadata": {},
     "output_type": "execute_result"
    }
   ],
   "source": [
    "#(문자열)내장 함수 : 문자열 자체적으로 문자열 관련 함수를 가지고 있음\n",
    "#사용 방법 : 문자열(변수).내장함수()\n",
    "\"data\".count('a')\n",
    "\"data\".count('z')\n",
    "\n",
    "x=\"data\"\n",
    "x.count('a')"
   ]
  },
  {
   "cell_type": "code",
   "execution_count": 111,
   "id": "a2419d04",
   "metadata": {},
   "outputs": [
    {
     "data": {
      "text/plain": [
       "1"
      ]
     },
     "execution_count": 111,
     "metadata": {},
     "output_type": "execute_result"
    }
   ],
   "source": [
    "x.find('a') #'a'의 위치, 0번부터 시작\n",
    "x.find('b') #문자가 없는 경우에는 -1 리턴\n",
    "\n",
    "x.index('a')\n",
    "#x.index('b') #문자가 없는 경우에는 에러발생"
   ]
  },
  {
   "cell_type": "code",
   "execution_count": 114,
   "id": "4389db2a",
   "metadata": {},
   "outputs": [],
   "source": [
    "#\"a,b,c,d\" => \"abcd\"\n",
    "x=\"a,b,c,d\"\n",
    "#컴마로 구분하여 abcd 출력\n",
    "\n",
    "x.split() #x에 저장된 문자열을 공백 문자로 분리\n",
    "res=x.split(\",\") #['a', 'b', 'c', 'd']"
   ]
  },
  {
   "cell_type": "code",
   "execution_count": 115,
   "id": "ca2ce9bc",
   "metadata": {},
   "outputs": [
    {
     "name": "stdout",
     "output_type": "stream",
     "text": [
      "a,b,c,d\n"
     ]
    }
   ],
   "source": [
    "print(\",\".join(res))\n",
    "#res에 저장되어 있는 각각의 문자가 컴마(,)로 연결\n",
    "\n",
    "#split <-> join"
   ]
  },
  {
   "cell_type": "code",
   "execution_count": 119,
   "id": "12f59532",
   "metadata": {},
   "outputs": [
    {
     "data": {
      "text/plain": [
       "'test'"
      ]
     },
     "execution_count": 119,
     "metadata": {},
     "output_type": "execute_result"
    }
   ],
   "source": [
    "\"test\".capitalize()\n",
    "\"test\".upper()\n",
    "\"test\".lower()"
   ]
  },
  {
   "cell_type": "code",
   "execution_count": 121,
   "id": "c1882625",
   "metadata": {},
   "outputs": [
    {
     "name": "stdout",
     "output_type": "stream",
     "text": [
      " hello hi\n"
     ]
    }
   ],
   "source": [
    "a=\" hello \"\n",
    "b=\"hi\"\n",
    "print(a,b, sep=\"\")"
   ]
  },
  {
   "cell_type": "code",
   "execution_count": 124,
   "id": "7c15bd90",
   "metadata": {},
   "outputs": [
    {
     "data": {
      "text/plain": [
       "' hello'"
      ]
     },
     "execution_count": 124,
     "metadata": {},
     "output_type": "execute_result"
    }
   ],
   "source": [
    "a.strip() #양쪽 공백 제거\n",
    "a.lstrip()#왼쪽 공백 제거\n",
    "a.rstrip()#오른쪽 공백 제거"
   ]
  },
  {
   "cell_type": "code",
   "execution_count": 125,
   "id": "e3087808",
   "metadata": {},
   "outputs": [],
   "source": [
    "#' hello' != 'hello' "
   ]
  },
  {
   "cell_type": "code",
   "execution_count": 127,
   "id": "53e8ab65",
   "metadata": {
    "scrolled": true
   },
   "outputs": [
    {
     "data": {
      "text/plain": [
       "'Pythtn is ttt easy'"
      ]
     },
     "execution_count": 127,
     "metadata": {},
     "output_type": "execute_result"
    }
   ],
   "source": [
    "a=\"Python is too easy\"\n",
    "a.replace(\"easy\", \"difficult\")\n",
    "\n",
    "a.replace(\"o\", \"t\")"
   ]
  },
  {
   "cell_type": "code",
   "execution_count": null,
   "id": "e7842b3f",
   "metadata": {},
   "outputs": [],
   "source": [
    "# 알고리즘?문제 해결 (가장 좋은)방법\n",
    "# 자료구조?자료를 저장 및 관리하는 방법\n",
    "\n",
    "# 파이썬 자료구조?튜플, 리스트(중요), 셋, 딕셔너리(중요)"
   ]
  },
  {
   "cell_type": "code",
   "execution_count": null,
   "id": "28c728b5",
   "metadata": {},
   "outputs": [],
   "source": [
    "x=1\n",
    "x=3\n",
    "#리스트:데이터를 일렬로 늘어놓은 구조\n",
    "#리스트변수명=[요소값,요소값,요소값,...]"
   ]
  },
  {
   "cell_type": "code",
   "execution_count": 131,
   "id": "6a85b4ab",
   "metadata": {},
   "outputs": [],
   "source": [
    "a=[] #빈 리스트\n",
    "a2=[10,20,30] #요소(element)\n",
    "a3=['hi', 'hello']\n",
    "a4=[10,20,'hi']\n",
    "a5=[10,'hi', 1.15,  True] #리스트에 여러 가지 자료형에 해당되는 자료를 하나로 묶음\n",
    "\n",
    "a6=list()"
   ]
  },
  {
   "cell_type": "code",
   "execution_count": 132,
   "id": "771b033f",
   "metadata": {},
   "outputs": [
    {
     "data": {
      "text/plain": [
       "[]"
      ]
     },
     "execution_count": 132,
     "metadata": {},
     "output_type": "execute_result"
    }
   ],
   "source": [
    "a6"
   ]
  },
  {
   "cell_type": "code",
   "execution_count": 135,
   "id": "5244fd72",
   "metadata": {},
   "outputs": [
    {
     "data": {
      "text/plain": [
       "70"
      ]
     },
     "execution_count": 135,
     "metadata": {},
     "output_type": "execute_result"
    }
   ],
   "source": [
    "#  0  1  2   3\n",
    "a=[10,20,30,40]\n",
    "a[2]+a[3]"
   ]
  },
  {
   "cell_type": "code",
   "execution_count": 138,
   "id": "cd3d2a3e",
   "metadata": {},
   "outputs": [
    {
     "data": {
      "text/plain": [
       "20"
      ]
     },
     "execution_count": 138,
     "metadata": {},
     "output_type": "execute_result"
    }
   ],
   "source": [
    "a[1]\n",
    "a[-3]"
   ]
  },
  {
   "cell_type": "code",
   "execution_count": 141,
   "id": "1b690e14",
   "metadata": {},
   "outputs": [
    {
     "data": {
      "text/plain": [
       "[50, 'a', 'b']"
      ]
     },
     "execution_count": 141,
     "metadata": {},
     "output_type": "execute_result"
    }
   ],
   "source": [
    "a=[10,20,30,40,[50,'a','b']]\n",
    "a[4] \n",
    "a[-1]\n",
    "#리스트는 리스트를 요소값으로 할 수 있다"
   ]
  },
  {
   "cell_type": "code",
   "execution_count": 150,
   "id": "69dc3a50",
   "metadata": {},
   "outputs": [
    {
     "data": {
      "text/plain": [
       "'a'"
      ]
     },
     "execution_count": 150,
     "metadata": {},
     "output_type": "execute_result"
    }
   ],
   "source": [
    "a[4][1]\n",
    "a[-1][1]\n",
    "a[4][-2]\n",
    "a[-1][-2]"
   ]
  },
  {
   "cell_type": "code",
   "execution_count": 151,
   "id": "dcde6678",
   "metadata": {},
   "outputs": [],
   "source": [
    "a=[10,20,30,40,[50,'a',[3.14, True, 100],'b']]"
   ]
  },
  {
   "cell_type": "code",
   "execution_count": 155,
   "id": "a0a28229",
   "metadata": {},
   "outputs": [
    {
     "data": {
      "text/plain": [
       "3.14"
      ]
     },
     "execution_count": 155,
     "metadata": {},
     "output_type": "execute_result"
    }
   ],
   "source": [
    "#3.14 출력\n",
    "a[4][2][0]\n",
    "a[-1][-2][-3]"
   ]
  },
  {
   "cell_type": "code",
   "execution_count": 156,
   "id": "755f792a",
   "metadata": {},
   "outputs": [],
   "source": [
    "#파이썬 언어 - 리스트(동적,  dynamic)\n",
    "#넘파이 배열(array, static,  정적)\n",
    "a=[]"
   ]
  },
  {
   "cell_type": "code",
   "execution_count": 157,
   "id": "2359441e",
   "metadata": {},
   "outputs": [],
   "source": [
    "a=[10,20,30,40,50]"
   ]
  },
  {
   "cell_type": "code",
   "execution_count": 162,
   "id": "a83018f2",
   "metadata": {},
   "outputs": [
    {
     "data": {
      "text/plain": [
       "[10, 20, 30, 40]"
      ]
     },
     "execution_count": 162,
     "metadata": {},
     "output_type": "execute_result"
    }
   ],
   "source": [
    "a[0:3] #시작번호(포함):끝번호(포함x)\n",
    "a[:4]\n",
    "a[1:]"
   ]
  },
  {
   "cell_type": "code",
   "execution_count": 161,
   "id": "0ba0e6ab",
   "metadata": {},
   "outputs": [
    {
     "data": {
      "text/plain": [
       "'mul'"
      ]
     },
     "execution_count": 161,
     "metadata": {},
     "output_type": "execute_result"
    }
   ],
   "source": [
    "s=\"mulcam\"\n",
    "s[0:3]"
   ]
  },
  {
   "cell_type": "code",
   "execution_count": 164,
   "id": "cdc97323",
   "metadata": {},
   "outputs": [],
   "source": [
    "a=[10,20,30,['가','나','다'],40,50,60]"
   ]
  },
  {
   "cell_type": "code",
   "execution_count": 169,
   "id": "58806b41",
   "metadata": {},
   "outputs": [
    {
     "data": {
      "text/plain": [
       "['가', '나']"
      ]
     },
     "execution_count": 169,
     "metadata": {},
     "output_type": "execute_result"
    }
   ],
   "source": [
    "#['가','나']\n",
    "a[3][:-1]"
   ]
  },
  {
   "cell_type": "code",
   "execution_count": 170,
   "id": "49d45787",
   "metadata": {},
   "outputs": [],
   "source": [
    "a=[10,20]\n",
    "b=[30,40]"
   ]
  },
  {
   "cell_type": "code",
   "execution_count": 172,
   "id": "f6eec598",
   "metadata": {},
   "outputs": [
    {
     "data": {
      "text/plain": [
       "[10, 20, 30, 40]"
      ]
     },
     "execution_count": 172,
     "metadata": {},
     "output_type": "execute_result"
    }
   ],
   "source": [
    "a*3\n",
    "a+b"
   ]
  },
  {
   "cell_type": "code",
   "execution_count": 174,
   "id": "9d7d0b5e",
   "metadata": {},
   "outputs": [
    {
     "data": {
      "text/plain": [
       "5"
      ]
     },
     "execution_count": 174,
     "metadata": {},
     "output_type": "execute_result"
    }
   ],
   "source": [
    "len(a) #리스트, 문자열, 딕셔너리, 튜플\n",
    "len(\"hello\")"
   ]
  },
  {
   "cell_type": "code",
   "execution_count": 175,
   "id": "d866736d",
   "metadata": {},
   "outputs": [
    {
     "data": {
      "text/plain": [
       "[10, 20, 'hi']"
      ]
     },
     "execution_count": 175,
     "metadata": {},
     "output_type": "execute_result"
    }
   ],
   "source": [
    "s=[10,20,\"hi\"]\n",
    "s"
   ]
  },
  {
   "cell_type": "code",
   "execution_count": 181,
   "id": "70e89cdc",
   "metadata": {},
   "outputs": [
    {
     "data": {
      "text/plain": [
       "'20hi'"
      ]
     },
     "execution_count": 181,
     "metadata": {},
     "output_type": "execute_result"
    }
   ],
   "source": [
    "str(s[1])+\"hi\""
   ]
  },
  {
   "cell_type": "code",
   "execution_count": 189,
   "id": "40f47ca8",
   "metadata": {},
   "outputs": [
    {
     "name": "stdout",
     "output_type": "stream",
     "text": [
      "[-10, -8, -6, -4, -2, 0, 2, 4, 6, 8, 10, 12, 14, 16, 18, 20, 22, 24, 26, 28, 30, 32, 34, 36, 38, 40, 42, 44, 46, 48]\n"
     ]
    },
    {
     "data": {
      "text/plain": [
       "[20, 18, 16, 14, 12, 10, 8, 6, 4, 2]"
      ]
     },
     "execution_count": 189,
     "metadata": {},
     "output_type": "execute_result"
    }
   ],
   "source": [
    "range(5) #0~5-1까지 연속된 수열\n",
    "\n",
    "list(range(5))\n",
    "list(range(0,5))\n",
    "\n",
    "#print(list(range(10,50)))\n",
    "\n",
    "#print(list(range(10,50,3)))\n",
    "\n",
    "print(list(range(-10,50,2)))\n",
    "\n",
    "#range(시작, 끝, 증감값)\n",
    "\n",
    "list(range(20,0,-2))"
   ]
  },
  {
   "cell_type": "code",
   "execution_count": 194,
   "id": "4f90cf20",
   "metadata": {},
   "outputs": [],
   "source": [
    "#range(5, 0, -0.5) \n",
    "#넘파이에 있는 range함수는 실수값으로 증감값을 나타낼 수 있음\n",
    "\n",
    "\n",
    "#range(5, 0, -0.5) \n",
    "#[5, 4.5, ..., 0.5]\n",
    "\n"
   ]
  },
  {
   "cell_type": "code",
   "execution_count": 192,
   "id": "8757230c",
   "metadata": {},
   "outputs": [
    {
     "data": {
      "text/plain": [
       "[20, 19, 18, 17, 16, 15, 14, 13, 12, 11, 10, 9, 8, 7, 6, 5, 4, 3, 2, 1]"
      ]
     },
     "execution_count": 192,
     "metadata": {},
     "output_type": "execute_result"
    }
   ],
   "source": [
    "list(range(20,0,-1))\n",
    "#list(range(20,0)) #list(range(20,0,1))\n"
   ]
  },
  {
   "cell_type": "code",
   "execution_count": 203,
   "id": "fb5f6a01",
   "metadata": {},
   "outputs": [
    {
     "data": {
      "text/plain": [
       "[10, 20, 40]"
      ]
     },
     "execution_count": 203,
     "metadata": {},
     "output_type": "execute_result"
    }
   ],
   "source": [
    "#range(5, 0, -0.5) \n",
    "\n",
    "#[5, 4.5, ..., 0.5]\n",
    "# res=[]\n",
    "# x=list(range(50, 0, -5))\n",
    "# x\n",
    "# res[0]=x[0]/10\n",
    "# res[1]=x[1]/10\n",
    "# #...\n",
    "# res[9]=x[9]/10\n",
    "\n",
    "a=[10,20,30]\n",
    "a[2]=40\n",
    "a"
   ]
  },
  {
   "cell_type": "code",
   "execution_count": 204,
   "id": "aba49797",
   "metadata": {},
   "outputs": [],
   "source": [
    "del a[2]"
   ]
  },
  {
   "cell_type": "code",
   "execution_count": 205,
   "id": "e2c3ba10",
   "metadata": {},
   "outputs": [
    {
     "data": {
      "text/plain": [
       "[10, 20]"
      ]
     },
     "execution_count": 205,
     "metadata": {},
     "output_type": "execute_result"
    }
   ],
   "source": [
    "a"
   ]
  },
  {
   "cell_type": "code",
   "execution_count": 206,
   "id": "1db9b25d",
   "metadata": {},
   "outputs": [
    {
     "data": {
      "text/plain": [
       "[10, 20, 30, 40, 50, 60, 70, 80, 90, 100]"
      ]
     },
     "execution_count": 206,
     "metadata": {},
     "output_type": "execute_result"
    }
   ],
   "source": [
    "a=list(range(10,101,10))\n",
    "a"
   ]
  },
  {
   "cell_type": "code",
   "execution_count": 207,
   "id": "b82a0489",
   "metadata": {},
   "outputs": [],
   "source": [
    "del a[3:]"
   ]
  },
  {
   "cell_type": "code",
   "execution_count": 208,
   "id": "8adb23a4",
   "metadata": {},
   "outputs": [
    {
     "data": {
      "text/plain": [
       "[10, 20, 30]"
      ]
     },
     "execution_count": 208,
     "metadata": {},
     "output_type": "execute_result"
    }
   ],
   "source": [
    "a"
   ]
  },
  {
   "cell_type": "code",
   "execution_count": 210,
   "id": "7fa529ab",
   "metadata": {},
   "outputs": [],
   "source": [
    "a=[10,20] #append함수:리스트의 맨 마지막에 추가\n",
    "a.append(30)"
   ]
  },
  {
   "cell_type": "code",
   "execution_count": 211,
   "id": "33fb6941",
   "metadata": {},
   "outputs": [
    {
     "data": {
      "text/plain": [
       "[10, 20, 30]"
      ]
     },
     "execution_count": 211,
     "metadata": {},
     "output_type": "execute_result"
    }
   ],
   "source": [
    "a"
   ]
  },
  {
   "cell_type": "code",
   "execution_count": 212,
   "id": "aab4dd5b",
   "metadata": {},
   "outputs": [
    {
     "data": {
      "text/plain": [
       "[10, 20, 30, 3.14]"
      ]
     },
     "execution_count": 212,
     "metadata": {},
     "output_type": "execute_result"
    }
   ],
   "source": [
    "a.append(3.14)\n",
    "a"
   ]
  },
  {
   "cell_type": "code",
   "execution_count": 213,
   "id": "fbc4c744",
   "metadata": {},
   "outputs": [
    {
     "data": {
      "text/plain": [
       "[10, 20, 30, 3.14, 'hi']"
      ]
     },
     "execution_count": 213,
     "metadata": {},
     "output_type": "execute_result"
    }
   ],
   "source": [
    "a.append('hi')\n",
    "a"
   ]
  },
  {
   "cell_type": "code",
   "execution_count": 214,
   "id": "a537164c",
   "metadata": {},
   "outputs": [
    {
     "data": {
      "text/plain": [
       "[10, 20, 30, 3.14, 'hi', [100, 200]]"
      ]
     },
     "execution_count": 214,
     "metadata": {},
     "output_type": "execute_result"
    }
   ],
   "source": [
    "a.append([100,200])\n",
    "a"
   ]
  },
  {
   "cell_type": "code",
   "execution_count": 215,
   "id": "e51188da",
   "metadata": {},
   "outputs": [],
   "source": [
    "#sort함수:정렬\n",
    "a=[30,10,20]\n",
    "a.sort()"
   ]
  },
  {
   "cell_type": "code",
   "execution_count": 216,
   "id": "8af228eb",
   "metadata": {},
   "outputs": [
    {
     "data": {
      "text/plain": [
       "[10, 20, 30]"
      ]
     },
     "execution_count": 216,
     "metadata": {},
     "output_type": "execute_result"
    }
   ],
   "source": [
    "a"
   ]
  },
  {
   "cell_type": "code",
   "execution_count": 218,
   "id": "9d49ab61",
   "metadata": {},
   "outputs": [
    {
     "name": "stdout",
     "output_type": "stream",
     "text": [
      "['Z', 'b', 'c', 't', 'v']\n"
     ]
    }
   ],
   "source": [
    "a=['b','c','Z','t','v']\n",
    "a.sort() #기본적으로 오름차순 정렬됨(A:65 ~ Z:90, a:97  ~ z:122)\n",
    "\n",
    "\n",
    "print(a)\n",
    "#문자는 ascii코드 값을 기준으로 정렬\n",
    "#인코딩 : 코드화(문자,숫자 등 -> 코드(0,1)) 하는 작업\n",
    "#디코딩 : 코드(0,1) -> 문자,숫자 등\n",
    "\n",
    "#인코딩/디코딩 방식 : ascii(7bit), ebcdic, bcd, \n",
    "#utf8, utf16, euc-kr 등등\n",
    "\n",
    "#아스키 : 모든 문자/숫자를 7비트로 표현 (7비트 = 2의 7승 = 128가지 문자를 표현 가능)\n",
    "#0~127까지 코드\n",
    "\n",
    "#초성 * 중성 * 종성 \n",
    "\n",
    "#utf-3byte\n"
   ]
  },
  {
   "cell_type": "code",
   "execution_count": 219,
   "id": "bccfebdf",
   "metadata": {},
   "outputs": [
    {
     "data": {
      "text/plain": [
       "['v', 't', 'Z', 'c', 'b']"
      ]
     },
     "execution_count": 219,
     "metadata": {},
     "output_type": "execute_result"
    }
   ],
   "source": [
    "a=['b','c','Z','t','v']\n",
    "a.reverse() #역순으로 나열\n",
    "a"
   ]
  },
  {
   "cell_type": "code",
   "execution_count": 220,
   "id": "c4a676b4",
   "metadata": {},
   "outputs": [
    {
     "name": "stdout",
     "output_type": "stream",
     "text": [
      "['v', 't', 'c', 'b', 'Z']\n"
     ]
    }
   ],
   "source": [
    "a=['b','c','Z','t','v']\n",
    "a.sort()\n",
    "a.reverse()\n",
    "print(a)"
   ]
  },
  {
   "cell_type": "code",
   "execution_count": 223,
   "id": "afd746b4",
   "metadata": {},
   "outputs": [
    {
     "name": "stdout",
     "output_type": "stream",
     "text": [
      "['v', 't', 'c', 'b', 'Z', '0']\n"
     ]
    }
   ],
   "source": [
    "a=['b','c','Z','t','v', '0'] #'0':48\n",
    "a.sort(reverse=True)\n",
    "print(a)"
   ]
  },
  {
   "cell_type": "code",
   "execution_count": 231,
   "id": "7d412429",
   "metadata": {},
   "outputs": [
    {
     "data": {
      "text/plain": [
       "'\\x7f'"
      ]
     },
     "execution_count": 231,
     "metadata": {},
     "output_type": "execute_result"
    }
   ],
   "source": [
    "chr(65)  #아스키코드 값을 아스키 문자로 변환\n",
    "chr(90)\n",
    "chr(95)\n",
    "chr(0)\n",
    "chr(127)"
   ]
  },
  {
   "cell_type": "code",
   "execution_count": 232,
   "id": "032fd09a",
   "metadata": {},
   "outputs": [],
   "source": [
    "a=['b','c','Z','t','v', '0', chr(95)]"
   ]
  },
  {
   "cell_type": "code",
   "execution_count": 233,
   "id": "aab6130f",
   "metadata": {},
   "outputs": [
    {
     "name": "stdout",
     "output_type": "stream",
     "text": [
      "['v', 't', 'c', 'b', '_', 'Z', '0']\n"
     ]
    }
   ],
   "source": [
    "a.sort(reverse=True)\n",
    "print(a)"
   ]
  },
  {
   "cell_type": "code",
   "execution_count": null,
   "id": "d73be0a6",
   "metadata": {},
   "outputs": [],
   "source": []
  }
 ],
 "metadata": {
  "kernelspec": {
   "display_name": "Python 3",
   "language": "python",
   "name": "python3"
  },
  "language_info": {
   "codemirror_mode": {
    "name": "ipython",
    "version": 3
   },
   "file_extension": ".py",
   "mimetype": "text/x-python",
   "name": "python",
   "nbconvert_exporter": "python",
   "pygments_lexer": "ipython3",
   "version": "3.8.8"
  }
 },
 "nbformat": 4,
 "nbformat_minor": 5
}
