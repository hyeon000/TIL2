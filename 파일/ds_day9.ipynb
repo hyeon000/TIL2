{
 "cells": [
  {
   "cell_type": "code",
   "execution_count": null,
   "id": "afe2fc2f",
   "metadata": {},
   "outputs": [],
   "source": [
    "#벡터의 크기와 방향은 좌표축 성분으로 나누어 표현"
   ]
  },
  {
   "cell_type": "code",
   "execution_count": 1,
   "id": "1a7cd352",
   "metadata": {},
   "outputs": [],
   "source": [
    "import numpy as np"
   ]
  },
  {
   "cell_type": "code",
   "execution_count": 11,
   "id": "5e9e739a",
   "metadata": {},
   "outputs": [
    {
     "name": "stdout",
     "output_type": "stream",
     "text": [
      "[0 1 2 3 4 5]\n"
     ]
    }
   ],
   "source": [
    "arr = np.array(list(range(30))).reshape(5, -1)\n",
    "d_np = np.arange(30.).reshape(5, 6)\n",
    "np.max(arr)\n",
    "\n",
    "#각 행의 합\n",
    "arr.sum(axis = 1)\n",
    "#각 행의 최댓값\n",
    "np.max(arr, axis = 1)\n",
    "#각 열의 평균\n",
    "arr.mean(axis = 0)\n",
    "#각 열의 최솟값\n",
    "print(np.min(arr, axis = 0))\n",
    "\n"
   ]
  },
  {
   "cell_type": "code",
   "execution_count": 12,
   "id": "e7fac53d",
   "metadata": {},
   "outputs": [
    {
     "name": "stdout",
     "output_type": "stream",
     "text": [
      "[[ 0.  1.  2.  3.  4.  5.]\n",
      " [ 6.  7.  8.  9. 10. 11.]\n",
      " [12. 13. 14. 15. 16. 17.]\n",
      " [18. 19. 20. 21. 22. 23.]\n",
      " [24. 25. 26. 27. 28. 29.]]\n",
      "29.0\n",
      "[ 15.  51.  87. 123. 159.]\n",
      "[ 5. 11. 17. 23. 29.]\n",
      "[12. 13. 14. 15. 16. 17.]\n",
      "[0. 1. 2. 3. 4. 5.]\n"
     ]
    }
   ],
   "source": [
    "print(d_np)\n",
    "print(d_np.max()) #np.max(d_np)\n",
    "print(d_np.sum(axis=1)) #행\n",
    "print(d_np.max(axis=1)) #행\n",
    "print(d_np.mean(axis=0)) #열\n",
    "print(d_np.min(axis=0)) #열\n"
   ]
  },
  {
   "cell_type": "code",
   "execution_count": 13,
   "id": "7376358c",
   "metadata": {},
   "outputs": [
    {
     "data": {
      "text/plain": [
       "array([[ 0,  1,  2,  3,  4,  5],\n",
       "       [ 6,  7,  8,  9, 10, 11],\n",
       "       [12, 13, 14, 15, 16, 17],\n",
       "       [18, 19, 20, 21, 22, 23],\n",
       "       [24, 25, 26, 27, 28, 29]])"
      ]
     },
     "execution_count": 13,
     "metadata": {},
     "output_type": "execute_result"
    }
   ],
   "source": [
    "arr = np.array(list(range(30))).reshape(5, -1)\n",
    "arr"
   ]
  },
  {
   "cell_type": "code",
   "execution_count": 14,
   "id": "5fe4705a",
   "metadata": {},
   "outputs": [],
   "source": [
    "#정렬: axis=0 -> 행을 정렬,  axis=1 ->열을 정렬"
   ]
  },
  {
   "cell_type": "code",
   "execution_count": 16,
   "id": "1f9c96d7",
   "metadata": {},
   "outputs": [],
   "source": [
    "arr.sort(axis=1)"
   ]
  },
  {
   "cell_type": "code",
   "execution_count": 17,
   "id": "7ef4ea9f",
   "metadata": {},
   "outputs": [
    {
     "data": {
      "text/plain": [
       "array([[ 0,  1,  2,  3,  4,  5],\n",
       "       [ 6,  7,  8,  9, 10, 11],\n",
       "       [12, 13, 14, 15, 16, 17],\n",
       "       [18, 19, 20, 21, 22, 23],\n",
       "       [24, 25, 26, 27, 28, 29]])"
      ]
     },
     "execution_count": 17,
     "metadata": {},
     "output_type": "execute_result"
    }
   ],
   "source": [
    "arr"
   ]
  },
  {
   "cell_type": "code",
   "execution_count": 19,
   "id": "2dd515db",
   "metadata": {},
   "outputs": [
    {
     "data": {
      "text/plain": [
       "array([[ 4,  3,  5,  7],\n",
       "       [ 1, 12, 11,  9],\n",
       "       [ 2, 15,  1, 14]])"
      ]
     },
     "execution_count": 19,
     "metadata": {},
     "output_type": "execute_result"
    }
   ],
   "source": [
    "arr=np.array([[4,  3,  5,  7],\n",
    "              [1, 12, 11,  9],\n",
    "              [2, 15,  1, 14]])\n",
    "arr"
   ]
  },
  {
   "cell_type": "code",
   "execution_count": 20,
   "id": "1a54b568",
   "metadata": {},
   "outputs": [],
   "source": [
    "arr.sort(axis=1) #행을 기준으로 정렬"
   ]
  },
  {
   "cell_type": "code",
   "execution_count": 21,
   "id": "03b816c7",
   "metadata": {},
   "outputs": [
    {
     "data": {
      "text/plain": [
       "array([[ 3,  4,  5,  7],\n",
       "       [ 1,  9, 11, 12],\n",
       "       [ 1,  2, 14, 15]])"
      ]
     },
     "execution_count": 21,
     "metadata": {},
     "output_type": "execute_result"
    }
   ],
   "source": [
    "arr"
   ]
  },
  {
   "cell_type": "code",
   "execution_count": 22,
   "id": "3c4886d8",
   "metadata": {},
   "outputs": [],
   "source": [
    "arr.sort(axis=0) #열을 기준으로 정렬, in-place메서드"
   ]
  },
  {
   "cell_type": "code",
   "execution_count": 23,
   "id": "c4eb949e",
   "metadata": {},
   "outputs": [
    {
     "data": {
      "text/plain": [
       "array([[ 1,  2,  5,  7],\n",
       "       [ 1,  4, 11, 12],\n",
       "       [ 3,  9, 14, 15]])"
      ]
     },
     "execution_count": 23,
     "metadata": {},
     "output_type": "execute_result"
    }
   ],
   "source": [
    "arr"
   ]
  },
  {
   "cell_type": "code",
   "execution_count": 24,
   "id": "522d6400",
   "metadata": {},
   "outputs": [
    {
     "data": {
      "text/plain": [
       "array([2, 3, 1, 0], dtype=int64)"
      ]
     },
     "execution_count": 24,
     "metadata": {},
     "output_type": "execute_result"
    }
   ],
   "source": [
    "x=np.argsort([40,30,10,20])\n",
    "x"
   ]
  },
  {
   "cell_type": "code",
   "execution_count": 25,
   "id": "168db7d1",
   "metadata": {},
   "outputs": [],
   "source": [
    "data=[70,91,69,78,82]"
   ]
  },
  {
   "cell_type": "code",
   "execution_count": 29,
   "id": "5b7c5f75",
   "metadata": {},
   "outputs": [
    {
     "data": {
      "text/plain": [
       "78.0"
      ]
     },
     "execution_count": 29,
     "metadata": {},
     "output_type": "execute_result"
    }
   ],
   "source": [
    "# 기술통계\n",
    "len(data)\n",
    "sum(data)/len(data)\n",
    "np.mean(data)"
   ]
  },
  {
   "cell_type": "code",
   "execution_count": 30,
   "id": "c86d186f",
   "metadata": {},
   "outputs": [],
   "source": [
    "#분산?데이터와 평균값 사이의 거리에 대한 제곱의 평균\n",
    "#분산이 작다? 데이터가 모여있다\n",
    "\n",
    "#표준편차? 분산의 제곱근"
   ]
  },
  {
   "cell_type": "code",
   "execution_count": 31,
   "id": "9f1c3b2b",
   "metadata": {},
   "outputs": [],
   "source": [
    "# def myVar(data):\n",
    "    \n",
    "#     return 분산\n",
    "# def myStd(data):\n",
    "    \n",
    "#     return 표준편차\n",
    "\n",
    "def myVar(data):\n",
    "    average = sum(data) / len(data)\n",
    "    dists = [(d - average) ** 2 for d in data]\n",
    "    return sum(dists) / len(dists)\n",
    "\n",
    "def myStd(data):\n",
    "    return myVar(data) ** 0.5\n"
   ]
  },
  {
   "cell_type": "code",
   "execution_count": 32,
   "id": "dd655f5c",
   "metadata": {},
   "outputs": [],
   "source": [
    "data=[70,91,69,78,82]"
   ]
  },
  {
   "cell_type": "code",
   "execution_count": 34,
   "id": "86bb2bec",
   "metadata": {},
   "outputs": [
    {
     "data": {
      "text/plain": [
       "8.12403840463596"
      ]
     },
     "execution_count": 34,
     "metadata": {},
     "output_type": "execute_result"
    }
   ],
   "source": [
    "myVar(data)\n",
    "myStd(data)"
   ]
  },
  {
   "cell_type": "code",
   "execution_count": 35,
   "id": "f245bbac",
   "metadata": {},
   "outputs": [],
   "source": [
    "import math\n",
    "\n",
    "def myVar(data):\n",
    "    for i in data:\n",
    "        var = (i-np.mean(data))**2/len(data)\n",
    "    return var\n",
    "\n",
    "def myStd(data):\n",
    "    var = myVar(data)\n",
    "    std = math.sqrt(var)\n",
    "    return std\n"
   ]
  },
  {
   "cell_type": "code",
   "execution_count": 36,
   "id": "68a745c3",
   "metadata": {},
   "outputs": [],
   "source": [
    "data=[70,91,69,78,82]"
   ]
  },
  {
   "cell_type": "code",
   "execution_count": 38,
   "id": "0c49c7c4",
   "metadata": {},
   "outputs": [
    {
     "data": {
      "text/plain": [
       "8.12403840463596"
      ]
     },
     "execution_count": 38,
     "metadata": {},
     "output_type": "execute_result"
    }
   ],
   "source": [
    "np.var(data)\n",
    "np.std(data)"
   ]
  },
  {
   "cell_type": "code",
   "execution_count": 39,
   "id": "c9c00e8f",
   "metadata": {},
   "outputs": [
    {
     "data": {
      "text/plain": [
       "78.0"
      ]
     },
     "execution_count": 39,
     "metadata": {},
     "output_type": "execute_result"
    }
   ],
   "source": [
    "np.median(data)"
   ]
  },
  {
   "cell_type": "code",
   "execution_count": 40,
   "id": "c05a096a",
   "metadata": {},
   "outputs": [],
   "source": [
    "#사분위수: 데이터를 오름차순정렬\n",
    "# 1사분위수 : 1/4위치에(하위 25%) 있는 수\n",
    "# 2사분위수 : 2/4위치에(median) 있는 수\n",
    "# 3사분위수 : 3/4위치에(하위 75%) 있는 수\n",
    "# 최대값(4/4위치)"
   ]
  },
  {
   "cell_type": "code",
   "execution_count": 41,
   "id": "006e5489",
   "metadata": {},
   "outputs": [],
   "source": [
    "np.random.seed(802)"
   ]
  },
  {
   "cell_type": "code",
   "execution_count": 42,
   "id": "dd81343b",
   "metadata": {},
   "outputs": [
    {
     "data": {
      "text/plain": [
       "0"
      ]
     },
     "execution_count": 42,
     "metadata": {},
     "output_type": "execute_result"
    }
   ],
   "source": [
    "#seed(802):씨앗\n",
    "# np.random.rand:0~1 난수 생성\n",
    "# np.random.randn:표준정규분포 난수 생성, 평균:0, 표준편차:1\n",
    "# np.random.randint:정수 난수 생성\n",
    "\n",
    "np.random.randint(10)"
   ]
  },
  {
   "cell_type": "code",
   "execution_count": 45,
   "id": "5a5bf883",
   "metadata": {},
   "outputs": [
    {
     "data": {
      "text/plain": [
       "array([4, 9, 5, 3, 1])"
      ]
     },
     "execution_count": 45,
     "metadata": {},
     "output_type": "execute_result"
    }
   ],
   "source": [
    "np.random.randint(1, 10, 5) #1~10까지 5개의 난수 생성\n",
    "#1<=난수<10"
   ]
  },
  {
   "cell_type": "code",
   "execution_count": 48,
   "id": "8f40ec32",
   "metadata": {},
   "outputs": [
    {
     "data": {
      "text/plain": [
       "0.0020960000000000037"
      ]
     },
     "execution_count": 48,
     "metadata": {},
     "output_type": "execute_result"
    }
   ],
   "source": [
    "#표준편차가 30 =>  평균과 차이가 크다\n",
    "#단위를 고려\n",
    "x=[173, 181, 168, 175, 179]\n",
    "y=[1.73, 1.81, 1.68, 1.75, 1.79]\n",
    "np.var(x) #분산이 20.96\n",
    "np.var(y) #분산이 0.002\n",
    "\n",
    "#수학 분산/표준편차, 국어 분산/표준편차"
   ]
  },
  {
   "cell_type": "code",
   "execution_count": null,
   "id": "27739c47",
   "metadata": {},
   "outputs": [],
   "source": [
    "#머신러닝할때 데이터의 단위가 다른것이 뒤섞여 있는 경우가 있음\n",
    "#=> 표준값(Z값) = (신장데이터 - 신장평균) / 신장표준편차"
   ]
  },
  {
   "cell_type": "code",
   "execution_count": 49,
   "id": "31c37539",
   "metadata": {},
   "outputs": [],
   "source": [
    "# 국어점수평균 80점 => 90점, 표준편차:5 => 표준값 : 2\n",
    "# 수학점수평균 50점 => 70점, 표준편차:4 => 표준값 : 5\n",
    "#         신장   몸무게   나이\n",
    "# 사람1   170      60      20\n",
    "# 사람2   169      59      25\n",
    "# 사람3   170      64\n",
    "#         169      62 \n",
    "# ...\n",
    "# 사람n\n",
    "\n",
    "\n",
    "\n",
    "\n",
    "# 사람1과 가장 비슷한 사람?\n",
    "# 신장 범위 : 150 ~ 190\n",
    "# 몸무게 범위 : 40 ~ 150\n",
    "# 나이 범위 : 20~29\n",
    "\n"
   ]
  },
  {
   "cell_type": "code",
   "execution_count": null,
   "id": "bf19d77d",
   "metadata": {},
   "outputs": [],
   "source": []
  },
  {
   "cell_type": "code",
   "execution_count": null,
   "id": "b84370ef",
   "metadata": {},
   "outputs": [],
   "source": []
  },
  {
   "cell_type": "code",
   "execution_count": 50,
   "id": "9ffdde5b",
   "metadata": {},
   "outputs": [
    {
     "data": {
      "text/plain": [
       "array([ 6, 68, 34,  1, 75, 68, 29, 28, 73, 71, 56, 69, 52, 82, 60, 96, 21,\n",
       "       89, 93, 10, 24, 28, 79, 55,  3, 51, 23, 77, 81, 20])"
      ]
     },
     "execution_count": 50,
     "metadata": {},
     "output_type": "execute_result"
    }
   ],
   "source": [
    "x=np.random.randint(1, 100, 30)\n",
    "x"
   ]
  },
  {
   "cell_type": "code",
   "execution_count": 53,
   "id": "9ddc3ea4",
   "metadata": {},
   "outputs": [
    {
     "data": {
      "text/plain": [
       "96.0"
      ]
     },
     "execution_count": 53,
     "metadata": {},
     "output_type": "execute_result"
    }
   ],
   "source": [
    "np.percentile(x, 25) #percentile:백분위수\n",
    "np.percentile(x, 50) #percentile:백분위수\n",
    "np.percentile(x, 75) #percentile:백분위수\n",
    "np.percentile(x, 100) #percentile:백분위수"
   ]
  },
  {
   "cell_type": "code",
   "execution_count": 55,
   "id": "4b2cd458",
   "metadata": {},
   "outputs": [
    {
     "data": {
      "text/plain": [
       "array([[14, 15, 10, 15, 19],\n",
       "       [12, 13, 18, 18, 13],\n",
       "       [14, 15, 12, 15, 14]])"
      ]
     },
     "execution_count": 55,
     "metadata": {},
     "output_type": "execute_result"
    }
   ],
   "source": [
    "np.random.randint(10,20,size=(3,5))"
   ]
  },
  {
   "cell_type": "code",
   "execution_count": 56,
   "id": "8b6b321a",
   "metadata": {},
   "outputs": [
    {
     "data": {
      "text/plain": [
       "array([1, 2, 3])"
      ]
     },
     "execution_count": 56,
     "metadata": {},
     "output_type": "execute_result"
    }
   ],
   "source": [
    "np.unique([1,1,2,2,3])"
   ]
  },
  {
   "cell_type": "code",
   "execution_count": 57,
   "id": "e2f368d5",
   "metadata": {},
   "outputs": [
    {
     "data": {
      "text/plain": [
       "(array([1, 2, 3]), array([2, 2, 1], dtype=int64))"
      ]
     },
     "execution_count": 57,
     "metadata": {},
     "output_type": "execute_result"
    }
   ],
   "source": [
    "np.unique([1,1,2,2,3], return_counts=True)"
   ]
  },
  {
   "cell_type": "code",
   "execution_count": 59,
   "id": "404c9d2e",
   "metadata": {},
   "outputs": [
    {
     "data": {
      "text/plain": [
       "array([2, 2, 1], dtype=int64)"
      ]
     },
     "execution_count": 59,
     "metadata": {},
     "output_type": "execute_result"
    }
   ],
   "source": [
    "np.unique([1,1,2,2,3], return_counts=True)[0]\n",
    "np.unique([1,1,2,2,3], return_counts=True)[1]"
   ]
  },
  {
   "cell_type": "code",
   "execution_count": 60,
   "id": "97c01ed3",
   "metadata": {},
   "outputs": [
    {
     "name": "stdout",
     "output_type": "stream",
     "text": [
      "[1 2 3]\n",
      "[2 2 1]\n"
     ]
    }
   ],
   "source": [
    "a, b=np.unique([1,1,2,2,3], return_counts=True)\n",
    "print(a)\n",
    "print(b)"
   ]
  },
  {
   "cell_type": "code",
   "execution_count": 70,
   "id": "ea2c6a20",
   "metadata": {},
   "outputs": [
    {
     "data": {
      "text/plain": [
       "array([0, 2, 2, 1, 0, 0, 0], dtype=int64)"
      ]
     },
     "execution_count": 70,
     "metadata": {},
     "output_type": "execute_result"
    }
   ],
   "source": [
    "#np.bincount([1,1,2,2,3]) #0부터 3까지 각 수에 대한 카운트 값\n",
    "\n",
    "#주사위\n",
    "np.bincount([1,1,2,2,3],minlength=7)\n",
    "#0번은 버림"
   ]
  },
  {
   "cell_type": "code",
   "execution_count": null,
   "id": "fa34831f",
   "metadata": {},
   "outputs": [],
   "source": []
  }
 ],
 "metadata": {
  "kernelspec": {
   "display_name": "Python 3",
   "language": "python",
   "name": "python3"
  },
  "language_info": {
   "codemirror_mode": {
    "name": "ipython",
    "version": 3
   },
   "file_extension": ".py",
   "mimetype": "text/x-python",
   "name": "python",
   "nbconvert_exporter": "python",
   "pygments_lexer": "ipython3",
   "version": "3.8.8"
  }
 },
 "nbformat": 4,
 "nbformat_minor": 5
}
