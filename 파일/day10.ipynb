{
 "cells": [
  {
   "cell_type": "code",
   "execution_count": null,
   "id": "a00cff7d",
   "metadata": {},
   "outputs": [],
   "source": [
    "emails = ['python@mail.example.com', 'python+kr@example.com',              # 올바른 형식\n",
    "          'python-lang@example.co.kr', 'python_10@example.info',         # 올바른 형식\n",
    "          'python.lang@e-xample.com',                                    # 올바른 형식\n",
    "          '@example.com', 'python@example', 'python@example-com']          # 잘못된 형식\n",
    "#모든문자열1개이상 @ 문자열  .문자열\n",
    "\n",
    "for email in emails:\n",
    "    res = re.match(\"[0-9a-z-._+]+@[a-z-]+[.][a-z]+\", email)\n",
    "    if res:\n",
    "        print(email, \"올바른 형식\")\n",
    "    else:\n",
    "        print(email, \"잘못된 형식\")"
   ]
  },
  {
   "cell_type": "code",
   "execution_count": 2,
   "id": "641d8ed9",
   "metadata": {},
   "outputs": [
    {
     "name": "stdout",
     "output_type": "stream",
     "text": [
      "25\n"
     ]
    },
    {
     "data": {
      "text/plain": [
       "<re.Match object; span=(0, 22), match='python-lang@example.co'>"
      ]
     },
     "execution_count": 2,
     "metadata": {},
     "output_type": "execute_result"
    }
   ],
   "source": [
    "print(len('python-lang@example.co.kr'))\n",
    "import re\n",
    "re.match(\"[0-9a-z-._+]+@[a-z-]+[.][a-z]+\", 'python-lang@example.co.kr')"
   ]
  },
  {
   "cell_type": "code",
   "execution_count": 3,
   "id": "1cb42ca2",
   "metadata": {},
   "outputs": [
    {
     "data": {
      "text/plain": [
       "<re.Match object; span=(0, 25), match='python-lang@example.co.kr'>"
      ]
     },
     "execution_count": 3,
     "metadata": {},
     "output_type": "execute_result"
    }
   ],
   "source": [
    "re.match('[0-9A-Za-z._+-]+@[0-9A-Za-z+-]+[.][0-9A-Za-z.+-]+[.]*[0-9A-Za-z.+-]*','python-lang@example.co.kr')"
   ]
  },
  {
   "cell_type": "code",
   "execution_count": 4,
   "id": "6fb5ce8e",
   "metadata": {},
   "outputs": [],
   "source": [
    "import re\n"
   ]
  },
  {
   "cell_type": "code",
   "execution_count": 19,
   "id": "72f067ee",
   "metadata": {},
   "outputs": [
    {
     "data": {
      "text/plain": [
       "<re.Match object; span=(0, 13), match='a...........b'>"
      ]
     },
     "execution_count": 19,
     "metadata": {},
     "output_type": "execute_result"
    }
   ],
   "source": [
    "# Dot(.) : 모든 문자와 매치가 됨(단, \\n는 제외)\n",
    "re.match(\"ab\", \"abc\")\n",
    "re.match(\"a.b\", \"abc\")\n",
    "re.match(\"a.b\", \"acbc\")\n",
    "re.match(\"a.b\", \"accbc\")\n",
    "\n",
    "#[.] : 반드시 점이 있어야 함\n",
    "re.match(\"a[.,]b\", \"a.b\")\n",
    "\n",
    "re.match(\"a[.][.][.][.][.]b\", \"a..b\")\n",
    "re.match(\"a[.]+b\", \"a..b\")\n",
    "\n",
    "re.match(\"a[.]*b\", \"a...........b\")\n"
   ]
  },
  {
   "cell_type": "code",
   "execution_count": 29,
   "id": "b6913138",
   "metadata": {},
   "outputs": [],
   "source": [
    "#문자{숫자} : 반드시 숫자만큼 왼쪽에 있는 문자가 반복되어야 함\n",
    "re.match(\"do{2}g\", \"dog\")\n",
    "re.match(\"do{2}g\", \"doog\")\n",
    "re.match(\"do{2}g\", \"dooog\")\n",
    "\n",
    "#문자{숫자1, 숫자2} : 반드시 숫자1 이상 숫자2 이하만큼 왼쪽에 있는 문자가 반복되어야 함\n",
    "re.match(\"do{2,5}g\", \"dog\")\n",
    "\n",
    "re.match(\"do{2,5}g\", \"doog\")\n",
    "re.match(\"do{2,5}g\", \"dooooog\")\n",
    "\n",
    "re.match(\"do{2,5}g\", \"doooooog\")"
   ]
  },
  {
   "cell_type": "code",
   "execution_count": 30,
   "id": "afa0f38a",
   "metadata": {},
   "outputs": [],
   "source": [
    "# ? == {0,1}\n",
    "\n",
    "# * == {0, 무한대}\n",
    "# + == {1, 무한대}"
   ]
  },
  {
   "cell_type": "code",
   "execution_count": 33,
   "id": "c3d7f9e3",
   "metadata": {},
   "outputs": [],
   "source": [
    "re.match(\"do?g\", \"dog\")\n",
    "re.match(\"do?g\", \"dg\")\n",
    "re.match(\"do?g\", \"doog\")"
   ]
  },
  {
   "cell_type": "code",
   "execution_count": 34,
   "id": "ac8616ae",
   "metadata": {},
   "outputs": [],
   "source": [
    "s=\"How are you?\""
   ]
  },
  {
   "cell_type": "code",
   "execution_count": null,
   "id": "88ee3019",
   "metadata": {},
   "outputs": [],
   "source": [
    "#['How','are','you?']"
   ]
  },
  {
   "cell_type": "code",
   "execution_count": 35,
   "id": "bd7afe0d",
   "metadata": {},
   "outputs": [
    {
     "data": {
      "text/plain": [
       "['How', 'are', 'you?']"
      ]
     },
     "execution_count": 35,
     "metadata": {},
     "output_type": "execute_result"
    }
   ],
   "source": [
    "re.findall('[A-Za-z?]{1,}','How are you?')"
   ]
  },
  {
   "cell_type": "code",
   "execution_count": 36,
   "id": "56fd4601",
   "metadata": {},
   "outputs": [
    {
     "data": {
      "text/plain": [
       "['How', 'are', 'you?']"
      ]
     },
     "execution_count": 36,
     "metadata": {},
     "output_type": "execute_result"
    }
   ],
   "source": [
    "re.findall(\"[\\w?]+\", s)"
   ]
  },
  {
   "cell_type": "code",
   "execution_count": null,
   "id": "a8bc5625",
   "metadata": {},
   "outputs": [],
   "source": []
  },
  {
   "cell_type": "code",
   "execution_count": 47,
   "id": "2d25c377",
   "metadata": {},
   "outputs": [
    {
     "data": {
      "text/plain": [
       "<re.Match object; span=(4, 10), match='python'>"
      ]
     },
     "execution_count": 47,
     "metadata": {},
     "output_type": "execute_result"
    }
   ],
   "source": [
    "#re.match(\"패턴식\",\"문자열\")\n",
    "\n",
    "pat=re.compile(\"[a-z]+\")\n",
    "#res=pat.match(\"python\")\n",
    "\n",
    "res=pat.search(\"100 python\")\n",
    "res"
   ]
  },
  {
   "cell_type": "code",
   "execution_count": 46,
   "id": "c69a4339",
   "metadata": {},
   "outputs": [
    {
     "data": {
      "text/plain": [
       "(0, 6)"
      ]
     },
     "execution_count": 46,
     "metadata": {},
     "output_type": "execute_result"
    }
   ],
   "source": [
    "res.group() #매치된 문자열\n",
    "len(res.group())\n",
    "res.start() #매치된 문자열의 시작위치\n",
    "res.end() #매치된 문자열의 끝위치\n",
    "res.span() #매치된 문자열의 (시작, 끝)위치"
   ]
  },
  {
   "cell_type": "code",
   "execution_count": 56,
   "id": "7549ebc7",
   "metadata": {},
   "outputs": [
    {
     "data": {
      "text/plain": [
       "<re.Match object; span=(0, 1), match='\\\\'>"
      ]
     },
     "execution_count": 56,
     "metadata": {},
     "output_type": "execute_result"
    }
   ],
   "source": [
    "# pat=re.compile(\"[a-z]+\\\\\")\n",
    "# pat.search(\"test\\\\\")\n",
    "\n",
    "#re.match(\"\\\\\\\\\", \"\\\\test\")\n"
   ]
  },
  {
   "cell_type": "code",
   "execution_count": null,
   "id": "21e8d4a5",
   "metadata": {},
   "outputs": [],
   "source": [
    "\\w\n",
    "\\d [0-9]\n",
    "\\s\n"
   ]
  },
  {
   "cell_type": "code",
   "execution_count": 65,
   "id": "ebeea906",
   "metadata": {},
   "outputs": [
    {
     "data": {
      "text/plain": [
       "'100 200'"
      ]
     },
     "execution_count": 65,
     "metadata": {},
     "output_type": "execute_result"
    }
   ],
   "source": [
    "res=re.match(\"([0-9]+) ([0-9]+)\",\"100 200\")\n",
    "res\n",
    "res.group() #  res.group(0)\n",
    "res.group(1)\n",
    "res.group(2)\n",
    "res.groups()\n"
   ]
  },
  {
   "cell_type": "code",
   "execution_count": 66,
   "id": "29643de0",
   "metadata": {},
   "outputs": [],
   "source": [
    "res=re.match(\"(?P<first>[0-9]+) (?P<second>[0-9]+)\",\"100 200\")\n",
    "#?P<그룹명>"
   ]
  },
  {
   "cell_type": "code",
   "execution_count": 69,
   "id": "59d96253",
   "metadata": {},
   "outputs": [
    {
     "data": {
      "text/plain": [
       "'200'"
      ]
     },
     "execution_count": 69,
     "metadata": {},
     "output_type": "execute_result"
    }
   ],
   "source": [
    "res.group(1)\n",
    "res.group('first')\n",
    "res.group(2)\n",
    "res.group('second')"
   ]
  },
  {
   "cell_type": "code",
   "execution_count": 70,
   "id": "52902d5a",
   "metadata": {},
   "outputs": [
    {
     "data": {
      "text/plain": [
       "'한국은 한국(한국)입니다'"
      ]
     },
     "execution_count": 70,
     "metadata": {},
     "output_type": "execute_result"
    }
   ],
   "source": [
    "# 동의어 처리\n",
    "#re.sub(\"정규식\", \"바꿀문자열\", \"문자열\")\n",
    "#문자열이 정규식에 매칭되면 바꿀문자열로 변경하시오\n",
    "\n",
    "re.sub(\"대한민국|코리아|Korea\", \"한국\", \"대한민국은 코리아(Korea)입니다\")"
   ]
  },
  {
   "cell_type": "code",
   "execution_count": 72,
   "id": "84fb4a32",
   "metadata": {},
   "outputs": [],
   "source": [
    "#다의어 처리???\n",
    "#배 -타는,먹는,신체..\n",
    "#배를 타고 가는 길에 배를 많이 먹었더니 배가 아프다. 나는 다른 거를 타겠다\n"
   ]
  },
  {
   "cell_type": "code",
   "execution_count": 73,
   "id": "5ab16bbb",
   "metadata": {},
   "outputs": [],
   "source": [
    "#배 + 를 + ..."
   ]
  },
  {
   "cell_type": "code",
   "execution_count": 74,
   "id": "a3f58ad3",
   "metadata": {},
   "outputs": [
    {
     "data": {
      "text/plain": [
       "<re.Match object; span=(0, 9), match='가나다가나다가나다'>"
      ]
     },
     "execution_count": 74,
     "metadata": {},
     "output_type": "execute_result"
    }
   ],
   "source": [
    "re.match(\"(가나다)+\", \"가나다가나다가나다라마바\")\n"
   ]
  },
  {
   "cell_type": "code",
   "execution_count": 78,
   "id": "c0ec948c",
   "metadata": {},
   "outputs": [],
   "source": [
    "#        a[.]{3,}b 패턴식\n",
    "\n",
    "re.match(\"a[.]{3,}b\", \"accb\")\n",
    "re.match(\"a[.]{3,}b\", \"a.......b\")\n",
    "re.match(\"a[.]{3,}b\", \"aaab\")\n",
    "re.match(\"a[.]{3,}b\", \"a.cccccb\")"
   ]
  },
  {
   "cell_type": "code",
   "execution_count": 84,
   "id": "71310b4c",
   "metadata": {},
   "outputs": [
    {
     "data": {
      "text/plain": [
       "'\\nkim 010-1111-2222\\nlee 010-1111-3333\\npark 010-1111-1111 \\n'"
      ]
     },
     "execution_count": 84,
     "metadata": {},
     "output_type": "execute_result"
    }
   ],
   "source": [
    "s=\"\"\"\n",
    "kim 010-1111-2222\n",
    "lee 010-1111-3333\n",
    "park 010-1111-1111 \n",
    "\"\"\"\n",
    "\n",
    "#re.sub(\"정규식\", \"바꿀문자열\", \"문자열\")\n",
    "\n",
    "# pat=re.compile(\"(\\d{3}-]\\d{4})[-]\\d{4}\")\n",
    "# pat.sub(\"\\g<1>-####\",s)\n",
    "\n",
    "re.sub(\"(\\d{3}-]\\d{4})[-]\\d{4}\", \"\\g<1>-####\",s)\n",
    "\n",
    "\n",
    "#re.sub('[0-9]{4}','####',s)\n"
   ]
  },
  {
   "cell_type": "code",
   "execution_count": 85,
   "id": "f7b1c827",
   "metadata": {},
   "outputs": [],
   "source": [
    "#4자리 전화번호를 #기호로 모두 변경하는 정규식"
   ]
  },
  {
   "cell_type": "code",
   "execution_count": null,
   "id": "05fd3364",
   "metadata": {},
   "outputs": [],
   "source": []
  },
  {
   "cell_type": "code",
   "execution_count": null,
   "id": "05e754e2",
   "metadata": {},
   "outputs": [],
   "source": [
    "#전화번호 추출\n",
    "#문의 전화는 02-123-4567으로 연락주세요\n",
    "#문의 전화는 02-1234-4567으로 연락주세요\n",
    "#문의 전화는 032-1234-4567으로 연락주세요\n",
    "#지역번호 2 or 3, 국번호 3 or 4자리, 전화번호 4자리 패턴식 정의"
   ]
  },
  {
   "cell_type": "code",
   "execution_count": 4,
   "id": "cf2e8af3",
   "metadata": {},
   "outputs": [],
   "source": [
    "import re\n",
    "re.match(\"\\d{2,3}[-]\\d{3,4}[-]\\d{4}\",\"문의 전화는 032-1234-4567으로 연락주세요\")"
   ]
  },
  {
   "cell_type": "code",
   "execution_count": null,
   "id": "0ab2849d",
   "metadata": {},
   "outputs": [],
   "source": []
  },
  {
   "cell_type": "code",
   "execution_count": 86,
   "id": "0aef4afc",
   "metadata": {},
   "outputs": [
    {
     "data": {
      "text/plain": [
       "<re.Match object; span=(0, 1), match='\\\\'>"
      ]
     },
     "execution_count": 86,
     "metadata": {},
     "output_type": "execute_result"
    }
   ],
   "source": [
    "#re.match(\"\\\\\\\\\",\"\\\\문자열\") #문자열에 \\가 왔을때, \\를 인식"
   ]
  },
  {
   "cell_type": "code",
   "execution_count": null,
   "id": "82c84b6c",
   "metadata": {},
   "outputs": [],
   "source": []
  },
  {
   "cell_type": "code",
   "execution_count": null,
   "id": "27f7b99d",
   "metadata": {},
   "outputs": [],
   "source": []
  }
 ],
 "metadata": {
  "kernelspec": {
   "display_name": "Python 3",
   "language": "python",
   "name": "python3"
  },
  "language_info": {
   "codemirror_mode": {
    "name": "ipython",
    "version": 3
   },
   "file_extension": ".py",
   "mimetype": "text/x-python",
   "name": "python",
   "nbconvert_exporter": "python",
   "pygments_lexer": "ipython3",
   "version": "3.8.8"
  }
 },
 "nbformat": 4,
 "nbformat_minor": 5
}
