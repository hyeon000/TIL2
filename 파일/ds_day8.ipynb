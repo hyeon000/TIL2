{
 "cells": [
  {
   "cell_type": "code",
   "execution_count": 3,
   "id": "1a8136cf",
   "metadata": {},
   "outputs": [],
   "source": [
    "#array 연결\n",
    "import numpy as np"
   ]
  },
  {
   "cell_type": "code",
   "execution_count": 5,
   "id": "2cce260e",
   "metadata": {},
   "outputs": [],
   "source": [
    "# #stack 계열 함수 : 행 또는 열의 수가 동일한 두 개 이상의 배열을 연결\n",
    "# hstack : 행의 개수가 동일한 배열을 옆으로 연결\n",
    "# vstack: 열의 개수가 동일한 배열을 밑으로 연결"
   ]
  },
  {
   "cell_type": "code",
   "execution_count": 8,
   "id": "a944728e",
   "metadata": {},
   "outputs": [
    {
     "name": "stdout",
     "output_type": "stream",
     "text": [
      "[[1. 1. 1.]\n",
      " [1. 1. 1.]]\n",
      "[[0. 0.]\n",
      " [0. 0.]]\n"
     ]
    }
   ],
   "source": [
    "x1=np.ones((2,3)) # 행 2, 열 3\n",
    "print(x1)\n",
    "x2=np.zeros((2,2))# 행 2, 열 3\n",
    "print(x2)"
   ]
  },
  {
   "cell_type": "code",
   "execution_count": 11,
   "id": "3f3d1251",
   "metadata": {},
   "outputs": [
    {
     "data": {
      "text/plain": [
       "array([[1., 1., 1., 0., 0.],\n",
       "       [1., 1., 1., 0., 0.]])"
      ]
     },
     "execution_count": 11,
     "metadata": {},
     "output_type": "execute_result"
    }
   ],
   "source": [
    "np.hstack([x1,x2])"
   ]
  },
  {
   "cell_type": "code",
   "execution_count": 12,
   "id": "36ecabcc",
   "metadata": {},
   "outputs": [
    {
     "name": "stdout",
     "output_type": "stream",
     "text": [
      "[[1. 1. 1.]\n",
      " [1. 1. 1.]]\n",
      "[[0. 0. 0.]\n",
      " [0. 0. 0.]\n",
      " [0. 0. 0.]]\n"
     ]
    }
   ],
   "source": [
    "x3=np.ones((2,3)) # 행 2, 열 3\n",
    "print(x3)\n",
    "x4=np.zeros((3,3))# 행 3, 열 3\n",
    "print(x4)"
   ]
  },
  {
   "cell_type": "code",
   "execution_count": 13,
   "id": "95f46a83",
   "metadata": {},
   "outputs": [
    {
     "data": {
      "text/plain": [
       "array([[1., 1., 1.],\n",
       "       [1., 1., 1.],\n",
       "       [0., 0., 0.],\n",
       "       [0., 0., 0.],\n",
       "       [0., 0., 0.]])"
      ]
     },
     "execution_count": 13,
     "metadata": {},
     "output_type": "execute_result"
    }
   ],
   "source": [
    "np.vstack([x3,x4])"
   ]
  },
  {
   "cell_type": "code",
   "execution_count": null,
   "id": "a328c9c9",
   "metadata": {},
   "outputs": [],
   "source": []
  },
  {
   "cell_type": "code",
   "execution_count": 29,
   "id": "5b64de4f",
   "metadata": {},
   "outputs": [],
   "source": [
    "x=np.arange(1,10000001)\n",
    "y=np.arange(10000001,20000001)"
   ]
  },
  {
   "cell_type": "code",
   "execution_count": 30,
   "id": "f1ef5155",
   "metadata": {},
   "outputs": [
    {
     "name": "stdout",
     "output_type": "stream",
     "text": [
      "Wall time: 4.49 s\n"
     ]
    }
   ],
   "source": [
    "%%time\n",
    "z=np.zeros_like(x)\n",
    "for i in range(10000000):\n",
    "    z[i]=x[i]+y[i]\n",
    "    #6ms : ms(10-3승 초, 1/1000 초), us(10-6초),  ns, ps, fs, as, ..."
   ]
  },
  {
   "cell_type": "code",
   "execution_count": 31,
   "id": "cfb9935d",
   "metadata": {},
   "outputs": [
    {
     "name": "stdout",
     "output_type": "stream",
     "text": [
      "[10000002 10000004 10000006 ... 29999996 29999998 30000000]\n"
     ]
    }
   ],
   "source": [
    "print(z)"
   ]
  },
  {
   "cell_type": "code",
   "execution_count": 32,
   "id": "68d6fc4d",
   "metadata": {},
   "outputs": [
    {
     "name": "stdout",
     "output_type": "stream",
     "text": [
      "Wall time: 27 ms\n"
     ]
    }
   ],
   "source": [
    "%%time\n",
    "z=x+y"
   ]
  },
  {
   "cell_type": "code",
   "execution_count": 19,
   "id": "1efa6dba",
   "metadata": {},
   "outputs": [
    {
     "data": {
      "text/plain": [
       "array([10002, 10004, 10006, ..., 29996, 29998, 30000])"
      ]
     },
     "execution_count": 19,
     "metadata": {},
     "output_type": "execute_result"
    }
   ],
   "source": [
    "z"
   ]
  },
  {
   "cell_type": "code",
   "execution_count": 36,
   "id": "a1a9576c",
   "metadata": {},
   "outputs": [
    {
     "data": {
      "text/plain": [
       "True"
      ]
     },
     "execution_count": 36,
     "metadata": {},
     "output_type": "execute_result"
    }
   ],
   "source": [
    "x1=np.array([1,2,3])\n",
    "x2=np.array([1,3,3])\n",
    "x1==x2\n",
    "np.all(x1==x2) #x2과 x1가 모두 같습니까"
   ]
  },
  {
   "cell_type": "code",
   "execution_count": 37,
   "id": "69236592",
   "metadata": {},
   "outputs": [
    {
     "data": {
      "text/plain": [
       "array([ 2.71828183,  7.3890561 , 20.08553692])"
      ]
     },
     "execution_count": 37,
     "metadata": {},
     "output_type": "execute_result"
    }
   ],
   "source": [
    "np.exp(x1) #자연상수(e)=2.718xxx"
   ]
  },
  {
   "cell_type": "code",
   "execution_count": 40,
   "id": "c235bf9d",
   "metadata": {},
   "outputs": [
    {
     "data": {
      "text/plain": [
       "array([  10,  100, 1000], dtype=int32)"
      ]
     },
     "execution_count": 40,
     "metadata": {},
     "output_type": "execute_result"
    }
   ],
   "source": [
    "10 ** x1"
   ]
  },
  {
   "cell_type": "code",
   "execution_count": null,
   "id": "518c2775",
   "metadata": {},
   "outputs": [],
   "source": [
    "#선형대수\n",
    "데이터 개수 또는 형태에 따라 스칼라, 벡터, 행렬, 텐서로 구분됨\n",
    "스칼라? 숫자 하나로 구성된 데이터(0차원 텐서)\n",
    "벡터? (사전에 정의된 어떤 순서에 따라)여러개의 숫자들로 구성된 데이터(1차원 텐서)\n",
    "행렬? 벡터들의 집합(2차원 텐서)\n",
    "텐서? 같은 크기의 행렬이 여러개 있는 것(다차원 텐서)"
   ]
  },
  {
   "cell_type": "code",
   "execution_count": 48,
   "id": "59625792",
   "metadata": {},
   "outputs": [
    {
     "data": {
      "text/plain": [
       "(150, 4)"
      ]
     },
     "execution_count": 48,
     "metadata": {},
     "output_type": "execute_result"
    }
   ],
   "source": [
    "from sklearn.datasets import load_iris\n",
    "#sklearn = scikit learn\n",
    "iris=load_iris()\n",
    "iris\n",
    "irisData=iris.data#iris['data']\n",
    "irisData.shape"
   ]
  },
  {
   "cell_type": "code",
   "execution_count": 52,
   "id": "99c44223",
   "metadata": {},
   "outputs": [
    {
     "data": {
      "text/plain": [
       "5.9"
      ]
     },
     "execution_count": 52,
     "metadata": {},
     "output_type": "execute_result"
    }
   ],
   "source": [
    "irisData[149][0] #스칼라"
   ]
  },
  {
   "cell_type": "code",
   "execution_count": null,
   "id": "895d9417",
   "metadata": {},
   "outputs": [],
   "source": [
    "과일가게\n",
    "1/1 사과=10, 바나나=5, 딸기=2\n",
    "1/2 메론=5, 사과=3, 딸기=1\n",
    "...\n",
    "1월달 총 매출액?\n",
    "사과\n",
    "=>\n",
    "      사과 바나나 딸기 메론 \n",
    "1/1    10    5      2   0   => 행벡터\n",
    "1/2    3     0     1   5\n",
    "...\n",
    "1/31   5    0     0    2\n",
    "---------------------------\n",
    "    열벡터\n",
    "    \n"
   ]
  },
  {
   "cell_type": "code",
   "execution_count": 55,
   "id": "841da9f5",
   "metadata": {},
   "outputs": [
    {
     "data": {
      "text/plain": [
       "array([10,  5,  2,  0])"
      ]
     },
     "execution_count": 55,
     "metadata": {},
     "output_type": "execute_result"
    }
   ],
   "source": [
    "#넘파이에서 벡터를 표현하는 형식 : 열의 개수가 1개인 2차원 배열로 표현, \n",
    "#1차원 배열도 벡터로 인정해줌\n",
    "\n",
    "#주의:배열의 차원은 벡터의 차원(원소의 개수)과 다른 의미!!!\n",
    "\n",
    "#10    5      2   0   => 1차원 배열, 4차원 벡터\n",
    "\n",
    "\n",
    "x=np.array([[10], [5], [2], [0]])\n",
    "x\n",
    "\n",
    "x2=np.array([10, 5, 2, 0])\n",
    "x2\n"
   ]
  },
  {
   "cell_type": "code",
   "execution_count": 53,
   "id": "9241b70c",
   "metadata": {},
   "outputs": [
    {
     "data": {
      "text/plain": [
       "array([[5.1, 3.5, 1.4, 0.2],\n",
       "       [4.9, 3. , 1.4, 0.2],\n",
       "       [4.7, 3.2, 1.3, 0.2],\n",
       "       [4.6, 3.1, 1.5, 0.2],\n",
       "       [5. , 3.6, 1.4, 0.2],\n",
       "       [5.4, 3.9, 1.7, 0.4],\n",
       "       [4.6, 3.4, 1.4, 0.3],\n",
       "       [5. , 3.4, 1.5, 0.2],\n",
       "       [4.4, 2.9, 1.4, 0.2],\n",
       "       [4.9, 3.1, 1.5, 0.1],\n",
       "       [5.4, 3.7, 1.5, 0.2],\n",
       "       [4.8, 3.4, 1.6, 0.2],\n",
       "       [4.8, 3. , 1.4, 0.1],\n",
       "       [4.3, 3. , 1.1, 0.1],\n",
       "       [5.8, 4. , 1.2, 0.2],\n",
       "       [5.7, 4.4, 1.5, 0.4],\n",
       "       [5.4, 3.9, 1.3, 0.4],\n",
       "       [5.1, 3.5, 1.4, 0.3],\n",
       "       [5.7, 3.8, 1.7, 0.3],\n",
       "       [5.1, 3.8, 1.5, 0.3],\n",
       "       [5.4, 3.4, 1.7, 0.2],\n",
       "       [5.1, 3.7, 1.5, 0.4],\n",
       "       [4.6, 3.6, 1. , 0.2],\n",
       "       [5.1, 3.3, 1.7, 0.5],\n",
       "       [4.8, 3.4, 1.9, 0.2],\n",
       "       [5. , 3. , 1.6, 0.2],\n",
       "       [5. , 3.4, 1.6, 0.4],\n",
       "       [5.2, 3.5, 1.5, 0.2],\n",
       "       [5.2, 3.4, 1.4, 0.2],\n",
       "       [4.7, 3.2, 1.6, 0.2],\n",
       "       [4.8, 3.1, 1.6, 0.2],\n",
       "       [5.4, 3.4, 1.5, 0.4],\n",
       "       [5.2, 4.1, 1.5, 0.1],\n",
       "       [5.5, 4.2, 1.4, 0.2],\n",
       "       [4.9, 3.1, 1.5, 0.2],\n",
       "       [5. , 3.2, 1.2, 0.2],\n",
       "       [5.5, 3.5, 1.3, 0.2],\n",
       "       [4.9, 3.6, 1.4, 0.1],\n",
       "       [4.4, 3. , 1.3, 0.2],\n",
       "       [5.1, 3.4, 1.5, 0.2],\n",
       "       [5. , 3.5, 1.3, 0.3],\n",
       "       [4.5, 2.3, 1.3, 0.3],\n",
       "       [4.4, 3.2, 1.3, 0.2],\n",
       "       [5. , 3.5, 1.6, 0.6],\n",
       "       [5.1, 3.8, 1.9, 0.4],\n",
       "       [4.8, 3. , 1.4, 0.3],\n",
       "       [5.1, 3.8, 1.6, 0.2],\n",
       "       [4.6, 3.2, 1.4, 0.2],\n",
       "       [5.3, 3.7, 1.5, 0.2],\n",
       "       [5. , 3.3, 1.4, 0.2],\n",
       "       [7. , 3.2, 4.7, 1.4],\n",
       "       [6.4, 3.2, 4.5, 1.5],\n",
       "       [6.9, 3.1, 4.9, 1.5],\n",
       "       [5.5, 2.3, 4. , 1.3],\n",
       "       [6.5, 2.8, 4.6, 1.5],\n",
       "       [5.7, 2.8, 4.5, 1.3],\n",
       "       [6.3, 3.3, 4.7, 1.6],\n",
       "       [4.9, 2.4, 3.3, 1. ],\n",
       "       [6.6, 2.9, 4.6, 1.3],\n",
       "       [5.2, 2.7, 3.9, 1.4],\n",
       "       [5. , 2. , 3.5, 1. ],\n",
       "       [5.9, 3. , 4.2, 1.5],\n",
       "       [6. , 2.2, 4. , 1. ],\n",
       "       [6.1, 2.9, 4.7, 1.4],\n",
       "       [5.6, 2.9, 3.6, 1.3],\n",
       "       [6.7, 3.1, 4.4, 1.4],\n",
       "       [5.6, 3. , 4.5, 1.5],\n",
       "       [5.8, 2.7, 4.1, 1. ],\n",
       "       [6.2, 2.2, 4.5, 1.5],\n",
       "       [5.6, 2.5, 3.9, 1.1],\n",
       "       [5.9, 3.2, 4.8, 1.8],\n",
       "       [6.1, 2.8, 4. , 1.3],\n",
       "       [6.3, 2.5, 4.9, 1.5],\n",
       "       [6.1, 2.8, 4.7, 1.2],\n",
       "       [6.4, 2.9, 4.3, 1.3],\n",
       "       [6.6, 3. , 4.4, 1.4],\n",
       "       [6.8, 2.8, 4.8, 1.4],\n",
       "       [6.7, 3. , 5. , 1.7],\n",
       "       [6. , 2.9, 4.5, 1.5],\n",
       "       [5.7, 2.6, 3.5, 1. ],\n",
       "       [5.5, 2.4, 3.8, 1.1],\n",
       "       [5.5, 2.4, 3.7, 1. ],\n",
       "       [5.8, 2.7, 3.9, 1.2],\n",
       "       [6. , 2.7, 5.1, 1.6],\n",
       "       [5.4, 3. , 4.5, 1.5],\n",
       "       [6. , 3.4, 4.5, 1.6],\n",
       "       [6.7, 3.1, 4.7, 1.5],\n",
       "       [6.3, 2.3, 4.4, 1.3],\n",
       "       [5.6, 3. , 4.1, 1.3],\n",
       "       [5.5, 2.5, 4. , 1.3],\n",
       "       [5.5, 2.6, 4.4, 1.2],\n",
       "       [6.1, 3. , 4.6, 1.4],\n",
       "       [5.8, 2.6, 4. , 1.2],\n",
       "       [5. , 2.3, 3.3, 1. ],\n",
       "       [5.6, 2.7, 4.2, 1.3],\n",
       "       [5.7, 3. , 4.2, 1.2],\n",
       "       [5.7, 2.9, 4.2, 1.3],\n",
       "       [6.2, 2.9, 4.3, 1.3],\n",
       "       [5.1, 2.5, 3. , 1.1],\n",
       "       [5.7, 2.8, 4.1, 1.3],\n",
       "       [6.3, 3.3, 6. , 2.5],\n",
       "       [5.8, 2.7, 5.1, 1.9],\n",
       "       [7.1, 3. , 5.9, 2.1],\n",
       "       [6.3, 2.9, 5.6, 1.8],\n",
       "       [6.5, 3. , 5.8, 2.2],\n",
       "       [7.6, 3. , 6.6, 2.1],\n",
       "       [4.9, 2.5, 4.5, 1.7],\n",
       "       [7.3, 2.9, 6.3, 1.8],\n",
       "       [6.7, 2.5, 5.8, 1.8],\n",
       "       [7.2, 3.6, 6.1, 2.5],\n",
       "       [6.5, 3.2, 5.1, 2. ],\n",
       "       [6.4, 2.7, 5.3, 1.9],\n",
       "       [6.8, 3. , 5.5, 2.1],\n",
       "       [5.7, 2.5, 5. , 2. ],\n",
       "       [5.8, 2.8, 5.1, 2.4],\n",
       "       [6.4, 3.2, 5.3, 2.3],\n",
       "       [6.5, 3. , 5.5, 1.8],\n",
       "       [7.7, 3.8, 6.7, 2.2],\n",
       "       [7.7, 2.6, 6.9, 2.3],\n",
       "       [6. , 2.2, 5. , 1.5],\n",
       "       [6.9, 3.2, 5.7, 2.3],\n",
       "       [5.6, 2.8, 4.9, 2. ],\n",
       "       [7.7, 2.8, 6.7, 2. ],\n",
       "       [6.3, 2.7, 4.9, 1.8],\n",
       "       [6.7, 3.3, 5.7, 2.1],\n",
       "       [7.2, 3.2, 6. , 1.8],\n",
       "       [6.2, 2.8, 4.8, 1.8],\n",
       "       [6.1, 3. , 4.9, 1.8],\n",
       "       [6.4, 2.8, 5.6, 2.1],\n",
       "       [7.2, 3. , 5.8, 1.6],\n",
       "       [7.4, 2.8, 6.1, 1.9],\n",
       "       [7.9, 3.8, 6.4, 2. ],\n",
       "       [6.4, 2.8, 5.6, 2.2],\n",
       "       [6.3, 2.8, 5.1, 1.5],\n",
       "       [6.1, 2.6, 5.6, 1.4],\n",
       "       [7.7, 3. , 6.1, 2.3],\n",
       "       [6.3, 3.4, 5.6, 2.4],\n",
       "       [6.4, 3.1, 5.5, 1.8],\n",
       "       [6. , 3. , 4.8, 1.8],\n",
       "       [6.9, 3.1, 5.4, 2.1],\n",
       "       [6.7, 3.1, 5.6, 2.4],\n",
       "       [6.9, 3.1, 5.1, 2.3],\n",
       "       [5.8, 2.7, 5.1, 1.9],\n",
       "       [6.8, 3.2, 5.9, 2.3],\n",
       "       [6.7, 3.3, 5.7, 2.5],\n",
       "       [6.7, 3. , 5.2, 2.3],\n",
       "       [6.3, 2.5, 5. , 1.9],\n",
       "       [6.5, 3. , 5.2, 2. ],\n",
       "       [6.2, 3.4, 5.4, 2.3],\n",
       "       [5.9, 3. , 5.1, 1.8]])"
      ]
     },
     "execution_count": 53,
     "metadata": {},
     "output_type": "execute_result"
    }
   ],
   "source": [
    "irisData #=> 2차원 배열, 4차원 벡터"
   ]
  },
  {
   "cell_type": "code",
   "execution_count": null,
   "id": "78a5a6e6",
   "metadata": {},
   "outputs": [],
   "source": []
  },
  {
   "cell_type": "code",
   "execution_count": null,
   "id": "86bd6b25",
   "metadata": {},
   "outputs": [],
   "source": [
    "#벡터 또는 행렬 연산 수행을 위해 두 벡터/행렬의 크기가 같아야 함\n",
    "#브로드캐스팅 : 서로 다른 크기의 벡터/행렬이 연산할 수 있도록 해주는 기능\n",
    "#크기가 작은 쪽 배열을 크기가 큰 쪽 배열의 크기와 동일하게 맞추는 작업"
   ]
  },
  {
   "cell_type": "code",
   "execution_count": 60,
   "id": "e30f3f72",
   "metadata": {},
   "outputs": [
    {
     "data": {
      "text/plain": [
       "[0, 1, 2, 3, 4]"
      ]
     },
     "execution_count": 60,
     "metadata": {},
     "output_type": "execute_result"
    }
   ],
   "source": [
    "x=np.arange(5)\n",
    "x + 10 #x는 크기가 5, 10은 크기가 1 -> 크기가 다름\n",
    "#[0, 1, 2, 3, 4]  + [10,10,10,10,10]"
   ]
  },
  {
   "cell_type": "code",
   "execution_count": 71,
   "id": "612ab484",
   "metadata": {},
   "outputs": [
    {
     "data": {
      "text/plain": [
       "array([[0, 1, 2],\n",
       "       [1, 2, 3],\n",
       "       [2, 3, 4],\n",
       "       [3, 4, 5],\n",
       "       [4, 5, 6]])"
      ]
     },
     "execution_count": 71,
     "metadata": {},
     "output_type": "execute_result"
    }
   ],
   "source": [
    "#리스트 컴프리헨션 + vstack함수\n",
    "\n",
    "# array([[0, 1, 2],\n",
    "#        [1, 2, 3],\n",
    "#        [2, 3, 4],\n",
    "#        [3, 4, 5],\n",
    "#        [4, 5, 6]])\n",
    "\n",
    "np.vstack([range(7)[i:i+3] for i in range(5)])\n"
   ]
  },
  {
   "cell_type": "code",
   "execution_count": 72,
   "id": "f99dbd60",
   "metadata": {},
   "outputs": [],
   "source": [
    "# x=np.array([0,1,2])\n",
    "# y=[x+i for i in range(5)]\n",
    "# print(y)\n",
    "\n",
    "# np.array([[j for j in range(i,i+3)] for i in range(5)])\n",
    "\n",
    "# [n + np.arange(3) for n in np.arange(5)]\n",
    "\n",
    "x=np.array([[n, n+1, n+2] for n in range(5)])"
   ]
  },
  {
   "cell_type": "code",
   "execution_count": 73,
   "id": "3b25f86c",
   "metadata": {},
   "outputs": [
    {
     "data": {
      "text/plain": [
       "array([[0, 1, 2],\n",
       "       [1, 2, 3],\n",
       "       [2, 3, 4],\n",
       "       [3, 4, 5],\n",
       "       [4, 5, 6]])"
      ]
     },
     "execution_count": 73,
     "metadata": {},
     "output_type": "execute_result"
    }
   ],
   "source": [
    "x #5행 3열"
   ]
  },
  {
   "cell_type": "code",
   "execution_count": 95,
   "id": "0b181984",
   "metadata": {},
   "outputs": [
    {
     "data": {
      "text/plain": [
       "array([[10, 11, 12],\n",
       "       [12, 13, 14],\n",
       "       [14, 15, 16],\n",
       "       [16, 17, 18],\n",
       "       [18, 19, 20]])"
      ]
     },
     "execution_count": 95,
     "metadata": {},
     "output_type": "execute_result"
    }
   ],
   "source": [
    "y=np.arange(10,15)[:,np.newaxis]\n",
    "y\n",
    "#y.shape #(5,1)\n",
    "\n",
    "x+y\n",
    "# x.shape #(5,3)\n",
    "# y.shape #(5,)\n",
    "# x+y"
   ]
  },
  {
   "cell_type": "code",
   "execution_count": 77,
   "id": "1920742e",
   "metadata": {},
   "outputs": [
    {
     "data": {
      "text/plain": [
       "array([0, 2, 4, 6, 8])"
      ]
     },
     "execution_count": 77,
     "metadata": {},
     "output_type": "execute_result"
    }
   ],
   "source": [
    "# np.arange(5)+np.arange(5)"
   ]
  },
  {
   "cell_type": "code",
   "execution_count": 99,
   "id": "0a666117",
   "metadata": {},
   "outputs": [
    {
     "data": {
      "text/plain": [
       "array([[10, 11, 12],\n",
       "       [12, 13, 14],\n",
       "       [14, 15, 16],\n",
       "       [16, 17, 18],\n",
       "       [18, 19, 20]])"
      ]
     },
     "execution_count": 99,
     "metadata": {},
     "output_type": "execute_result"
    }
   ],
   "source": [
    "y=np.arange(10,15)\n",
    "y.shape\n",
    "y=y.reshape(5,1)\n",
    "y+x"
   ]
  },
  {
   "cell_type": "code",
   "execution_count": 100,
   "id": "d8f92fea",
   "metadata": {},
   "outputs": [],
   "source": [
    "x=np.array([1,2,3,4])"
   ]
  },
  {
   "cell_type": "code",
   "execution_count": 113,
   "id": "1a8b3c92",
   "metadata": {},
   "outputs": [
    {
     "data": {
      "text/plain": [
       "2.5"
      ]
     },
     "execution_count": 113,
     "metadata": {},
     "output_type": "execute_result"
    }
   ],
   "source": [
    "x\n",
    "np.sum(x)\n",
    "x.sum()\n",
    "np.min(x)\n",
    "x.min()\n",
    "np.max(x)\n",
    "x.max()\n",
    "\n",
    "x.argmax()\n",
    "x.argmin()\n",
    "\n",
    "np.median(x)\n"
   ]
  },
  {
   "cell_type": "code",
   "execution_count": 110,
   "id": "3e28bdfd",
   "metadata": {},
   "outputs": [],
   "source": [
    "#sum(x)"
   ]
  },
  {
   "cell_type": "code",
   "execution_count": 114,
   "id": "8563a35c",
   "metadata": {},
   "outputs": [],
   "source": [
    "# x=[[10,11,12],\n",
    "# [20,21,22],\n",
    "# [30,31,32],\n",
    "# [40,41,42]]"
   ]
  },
  {
   "cell_type": "code",
   "execution_count": null,
   "id": "b8e32573",
   "metadata": {},
   "outputs": [],
   "source": []
  },
  {
   "cell_type": "code",
   "execution_count": 116,
   "id": "cb1be8eb",
   "metadata": {},
   "outputs": [
    {
     "data": {
      "text/plain": [
       "[[10, 11, 12], [20, 21, 22], [30, 31, 32], [40, 41, 42]]"
      ]
     },
     "execution_count": 116,
     "metadata": {},
     "output_type": "execute_result"
    }
   ],
   "source": [
    "#np.array([[n, n+1, n+2] for n in range(10, 41, 10)])\n",
    "\n",
    "[[j+(10*i) for j in range(3)] for i in range(1,5)]\n"
   ]
  },
  {
   "cell_type": "code",
   "execution_count": 117,
   "id": "8104f717",
   "metadata": {},
   "outputs": [
    {
     "data": {
      "text/plain": [
       "array([[10, 11, 12],\n",
       "       [20, 21, 22],\n",
       "       [30, 31, 32],\n",
       "       [40, 41, 42]])"
      ]
     },
     "execution_count": 117,
     "metadata": {},
     "output_type": "execute_result"
    }
   ],
   "source": [
    "x=np.array([[n, n+1, n+2] for n in range(10, 41, 10)])\n",
    "x"
   ]
  },
  {
   "cell_type": "code",
   "execution_count": 120,
   "id": "6f9162b9",
   "metadata": {},
   "outputs": [
    {
     "data": {
      "text/plain": [
       "array([ 33,  63,  93, 123])"
      ]
     },
     "execution_count": 120,
     "metadata": {},
     "output_type": "execute_result"
    }
   ],
   "source": [
    "x.sum() #전체 합\n",
    "x.sum(axis=0) # 열 단위 합계\n",
    "x.sum(axis=1) #행 단위 합계"
   ]
  },
  {
   "cell_type": "code",
   "execution_count": 121,
   "id": "8e1346a0",
   "metadata": {},
   "outputs": [],
   "source": [
    "from sklearn.datasets import load_digits"
   ]
  },
  {
   "cell_type": "code",
   "execution_count": 122,
   "id": "54151947",
   "metadata": {},
   "outputs": [],
   "source": [
    "digits=load_digits()"
   ]
  },
  {
   "cell_type": "code",
   "execution_count": 132,
   "id": "38338a91",
   "metadata": {},
   "outputs": [
    {
     "data": {
      "text/plain": [
       "array([[ 0.,  0., 10., 14.,  8.,  1.,  0.,  0.],\n",
       "       [ 0.,  2., 16., 14.,  6.,  1.,  0.,  0.],\n",
       "       [ 0.,  0., 15., 15.,  8., 15.,  0.,  0.],\n",
       "       [ 0.,  0.,  5., 16., 16., 10.,  0.,  0.],\n",
       "       [ 0.,  0., 12., 15., 15., 12.,  0.,  0.],\n",
       "       [ 0.,  4., 16.,  6.,  4., 16.,  6.,  0.],\n",
       "       [ 0.,  8., 16., 10.,  8., 16.,  8.,  0.],\n",
       "       [ 0.,  1.,  8., 12., 14., 12.,  1.,  0.]])"
      ]
     },
     "execution_count": 132,
     "metadata": {},
     "output_type": "execute_result"
    }
   ],
   "source": [
    "digits\n",
    "#딕셔너리의 키 목록 출력\n",
    "digits.keys()\n",
    "digits.images # 3차원 배열\n",
    "\n",
    "digits.images.shape #(1797, 8, 8) #이미지(8행 8열)이 1797개\n",
    "\n",
    "digits.images[1796]"
   ]
  },
  {
   "cell_type": "code",
   "execution_count": 136,
   "id": "1361ea46",
   "metadata": {},
   "outputs": [
    {
     "data": {
      "text/plain": [
       "8"
      ]
     },
     "execution_count": 136,
     "metadata": {},
     "output_type": "execute_result"
    }
   ],
   "source": [
    "digits.keys()\n",
    "digits.target[1796]"
   ]
  },
  {
   "cell_type": "code",
   "execution_count": 141,
   "id": "135f93d1",
   "metadata": {},
   "outputs": [],
   "source": [
    "import matplotlib.pyplot as plt\n",
    "import matplotlib.gridspec as gridspec\n",
    "\n",
    "\n",
    "d1 = digits.images[0]\n",
    "d2 = digits.images[10]\n",
    "d3 = digits.images[1]\n",
    "d4 = digits.images[11]\n",
    "v1 = d1.reshape(64, 1)\n",
    "v2 = d2.reshape(64, 1)\n",
    "v3 = d3.reshape(64, 1)\n",
    "v4 = d4.reshape(64, 1)"
   ]
  },
  {
   "cell_type": "code",
   "execution_count": 146,
   "id": "17ed5723",
   "metadata": {},
   "outputs": [
    {
     "data": {
      "text/plain": [
       "array([[ 0.],\n",
       "       [ 0.],\n",
       "       [ 0.],\n",
       "       [ 0.],\n",
       "       [14.],\n",
       "       [13.],\n",
       "       [ 1.],\n",
       "       [ 0.],\n",
       "       [ 0.],\n",
       "       [ 0.],\n",
       "       [ 0.],\n",
       "       [ 5.],\n",
       "       [16.],\n",
       "       [16.],\n",
       "       [ 2.],\n",
       "       [ 0.],\n",
       "       [ 0.],\n",
       "       [ 0.],\n",
       "       [ 0.],\n",
       "       [14.],\n",
       "       [16.],\n",
       "       [12.],\n",
       "       [ 0.],\n",
       "       [ 0.],\n",
       "       [ 0.],\n",
       "       [ 1.],\n",
       "       [10.],\n",
       "       [16.],\n",
       "       [16.],\n",
       "       [12.],\n",
       "       [ 0.],\n",
       "       [ 0.],\n",
       "       [ 0.],\n",
       "       [ 3.],\n",
       "       [12.],\n",
       "       [14.],\n",
       "       [16.],\n",
       "       [ 9.],\n",
       "       [ 0.],\n",
       "       [ 0.],\n",
       "       [ 0.],\n",
       "       [ 0.],\n",
       "       [ 0.],\n",
       "       [ 5.],\n",
       "       [16.],\n",
       "       [15.],\n",
       "       [ 0.],\n",
       "       [ 0.],\n",
       "       [ 0.],\n",
       "       [ 0.],\n",
       "       [ 0.],\n",
       "       [ 4.],\n",
       "       [16.],\n",
       "       [14.],\n",
       "       [ 0.],\n",
       "       [ 0.],\n",
       "       [ 0.],\n",
       "       [ 0.],\n",
       "       [ 0.],\n",
       "       [ 1.],\n",
       "       [13.],\n",
       "       [16.],\n",
       "       [ 1.],\n",
       "       [ 0.]])"
      ]
     },
     "execution_count": 146,
     "metadata": {},
     "output_type": "execute_result"
    }
   ],
   "source": [
    "v1\n",
    "v2\n",
    "v3\n",
    "v4"
   ]
  },
  {
   "cell_type": "code",
   "execution_count": null,
   "id": "9ebbb47a",
   "metadata": {},
   "outputs": [],
   "source": []
  },
  {
   "cell_type": "code",
   "execution_count": null,
   "id": "242b0751",
   "metadata": {},
   "outputs": [],
   "source": []
  },
  {
   "cell_type": "code",
   "execution_count": null,
   "id": "ce06c8b3",
   "metadata": {},
   "outputs": [],
   "source": []
  },
  {
   "cell_type": "code",
   "execution_count": null,
   "id": "829338c7",
   "metadata": {},
   "outputs": [],
   "source": []
  },
  {
   "cell_type": "code",
   "execution_count": null,
   "id": "53860746",
   "metadata": {},
   "outputs": [],
   "source": []
  },
  {
   "cell_type": "code",
   "execution_count": null,
   "id": "27742499",
   "metadata": {},
   "outputs": [],
   "source": []
  },
  {
   "cell_type": "code",
   "execution_count": 142,
   "id": "e8f83fa3",
   "metadata": {},
   "outputs": [
    {
     "data": {
      "image/png": "[encoded data removed]",
      "text/plain": [
       "<Figure size 648x648 with 8 Axes>"
      ]
     },
     "metadata": {},
     "output_type": "display_data"
    }
   ],
   "source": [
    "plt.figure(figsize=(9, 9))\n",
    "gs = gridspec.GridSpec(1, 8, height_ratios=[1],\n",
    "                       width_ratios=[9, 1, 9, 1, 9, 1, 9, 1])\n",
    "for i in range(4):\n",
    "    plt.subplot(gs[2 * i])\n",
    "    plt.imshow(eval(\"d\" + str(i + 1)), aspect=1,\n",
    "               interpolation='nearest', cmap=plt.cm.bone_r)\n",
    "    plt.grid(False)\n",
    "    plt.xticks([])\n",
    "    plt.yticks([])\n",
    "    plt.title(\"image {}\".format(i + 1))\n",
    "    plt.subplot(gs[2 * i + 1])\n",
    "    plt.imshow(eval(\"v\" + str(i + 1)), aspect=0.25,\n",
    "               interpolation='nearest', cmap=plt.cm.bone_r)\n",
    "    plt.grid(False)\n",
    "    plt.xticks([])\n",
    "    plt.yticks([])\n",
    "    plt.title(\"vector {}\".format(i + 1))\n",
    "plt.tight_layout()\n",
    "plt.show()"
   ]
  },
  {
   "cell_type": "code",
   "execution_count": 148,
   "id": "ee41da80",
   "metadata": {},
   "outputs": [
    {
     "data": {
      "text/plain": [
       "array([[ 0.],\n",
       "       [ 0.],\n",
       "       [ 1.],\n",
       "       [ 9.],\n",
       "       [15.],\n",
       "       [11.],\n",
       "       [ 0.],\n",
       "       [ 0.],\n",
       "       [ 0.],\n",
       "       [ 0.],\n",
       "       [11.],\n",
       "       [16.],\n",
       "       [ 8.],\n",
       "       [14.],\n",
       "       [ 6.],\n",
       "       [ 0.],\n",
       "       [ 0.],\n",
       "       [ 2.],\n",
       "       [16.],\n",
       "       [10.],\n",
       "       [ 0.],\n",
       "       [ 9.],\n",
       "       [ 9.],\n",
       "       [ 0.],\n",
       "       [ 0.],\n",
       "       [ 1.],\n",
       "       [16.],\n",
       "       [ 4.],\n",
       "       [ 0.],\n",
       "       [ 8.],\n",
       "       [ 8.],\n",
       "       [ 0.],\n",
       "       [ 0.],\n",
       "       [ 4.],\n",
       "       [16.],\n",
       "       [ 4.],\n",
       "       [ 0.],\n",
       "       [ 8.],\n",
       "       [ 8.],\n",
       "       [ 0.],\n",
       "       [ 0.],\n",
       "       [ 1.],\n",
       "       [16.],\n",
       "       [ 5.],\n",
       "       [ 1.],\n",
       "       [11.],\n",
       "       [ 3.],\n",
       "       [ 0.],\n",
       "       [ 0.],\n",
       "       [ 0.],\n",
       "       [12.],\n",
       "       [12.],\n",
       "       [10.],\n",
       "       [10.],\n",
       "       [ 0.],\n",
       "       [ 0.],\n",
       "       [ 0.],\n",
       "       [ 0.],\n",
       "       [ 1.],\n",
       "       [10.],\n",
       "       [13.],\n",
       "       [ 3.],\n",
       "       [ 0.],\n",
       "       [ 0.]])"
      ]
     },
     "execution_count": 148,
     "metadata": {},
     "output_type": "execute_result"
    }
   ],
   "source": [
    "v1과v2 내적=연산결과\n",
    "v1과v3 내적=연산결과\n",
    "v1과v4 내적=연산결과\n",
    "v1과 내적했을때 값이 가장 큰 벡터가 무엇인지 출력?  예상 답: v2\n",
    "v3와 내적했을때 값이 가장 큰 벡터가 무엇인지 출력?  예상 답: v4\n",
    "\n",
    "# 이미지가 비슷한 것끼리 내적한 결과는\n",
    "# 이미지가 서로 다른 것끼리 내적한 결과와 비교했을때\n",
    "# 값이 크다"
   ]
  },
  {
   "cell_type": "code",
   "execution_count": 149,
   "id": "923a4a86",
   "metadata": {},
   "outputs": [
    {
     "name": "stdout",
     "output_type": "stream",
     "text": [
      "답:  v4\n"
     ]
    }
   ],
   "source": [
    "v13=sum([v1[i]*v3[i] for i in range(64)])\n",
    "v32=sum([v3[i]*v2[i] for i in range(64)])\n",
    "v34=sum([v3[i]*v4[i] for i in range(64)])\n",
    "if v13>v32:\n",
    "    res=\"v1\"\n",
    "elif v34>v13:\n",
    "    res=\"v4\"\n",
    "else :\n",
    "    res=\"v2\"\n",
    "print(\"답: \",res)\n"
   ]
  },
  {
   "cell_type": "code",
   "execution_count": 154,
   "id": "e97fa1f0",
   "metadata": {},
   "outputs": [
    {
     "name": "stdout",
     "output_type": "stream",
     "text": [
      "[1866.]\n",
      "[2421.]\n",
      "[3661.]\n",
      "[3064.]\n",
      "[1866.]\n",
      "[1883.]\n"
     ]
    }
   ],
   "source": [
    "print(sum(v3 * v1))\n",
    "print(sum(v3 * v2))\n",
    "print(sum(v3 * v4))\n",
    "\n",
    "print(sum(v2 * v1))\n",
    "print(sum(v3 * v1))\n",
    "print(sum(v4 * v1))"
   ]
  },
  {
   "cell_type": "code",
   "execution_count": 152,
   "id": "f66d2a32",
   "metadata": {},
   "outputs": [
    {
     "data": {
      "text/plain": [
       "array([1866.])"
      ]
     },
     "execution_count": 152,
     "metadata": {},
     "output_type": "execute_result"
    }
   ],
   "source": [
    "v13=sum([v1[i]*v3[i] for i in range(64)])\n",
    "v13"
   ]
  },
  {
   "cell_type": "code",
   "execution_count": null,
   "id": "690d1716",
   "metadata": {},
   "outputs": [],
   "source": []
  }
 ],
 "metadata": {
  "kernelspec": {
   "display_name": "Python 3",
   "language": "python",
   "name": "python3"
  },
  "language_info": {
   "codemirror_mode": {
    "name": "ipython",
    "version": 3
   },
   "file_extension": ".py",
   "mimetype": "text/x-python",
   "name": "python",
   "nbconvert_exporter": "python",
   "pygments_lexer": "ipython3",
   "version": "3.8.8"
  }
 },
 "nbformat": 4,
 "nbformat_minor": 5
}
