{
 "cells": [
  {
   "cell_type": "code",
   "execution_count": 1,
   "id": "44b9fd65",
   "metadata": {},
   "outputs": [],
   "source": [
    "#넘파이 배열은 속도가 빠름, 적은 메모리 차지, 같은 자료형, 원소의 개수 변경 불가\n",
    "#리스트는 속도가 느림, 메모리 차지 많음, 자료형이 달라도 됨, 원소의 개수가 변경"
   ]
  },
  {
   "cell_type": "code",
   "execution_count": null,
   "id": "8ca30c74",
   "metadata": {},
   "outputs": [],
   "source": [
    "#넘파이 : 배열이 구현되어 있는 패키지 -> 수치연산(벡터, 행렬 연산)"
   ]
  },
  {
   "cell_type": "code",
   "execution_count": 3,
   "id": "6bfb0cbf",
   "metadata": {},
   "outputs": [],
   "source": [
    "import numpy as np"
   ]
  },
  {
   "cell_type": "code",
   "execution_count": 5,
   "id": "7148ed67",
   "metadata": {},
   "outputs": [
    {
     "data": {
      "text/plain": [
       "numpy.ndarray"
      ]
     },
     "execution_count": 5,
     "metadata": {},
     "output_type": "execute_result"
    }
   ],
   "source": [
    "np.array([1,2,3,4]) #array함수에 리스트를 넣음, 1차원 배열\n",
    "type(np.array([1,2,3,4]))"
   ]
  },
  {
   "cell_type": "code",
   "execution_count": 6,
   "id": "7620c345",
   "metadata": {},
   "outputs": [],
   "source": [
    "# 벡터화연산 : 배열의 각 원소에 대한 반복 연산을 \n",
    "# 명령어 1개로 처리"
   ]
  },
  {
   "cell_type": "code",
   "execution_count": 7,
   "id": "e489100b",
   "metadata": {},
   "outputs": [],
   "source": [
    "# [1,2,3,4] -> [2,3,4,5] : 파이썬의 경우 4번 연산\n",
    "# [1,2,3,4] -> [2,3,4,5] : 넘파이의 경우 1번 연산"
   ]
  },
  {
   "cell_type": "code",
   "execution_count": 13,
   "id": "e8211c77",
   "metadata": {},
   "outputs": [
    {
     "data": {
      "text/plain": [
       "[2, 3, 4, 5]"
      ]
     },
     "execution_count": 13,
     "metadata": {},
     "output_type": "execute_result"
    }
   ],
   "source": [
    "#파이썬 연산\n",
    "ans=[]\n",
    "data=[1,2,3,4]\n",
    "for i in data:\n",
    "    ans.append(i+1)\n",
    "ans"
   ]
  },
  {
   "cell_type": "code",
   "execution_count": 14,
   "id": "e5568947",
   "metadata": {},
   "outputs": [
    {
     "data": {
      "text/plain": [
       "array([ 3,  6,  9, 12])"
      ]
     },
     "execution_count": 14,
     "metadata": {},
     "output_type": "execute_result"
    }
   ],
   "source": [
    "#넘파이 연산\n",
    "np.array(data)\n",
    "np.array(data)+1\n",
    "np.array(data)*3"
   ]
  },
  {
   "cell_type": "code",
   "execution_count": 15,
   "id": "591c395d",
   "metadata": {},
   "outputs": [],
   "source": [
    "x=np.array([1,2,3])\n",
    "y=np.array([4,5,6])"
   ]
  },
  {
   "cell_type": "code",
   "execution_count": 24,
   "id": "893b5719",
   "metadata": {},
   "outputs": [
    {
     "data": {
      "text/plain": [
       "array([False, False,  True])"
      ]
     },
     "execution_count": 24,
     "metadata": {},
     "output_type": "execute_result"
    }
   ],
   "source": [
    "x*y #요소간 곱셈\n",
    "2*x+y\n",
    "x == y #요소간 비교연산\n",
    "x > 2\n",
    "(x>2) & (y>4) #and"
   ]
  },
  {
   "cell_type": "code",
   "execution_count": 25,
   "id": "c0c4fd0c",
   "metadata": {},
   "outputs": [],
   "source": [
    "#브로드캐스팅 : 손오공"
   ]
  },
  {
   "cell_type": "code",
   "execution_count": 32,
   "id": "3b37a147",
   "metadata": {},
   "outputs": [],
   "source": [
    "#1차원 배열 : 벡터\n",
    "#2차원 배열 : 행렬\n",
    "\n",
    "#2*3배열\n",
    "x=np.array([[1,2,3],[4,5,6]])"
   ]
  },
  {
   "cell_type": "code",
   "execution_count": 37,
   "id": "a67a7d59",
   "metadata": {},
   "outputs": [
    {
     "data": {
      "text/plain": [
       "3"
      ]
     },
     "execution_count": 37,
     "metadata": {},
     "output_type": "execute_result"
    }
   ],
   "source": [
    "len(x) #행의 개수\n",
    "len(x[0]) #열의 개수"
   ]
  },
  {
   "cell_type": "code",
   "execution_count": 38,
   "id": "9858bcb6",
   "metadata": {},
   "outputs": [
    {
     "data": {
      "text/plain": [
       "array([[[1, 2, 3],\n",
       "        [1, 2, 3]],\n",
       "\n",
       "       [[1, 2, 3],\n",
       "        [1, 2, 3]]])"
      ]
     },
     "execution_count": 38,
     "metadata": {},
     "output_type": "execute_result"
    }
   ],
   "source": [
    "x=np.array([[[1,2,3],[1,2,3]],[[1,2,3],[1,2,3]]])\n",
    "# x배열의 깊이 : 2\n",
    "# x배열의 행 : 2\n",
    "# x배열의 열 : 3\n",
    "# x : 2*2*3 배열"
   ]
  },
  {
   "cell_type": "code",
   "execution_count": 46,
   "id": "8832cf28",
   "metadata": {},
   "outputs": [
    {
     "data": {
      "text/plain": [
       "4"
      ]
     },
     "execution_count": 46,
     "metadata": {},
     "output_type": "execute_result"
    }
   ],
   "source": [
    "x=np.array([[[1, 2, 3, 4],\n",
    "               [5, 6, 7, 8],\n",
    "               [9, 10, 11, 12]],\n",
    "              [[11, 12, 13, 14],\n",
    "               [15, 16, 17, 18],\n",
    "               [19, 20, 21, 22]]])\n",
    "\n",
    "# 3차원배열x = [행렬1, 행렬2]\n",
    "# x[0]=행렬1\n",
    "# x[1]=행렬2\n",
    "# x[0][0]=행렬1의 첫번째 행\n",
    "\n",
    "# x배열의 깊이 : 2\n",
    "# x배열의 행 : 3\n",
    "# x배열의 열 : 4\n",
    "# x배열의 shape? 2*3*4 배열\n",
    "len(x) #깊이\n",
    "len(x[0]) #행\n",
    "len(x[0][0]) #열"
   ]
  },
  {
   "cell_type": "code",
   "execution_count": 49,
   "id": "f644a777",
   "metadata": {},
   "outputs": [
    {
     "data": {
      "text/plain": [
       "(2, 3, 4)"
      ]
     },
     "execution_count": 49,
     "metadata": {},
     "output_type": "execute_result"
    }
   ],
   "source": [
    "x.ndim #배열의 차원\n",
    "x.shape    #shape(배열의 크기)"
   ]
  },
  {
   "cell_type": "code",
   "execution_count": 50,
   "id": "1377185d",
   "metadata": {},
   "outputs": [],
   "source": [
    "x=np.array([1,2,3])"
   ]
  },
  {
   "cell_type": "code",
   "execution_count": 54,
   "id": "c4b7728f",
   "metadata": {},
   "outputs": [
    {
     "data": {
      "text/plain": [
       "3"
      ]
     },
     "execution_count": 54,
     "metadata": {},
     "output_type": "execute_result"
    }
   ],
   "source": [
    "x[-1]"
   ]
  },
  {
   "cell_type": "code",
   "execution_count": 68,
   "id": "3e89b1ad",
   "metadata": {},
   "outputs": [
    {
     "data": {
      "text/plain": [
       "6"
      ]
     },
     "execution_count": 68,
     "metadata": {},
     "output_type": "execute_result"
    }
   ],
   "source": [
    "x=np.array([[1,2,3],\n",
    "[4,5,6]])\n",
    "x\n",
    "x[0]#첫번째 행 출력\n",
    "x[1]\n",
    "x[-1] #마지막 행으로부터 거꾸로 참조\n",
    "x[-2]\n",
    "\n",
    "x[0][0]#첫번째 행의 첫번째 열 출력\n",
    "x[-2][0]\n",
    "x[-2][-3]\n",
    "x[0,0] #컴마를 이용한 접근도 가능. 컴마로 구분된 차원을 축(axis)라고 함\n",
    "\n",
    "x[-1][-1]"
   ]
  },
  {
   "cell_type": "code",
   "execution_count": 78,
   "id": "a297d689",
   "metadata": {},
   "outputs": [
    {
     "data": {
      "text/plain": [
       "array([2, 5])"
      ]
     },
     "execution_count": 78,
     "metadata": {},
     "output_type": "execute_result"
    }
   ],
   "source": [
    "x=np.array([[1,2,3],\n",
    "[4,5,6]])\n",
    "\n",
    "x[0] #첫번째 행 전체\n",
    "x[0,] #x[행,열], #첫번째 행 전체\n",
    "x[0, : ] ##첫번째 행 전체\n",
    "\n",
    "x[1]\n",
    "x[1, :]\n",
    "\n",
    "x[:,1]   #x[행,열]"
   ]
  },
  {
   "cell_type": "code",
   "execution_count": 84,
   "id": "33f7db86",
   "metadata": {},
   "outputs": [
    {
     "data": {
      "text/plain": [
       "array([5, 6])"
      ]
     },
     "execution_count": 84,
     "metadata": {},
     "output_type": "execute_result"
    }
   ],
   "source": [
    "# array([5, 6])출력\n",
    "x[1][1:]\n",
    "x[1,1:]\n",
    "x[1][1:3]\n",
    "x[-1][-2:]"
   ]
  },
  {
   "cell_type": "code",
   "execution_count": 85,
   "id": "ae2f3ee7",
   "metadata": {},
   "outputs": [],
   "source": [
    "# array([[2, 3]\n",
    "#        [5, 6]])출력"
   ]
  },
  {
   "cell_type": "code",
   "execution_count": 89,
   "id": "f49e7237",
   "metadata": {},
   "outputs": [
    {
     "data": {
      "text/plain": [
       "array([[2, 3],\n",
       "       [5, 6]])"
      ]
     },
     "execution_count": 89,
     "metadata": {},
     "output_type": "execute_result"
    }
   ],
   "source": [
    "x[:,1:]\n",
    "x[:,-2:]  #x[행,열]   :은 범위,   시작인덱스:끝인덱스(포함안됨)"
   ]
  },
  {
   "cell_type": "code",
   "execution_count": 90,
   "id": "70c8ea08",
   "metadata": {},
   "outputs": [],
   "source": [
    "#불린참조, 불린값(True/False)으로 구성된 배열로 참조,\n",
    "#주의:참조 대상 배열(x)과 불린 배열(b)의 크기가 동일"
   ]
  },
  {
   "cell_type": "code",
   "execution_count": 91,
   "id": "61fe2ea1",
   "metadata": {},
   "outputs": [],
   "source": [
    "x=np.array([1,2,3])\n",
    "b=np.array([True, False, True])"
   ]
  },
  {
   "cell_type": "code",
   "execution_count": 94,
   "id": "bf72a468",
   "metadata": {},
   "outputs": [
    {
     "data": {
      "text/plain": [
       "array([1, 3])"
      ]
     },
     "execution_count": 94,
     "metadata": {},
     "output_type": "execute_result"
    }
   ],
   "source": [
    "x[b] #True 에 해당되는 자료가 추출"
   ]
  },
  {
   "cell_type": "code",
   "execution_count": 96,
   "id": "5e365912",
   "metadata": {},
   "outputs": [
    {
     "data": {
      "text/plain": [
       "array([2, 3])"
      ]
     },
     "execution_count": 96,
     "metadata": {},
     "output_type": "execute_result"
    }
   ],
   "source": [
    "x>1\n",
    "x[x>1]"
   ]
  },
  {
   "cell_type": "code",
   "execution_count": 105,
   "id": "a4ad0135",
   "metadata": {},
   "outputs": [
    {
     "data": {
      "text/plain": [
       "array([ True, False,  True])"
      ]
     },
     "execution_count": 105,
     "metadata": {},
     "output_type": "execute_result"
    }
   ],
   "source": [
    "x=np.array([1,2,3])\n",
    "#b=np.array([True, False, True, True])\n",
    "#b=np.array([True, False, True])\n",
    "x%2==1"
   ]
  },
  {
   "cell_type": "code",
   "execution_count": 106,
   "id": "f73a41a6",
   "metadata": {},
   "outputs": [
    {
     "data": {
      "text/plain": [
       "array([1, 3])"
      ]
     },
     "execution_count": 106,
     "metadata": {},
     "output_type": "execute_result"
    }
   ],
   "source": [
    "x[x%2==1] "
   ]
  },
  {
   "cell_type": "code",
   "execution_count": 109,
   "id": "fa996a47",
   "metadata": {},
   "outputs": [],
   "source": [
    "x=np.array([10,20,30,40,50])\n",
    "#y=np.array([0,2,4])\n",
    "y=np.array([0,2,4,0,0,2])"
   ]
  },
  {
   "cell_type": "code",
   "execution_count": 110,
   "id": "6614cb60",
   "metadata": {},
   "outputs": [
    {
     "data": {
      "text/plain": [
       "array([10, 30, 50, 10, 10, 30])"
      ]
     },
     "execution_count": 110,
     "metadata": {},
     "output_type": "execute_result"
    }
   ],
   "source": [
    "#정수 배열 인덱싱\n",
    "x[y]"
   ]
  },
  {
   "cell_type": "code",
   "execution_count": 111,
   "id": "913e38be",
   "metadata": {},
   "outputs": [
    {
     "data": {
      "text/plain": [
       "array([[10, 20, 30],\n",
       "       [40, 50, 60]])"
      ]
     },
     "execution_count": 111,
     "metadata": {},
     "output_type": "execute_result"
    }
   ],
   "source": [
    "x=np.array([[10,20,30],[40,50,60]])\n",
    "x"
   ]
  },
  {
   "cell_type": "code",
   "execution_count": 114,
   "id": "8457422f",
   "metadata": {},
   "outputs": [
    {
     "data": {
      "text/plain": [
       "array([[10, 20, 30]])"
      ]
     },
     "execution_count": 114,
     "metadata": {},
     "output_type": "execute_result"
    }
   ],
   "source": [
    "x[ : ,[True,False,True]] #0번 2번 index 열 데이터 추출\n",
    "x[[True,False],:]  #0번 index 행 데이터 추출"
   ]
  },
  {
   "cell_type": "code",
   "execution_count": 115,
   "id": "ce56029c",
   "metadata": {},
   "outputs": [
    {
     "data": {
      "text/plain": [
       "array([[10, 20, 30],\n",
       "       [40, 50, 60]])"
      ]
     },
     "execution_count": 115,
     "metadata": {},
     "output_type": "execute_result"
    }
   ],
   "source": [
    "x[:]"
   ]
  },
  {
   "cell_type": "code",
   "execution_count": 124,
   "id": "afc18671",
   "metadata": {},
   "outputs": [
    {
     "data": {
      "text/plain": [
       "array([[40, 50, 60],\n",
       "       [10, 20, 30]])"
      ]
     },
     "execution_count": 124,
     "metadata": {},
     "output_type": "execute_result"
    }
   ],
   "source": [
    "x[ : , [0,2]]\n",
    "x[ : , [2,0]]\n",
    "x[ : , [2,0,0,2,0]]\n",
    "x[[1,1,1,0],:]\n",
    "x[[1,0],:]"
   ]
  },
  {
   "cell_type": "code",
   "execution_count": 127,
   "id": "85232ea6",
   "metadata": {},
   "outputs": [],
   "source": [
    "x= np.array([[ 0,  1,  2,  3,  4],\n",
    "            [ 5,  6,  7,  8,  9],\n",
    "            [10, 11, 12, 13, 14]])"
   ]
  },
  {
   "cell_type": "code",
   "execution_count": 143,
   "id": "708347b9",
   "metadata": {},
   "outputs": [
    {
     "data": {
      "text/plain": [
       "array([[3, 4],\n",
       "       [8, 9]])"
      ]
     },
     "execution_count": 143,
     "metadata": {},
     "output_type": "execute_result"
    }
   ],
   "source": [
    "x\n",
    "# 7참조\n",
    "x[1 ,2]\n",
    "x[x==7]\n",
    "# 14참조\n",
    "x[-1, -1]\n",
    "# [6,7]참조\n",
    "x[1,1:3]\n",
    "x[1,[1, 2]]\n",
    "x[(x==6)|(x==7)]\n",
    "# [7,12]참조\n",
    "x[1:,2]\n",
    "x[1:3,2]\n",
    "\n",
    "# [[3,4],[8,9]]\n",
    "x[0:2,3:5]\n"
   ]
  },
  {
   "cell_type": "code",
   "execution_count": 144,
   "id": "96b6e133",
   "metadata": {},
   "outputs": [],
   "source": [
    "x = np.array([1, 2, 3, 4, 5, 6, 7, 8, 9, 10,\n",
    "             11, 12, 13, 14, 15, 16, 17, 18, 19, 20])"
   ]
  },
  {
   "cell_type": "code",
   "execution_count": 145,
   "id": "7bda17de",
   "metadata": {},
   "outputs": [
    {
     "data": {
      "text/plain": [
       "array([9])"
      ]
     },
     "execution_count": 145,
     "metadata": {},
     "output_type": "execute_result"
    }
   ],
   "source": [
    "# 3의 배수 출력\n",
    "# 4로 나누었을때 나머지가 1인 값을 출력\n",
    "# 3으로 나누어지고 4로 나누면 나머지가 1인 값을 출력\n",
    "x[x%3==0]\n",
    "x[x%4==1]\n",
    "x[(x%3==0) & (x%4==1)]\n"
   ]
  },
  {
   "cell_type": "code",
   "execution_count": 154,
   "id": "5fced520",
   "metadata": {},
   "outputs": [],
   "source": [
    "x=np.array([1, 2.5])"
   ]
  },
  {
   "cell_type": "code",
   "execution_count": 153,
   "id": "43a5d68e",
   "metadata": {},
   "outputs": [
    {
     "data": {
      "text/plain": [
       "dtype('int32')"
      ]
     },
     "execution_count": 153,
     "metadata": {},
     "output_type": "execute_result"
    }
   ],
   "source": [
    "type(x)\n",
    "\n",
    "#배열에 저장된 자료 타입 확인\n",
    "x.dtype"
   ]
  },
  {
   "cell_type": "code",
   "execution_count": 159,
   "id": "82744fe3",
   "metadata": {},
   "outputs": [
    {
     "data": {
      "text/plain": [
       "array([1, 2], dtype=int32)"
      ]
     },
     "execution_count": 159,
     "metadata": {},
     "output_type": "execute_result"
    }
   ],
   "source": [
    "x=np.array([1, 2.5], dtype='i') #dtype:f\n",
    "x.dtype\n",
    "x"
   ]
  },
  {
   "cell_type": "code",
   "execution_count": 160,
   "id": "efa71f6b",
   "metadata": {},
   "outputs": [],
   "source": [
    "#Inf   \n",
    "#Infinity, NaN(not a number)"
   ]
  },
  {
   "cell_type": "code",
   "execution_count": 162,
   "id": "cc99ba64",
   "metadata": {},
   "outputs": [
    {
     "data": {
      "text/plain": [
       "nan"
      ]
     },
     "execution_count": 162,
     "metadata": {},
     "output_type": "execute_result"
    }
   ],
   "source": [
    "np.inf #무한대를 표현하는 상수\n",
    "np.nan #정의할 수 없는 숫자 "
   ]
  },
  {
   "cell_type": "code",
   "execution_count": 171,
   "id": "c7e129f5",
   "metadata": {},
   "outputs": [
    {
     "name": "stdout",
     "output_type": "stream",
     "text": [
      "[inf]\n",
      "[0.]\n",
      "[-inf]\n",
      "[nan]\n",
      "-inf\n",
      "0.0\n"
     ]
    },
    {
     "name": "stderr",
     "output_type": "stream",
     "text": [
      "<ipython-input-171-20aea313548d>:1: RuntimeWarning: divide by zero encountered in true_divide\n",
      "  print(np.array([1]) / np.array([0])) #inf\n",
      "<ipython-input-171-20aea313548d>:3: RuntimeWarning: divide by zero encountered in true_divide\n",
      "  print(np.array([-1]) / np.array([0]))\n",
      "<ipython-input-171-20aea313548d>:4: RuntimeWarning: invalid value encountered in true_divide\n",
      "  print(np.array([0]) / np.array([0]))\n",
      "<ipython-input-171-20aea313548d>:6: RuntimeWarning: divide by zero encountered in log\n",
      "  print(np.log(0))\n"
     ]
    }
   ],
   "source": [
    "print(np.array([1]) / np.array([0])) #inf\n",
    "print(np.array([0]) / np.array([1])) #0\n",
    "print(np.array([-1]) / np.array([0]))\n",
    "print(np.array([0]) / np.array([0]))\n",
    "\n",
    "print(np.log(0))\n",
    "print(np.exp(-np.inf))\n"
   ]
  },
  {
   "cell_type": "code",
   "execution_count": 172,
   "id": "3cff0f81",
   "metadata": {},
   "outputs": [
    {
     "data": {
      "text/plain": [
       "array([0., 0., 0.])"
      ]
     },
     "execution_count": 172,
     "metadata": {},
     "output_type": "execute_result"
    }
   ],
   "source": [
    "np.zeros(3)"
   ]
  },
  {
   "cell_type": "code",
   "execution_count": 174,
   "id": "057897f9",
   "metadata": {},
   "outputs": [
    {
     "data": {
      "text/plain": [
       "array([[[0., 0., 0., 0.],\n",
       "        [0., 0., 0., 0.]],\n",
       "\n",
       "       [[0., 0., 0., 0.],\n",
       "        [0., 0., 0., 0.]],\n",
       "\n",
       "       [[0., 0., 0., 0.],\n",
       "        [0., 0., 0., 0.]]])"
      ]
     },
     "execution_count": 174,
     "metadata": {},
     "output_type": "execute_result"
    }
   ],
   "source": [
    "np.zeros((3,2))\n",
    "np.zeros((3,2,4)) #(깊이,행,열)"
   ]
  },
  {
   "cell_type": "code",
   "execution_count": 175,
   "id": "a47c2e5e",
   "metadata": {},
   "outputs": [
    {
     "data": {
      "text/plain": [
       "array([[[0, 0, 0, 0],\n",
       "        [0, 0, 0, 0]],\n",
       "\n",
       "       [[0, 0, 0, 0],\n",
       "        [0, 0, 0, 0]],\n",
       "\n",
       "       [[0, 0, 0, 0],\n",
       "        [0, 0, 0, 0]]], dtype=int32)"
      ]
     },
     "execution_count": 175,
     "metadata": {},
     "output_type": "execute_result"
    }
   ],
   "source": [
    "np.zeros((3,2,4),dtype='i')"
   ]
  },
  {
   "cell_type": "code",
   "execution_count": 176,
   "id": "024f544d",
   "metadata": {},
   "outputs": [
    {
     "data": {
      "text/plain": [
       "array([[[1., 1., 1., 1.],\n",
       "        [1., 1., 1., 1.],\n",
       "        [1., 1., 1., 1.]],\n",
       "\n",
       "       [[1., 1., 1., 1.],\n",
       "        [1., 1., 1., 1.],\n",
       "        [1., 1., 1., 1.]]])"
      ]
     },
     "execution_count": 176,
     "metadata": {},
     "output_type": "execute_result"
    }
   ],
   "source": [
    "np.ones((2,3,4))"
   ]
  },
  {
   "cell_type": "code",
   "execution_count": 180,
   "id": "7f00f391",
   "metadata": {},
   "outputs": [],
   "source": [
    "#np.ones((2,3,4))*999"
   ]
  },
  {
   "cell_type": "code",
   "execution_count": 184,
   "id": "6b7f9250",
   "metadata": {},
   "outputs": [
    {
     "data": {
      "text/plain": [
       "array(['test', '', '', '', ''], dtype='<U4')"
      ]
     },
     "execution_count": 184,
     "metadata": {},
     "output_type": "execute_result"
    }
   ],
   "source": [
    "x=np.zeros(5, dtype='U4')\n",
    "x[0]=\"test\"\n",
    "x"
   ]
  },
  {
   "cell_type": "code",
   "execution_count": 185,
   "id": "dda4a6e0",
   "metadata": {},
   "outputs": [],
   "source": [
    "#https://numpy.org/"
   ]
  },
  {
   "cell_type": "code",
   "execution_count": null,
   "id": "b37ff7a0",
   "metadata": {},
   "outputs": [],
   "source": []
  },
  {
   "cell_type": "code",
   "execution_count": 186,
   "id": "c6b96aa8",
   "metadata": {},
   "outputs": [
    {
     "data": {
      "text/plain": [
       "array([[[1., 1., 1., 1.],\n",
       "        [1., 1., 1., 1.],\n",
       "        [1., 1., 1., 1.]],\n",
       "\n",
       "       [[1., 1., 1., 1.],\n",
       "        [1., 1., 1., 1.],\n",
       "        [1., 1., 1., 1.]]])"
      ]
     },
     "execution_count": 186,
     "metadata": {},
     "output_type": "execute_result"
    }
   ],
   "source": [
    "x=np.ones((2,3,4))\n",
    "x"
   ]
  },
  {
   "cell_type": "code",
   "execution_count": 190,
   "id": "00ec40f8",
   "metadata": {},
   "outputs": [
    {
     "data": {
      "text/plain": [
       "array([[[1, 1, 1, 1],\n",
       "        [1, 1, 1, 1],\n",
       "        [1, 1, 1, 1]],\n",
       "\n",
       "       [[1, 1, 1, 1],\n",
       "        [1, 1, 1, 1],\n",
       "        [1, 1, 1, 1]]], dtype=int32)"
      ]
     },
     "execution_count": 190,
     "metadata": {},
     "output_type": "execute_result"
    }
   ],
   "source": [
    "y=np.ones_like(x, dtype='i')\n",
    "#zeros(ones)_like함수 : x배열의 크기와 동일하게 0 또는 1로 모두 초기화하여 생성\n",
    "y\n",
    "\n",
    "#np.ones_like(x, dtype='i') 작업을 하면 컴퓨터 내부에서는 어떤 일이?\n",
    "#x배열 크기 확인 -> x배열 크기와 동일한 배열 공간 생성 -> 1로 모두 초기화"
   ]
  },
  {
   "cell_type": "code",
   "execution_count": 192,
   "id": "9c21934a",
   "metadata": {},
   "outputs": [
    {
     "data": {
      "text/plain": [
       "array([[0., 0.],\n",
       "       [0., 0.],\n",
       "       [0., 0.]])"
      ]
     },
     "execution_count": 192,
     "metadata": {},
     "output_type": "execute_result"
    }
   ],
   "source": [
    "np.empty((3,2)) \n",
    "#zeros:0으로 초기화, empty:기존에 메모리에 남아있는 쓰레기값으로 초기화"
   ]
  },
  {
   "cell_type": "code",
   "execution_count": 195,
   "id": "b764a9d2",
   "metadata": {},
   "outputs": [
    {
     "data": {
      "text/plain": [
       "array([0, 1, 2, 3, 4, 5, 6, 7])"
      ]
     },
     "execution_count": 195,
     "metadata": {},
     "output_type": "execute_result"
    }
   ],
   "source": [
    "np.array(list(range(8)))"
   ]
  },
  {
   "cell_type": "code",
   "execution_count": 196,
   "id": "66edfa07",
   "metadata": {},
   "outputs": [
    {
     "data": {
      "text/plain": [
       "array([[0, 1],\n",
       "       [2, 3],\n",
       "       [4, 5],\n",
       "       [6, 7]])"
      ]
     },
     "execution_count": 196,
     "metadata": {},
     "output_type": "execute_result"
    }
   ],
   "source": [
    "np.array(list(range(8))).reshape(4,2)"
   ]
  },
  {
   "cell_type": "code",
   "execution_count": 198,
   "id": "91b9d238",
   "metadata": {},
   "outputs": [
    {
     "data": {
      "text/plain": [
       "array([[0, 1, 2, 3],\n",
       "       [4, 5, 6, 7]])"
      ]
     },
     "execution_count": 198,
     "metadata": {},
     "output_type": "execute_result"
    }
   ],
   "source": [
    "np.arange(8) #np.array(list(range(8)))\n",
    "np.arange(8).reshape(2,4)"
   ]
  },
  {
   "cell_type": "code",
   "execution_count": 200,
   "id": "75d35d28",
   "metadata": {},
   "outputs": [
    {
     "data": {
      "text/plain": [
       "array([1, 3, 5, 7, 9])"
      ]
     },
     "execution_count": 200,
     "metadata": {},
     "output_type": "execute_result"
    }
   ],
   "source": [
    "np.arange(1,11) \n",
    "np.arange(1,11,2) "
   ]
  },
  {
   "cell_type": "code",
   "execution_count": 201,
   "id": "cc613329",
   "metadata": {},
   "outputs": [
    {
     "data": {
      "text/plain": [
       "array([  0.        ,  11.11111111,  22.22222222,  33.33333333,\n",
       "        44.44444444,  55.55555556,  66.66666667,  77.77777778,\n",
       "        88.88888889, 100.        ])"
      ]
     },
     "execution_count": 201,
     "metadata": {},
     "output_type": "execute_result"
    }
   ],
   "source": [
    "np.linspace(0, 100, 10) #선형 구간, 시작, 끝, 개수"
   ]
  },
  {
   "cell_type": "code",
   "execution_count": 204,
   "id": "cc727ea2",
   "metadata": {},
   "outputs": [
    {
     "data": {
      "text/plain": [
       "array([   2.,    4.,    8.,   16.,   32.,   64.,  128.,  256.,  512.,\n",
       "       1024.])"
      ]
     },
     "execution_count": 204,
     "metadata": {},
     "output_type": "execute_result"
    }
   ],
   "source": [
    "#np.logspace(시작, 끝, 개수, base)#로그 스케일 값으로 배열 생성\n",
    "\n",
    "np.logspace(start=1,stop=10,num=10) #base가 생략(기본값 10)\n",
    "np.logspace(start=1,stop=10,num=10, base=10) \n",
    "\n",
    "np.logspace(start=1,stop=10,num=10, base=2)  #base가 2"
   ]
  },
  {
   "cell_type": "code",
   "execution_count": 205,
   "id": "39dc98f9",
   "metadata": {},
   "outputs": [],
   "source": [
    "#전치행렬:행과열을 바꾸어놓은 행렬, T속성을 이용"
   ]
  },
  {
   "cell_type": "code",
   "execution_count": 207,
   "id": "2acb5227",
   "metadata": {},
   "outputs": [],
   "source": [
    "#1~6까지 2행3열 행렬생성\n",
    "X=np.arange(1,7).reshape((2,3))"
   ]
  },
  {
   "cell_type": "code",
   "execution_count": 209,
   "id": "d3f70c87",
   "metadata": {},
   "outputs": [
    {
     "data": {
      "text/plain": [
       "array([[1, 4],\n",
       "       [2, 5],\n",
       "       [3, 6]])"
      ]
     },
     "execution_count": 209,
     "metadata": {},
     "output_type": "execute_result"
    }
   ],
   "source": [
    "X.T"
   ]
  },
  {
   "cell_type": "code",
   "execution_count": null,
   "id": "7a053c53",
   "metadata": {},
   "outputs": [],
   "source": [
    "#엘리먼트 와이즈 프로덕\n",
    "#element wise product : 요소간 곱셈 연산\n",
    "\n",
    "#닷 프로덕, 매트릭스 멀티플라이(행렬의 곱셈)\n",
    "#dot product, matrix multiply\n"
   ]
  },
  {
   "cell_type": "code",
   "execution_count": null,
   "id": "839a279a",
   "metadata": {},
   "outputs": [],
   "source": []
  },
  {
   "cell_type": "code",
   "execution_count": null,
   "id": "e2d7a570",
   "metadata": {},
   "outputs": [],
   "source": []
  },
  {
   "cell_type": "code",
   "execution_count": 212,
   "id": "ede30352",
   "metadata": {},
   "outputs": [
    {
     "data": {
      "text/plain": [
       "array([[ 0,  1,  2,  3],\n",
       "       [ 4,  5,  6,  7],\n",
       "       [ 8,  9, 10, 11]])"
      ]
     },
     "execution_count": 212,
     "metadata": {},
     "output_type": "execute_result"
    }
   ],
   "source": [
    "x=np.arange(12)\n",
    "x.reshape(3,4)"
   ]
  },
  {
   "cell_type": "code",
   "execution_count": 216,
   "id": "e733c6c4",
   "metadata": {},
   "outputs": [
    {
     "data": {
      "text/plain": [
       "array([[ 0,  1],\n",
       "       [ 2,  3],\n",
       "       [ 4,  5],\n",
       "       [ 6,  7],\n",
       "       [ 8,  9],\n",
       "       [10, 11]])"
      ]
     },
     "execution_count": 216,
     "metadata": {},
     "output_type": "execute_result"
    }
   ],
   "source": [
    "x=np.arange(12)\n",
    "x.reshape(3,-1)\n",
    "x.reshape(4, -1)\n",
    "x.reshape(-1, 2) #열은 2개, 행은 네가 계산해서 알아서 해"
   ]
  },
  {
   "cell_type": "code",
   "execution_count": 221,
   "id": "7593dbb3",
   "metadata": {},
   "outputs": [
    {
     "data": {
      "text/plain": [
       "array([[[ 0,  1,  2],\n",
       "        [ 3,  4,  5],\n",
       "        [ 6,  7,  8],\n",
       "        [ 9, 10, 11]],\n",
       "\n",
       "       [[12, 13, 14],\n",
       "        [15, 16, 17],\n",
       "        [18, 19, 20],\n",
       "        [21, 22, 23]]])"
      ]
     },
     "execution_count": 221,
     "metadata": {},
     "output_type": "execute_result"
    }
   ],
   "source": [
    "x=np.arange(24)\n",
    "x\n",
    "x.reshape(2,3,-1)\n",
    "x.reshape(2,-1, 3)"
   ]
  },
  {
   "cell_type": "code",
   "execution_count": null,
   "id": "fe940e66",
   "metadata": {},
   "outputs": [],
   "source": [
    "#reshape으로 차원을 증가시킬 수 있다\n",
    "#ex) reshape함수 : 1차원 배열 -> 다차원 배열\n",
    "\n",
    "#ex) flatten 또는 ravel함수 : 다차원 배열 -> 1차원 배열"
   ]
  },
  {
   "cell_type": "code",
   "execution_count": 226,
   "id": "404cb21b",
   "metadata": {},
   "outputs": [
    {
     "data": {
      "text/plain": [
       "3"
      ]
     },
     "execution_count": 226,
     "metadata": {},
     "output_type": "execute_result"
    }
   ],
   "source": [
    "x=x.reshape(2,3,-1)\n",
    "x.shape\n",
    "x.ndim"
   ]
  },
  {
   "cell_type": "code",
   "execution_count": 227,
   "id": "5d6c688c",
   "metadata": {},
   "outputs": [
    {
     "data": {
      "text/plain": [
       "array([[[ 0,  1,  2,  3],\n",
       "        [ 4,  5,  6,  7],\n",
       "        [ 8,  9, 10, 11]],\n",
       "\n",
       "       [[12, 13, 14, 15],\n",
       "        [16, 17, 18, 19],\n",
       "        [20, 21, 22, 23]]])"
      ]
     },
     "execution_count": 227,
     "metadata": {},
     "output_type": "execute_result"
    }
   ],
   "source": [
    "x"
   ]
  },
  {
   "cell_type": "code",
   "execution_count": 228,
   "id": "982fd1bc",
   "metadata": {},
   "outputs": [
    {
     "data": {
      "text/plain": [
       "array([ 0,  1,  2,  3,  4,  5,  6,  7,  8,  9, 10, 11, 12, 13, 14, 15, 16,\n",
       "       17, 18, 19, 20, 21, 22, 23])"
      ]
     },
     "execution_count": 228,
     "metadata": {},
     "output_type": "execute_result"
    }
   ],
   "source": [
    "x.flatten()"
   ]
  },
  {
   "cell_type": "code",
   "execution_count": 229,
   "id": "80e6a716",
   "metadata": {},
   "outputs": [
    {
     "data": {
      "text/plain": [
       "array([ 0,  1,  2,  3,  4,  5,  6,  7,  8,  9, 10, 11, 12, 13, 14, 15, 16,\n",
       "       17, 18, 19, 20, 21, 22, 23])"
      ]
     },
     "execution_count": 229,
     "metadata": {},
     "output_type": "execute_result"
    }
   ],
   "source": [
    "x.ravel()"
   ]
  },
  {
   "cell_type": "code",
   "execution_count": 230,
   "id": "40b51aa1",
   "metadata": {},
   "outputs": [],
   "source": [
    "import pandas as pd"
   ]
  },
  {
   "cell_type": "code",
   "execution_count": 232,
   "id": "38b52088",
   "metadata": {},
   "outputs": [
    {
     "data": {
      "text/html": [
       "<div>\n",
       "<style scoped>\n",
       "    .dataframe tbody tr th:only-of-type {\n",
       "        vertical-align: middle;\n",
       "    }\n",
       "\n",
       "    .dataframe tbody tr th {\n",
       "        vertical-align: top;\n",
       "    }\n",
       "\n",
       "    .dataframe thead th {\n",
       "        text-align: right;\n",
       "    }\n",
       "</style>\n",
       "<table border=\"1\" class=\"dataframe\">\n",
       "  <thead>\n",
       "    <tr style=\"text-align: right;\">\n",
       "      <th></th>\n",
       "      <th>Date</th>\n",
       "      <th>Open</th>\n",
       "      <th>High</th>\n",
       "      <th>Low</th>\n",
       "      <th>Close</th>\n",
       "      <th>Adj Close</th>\n",
       "      <th>Volume</th>\n",
       "    </tr>\n",
       "  </thead>\n",
       "  <tbody>\n",
       "    <tr>\n",
       "      <th>0</th>\n",
       "      <td>2020-07-28</td>\n",
       "      <td>57000</td>\n",
       "      <td>58800</td>\n",
       "      <td>56400</td>\n",
       "      <td>58600</td>\n",
       "      <td>56560.60547</td>\n",
       "      <td>48431566</td>\n",
       "    </tr>\n",
       "    <tr>\n",
       "      <th>1</th>\n",
       "      <td>2020-07-29</td>\n",
       "      <td>60300</td>\n",
       "      <td>60400</td>\n",
       "      <td>58600</td>\n",
       "      <td>59000</td>\n",
       "      <td>56946.68750</td>\n",
       "      <td>36476611</td>\n",
       "    </tr>\n",
       "    <tr>\n",
       "      <th>2</th>\n",
       "      <td>2020-07-30</td>\n",
       "      <td>59700</td>\n",
       "      <td>60100</td>\n",
       "      <td>59000</td>\n",
       "      <td>59000</td>\n",
       "      <td>56946.68750</td>\n",
       "      <td>19285354</td>\n",
       "    </tr>\n",
       "    <tr>\n",
       "      <th>3</th>\n",
       "      <td>2020-07-31</td>\n",
       "      <td>59500</td>\n",
       "      <td>59600</td>\n",
       "      <td>57700</td>\n",
       "      <td>57900</td>\n",
       "      <td>55884.96875</td>\n",
       "      <td>21943345</td>\n",
       "    </tr>\n",
       "    <tr>\n",
       "      <th>4</th>\n",
       "      <td>2020-08-03</td>\n",
       "      <td>57800</td>\n",
       "      <td>57900</td>\n",
       "      <td>56700</td>\n",
       "      <td>56800</td>\n",
       "      <td>54823.25000</td>\n",
       "      <td>21158940</td>\n",
       "    </tr>\n",
       "    <tr>\n",
       "      <th>...</th>\n",
       "      <td>...</td>\n",
       "      <td>...</td>\n",
       "      <td>...</td>\n",
       "      <td>...</td>\n",
       "      <td>...</td>\n",
       "      <td>...</td>\n",
       "      <td>...</td>\n",
       "    </tr>\n",
       "    <tr>\n",
       "      <th>244</th>\n",
       "      <td>2021-07-22</td>\n",
       "      <td>79000</td>\n",
       "      <td>79800</td>\n",
       "      <td>78900</td>\n",
       "      <td>79700</td>\n",
       "      <td>79700.00000</td>\n",
       "      <td>12618790</td>\n",
       "    </tr>\n",
       "    <tr>\n",
       "      <th>245</th>\n",
       "      <td>2021-07-23</td>\n",
       "      <td>79700</td>\n",
       "      <td>79900</td>\n",
       "      <td>79200</td>\n",
       "      <td>79300</td>\n",
       "      <td>79300.00000</td>\n",
       "      <td>9098910</td>\n",
       "    </tr>\n",
       "    <tr>\n",
       "      <th>246</th>\n",
       "      <td>2021-07-26</td>\n",
       "      <td>79400</td>\n",
       "      <td>79500</td>\n",
       "      <td>78800</td>\n",
       "      <td>78800</td>\n",
       "      <td>78800.00000</td>\n",
       "      <td>10040975</td>\n",
       "    </tr>\n",
       "    <tr>\n",
       "      <th>247</th>\n",
       "      <td>2021-07-27</td>\n",
       "      <td>79200</td>\n",
       "      <td>79400</td>\n",
       "      <td>78500</td>\n",
       "      <td>78500</td>\n",
       "      <td>78500.00000</td>\n",
       "      <td>11427693</td>\n",
       "    </tr>\n",
       "    <tr>\n",
       "      <th>248</th>\n",
       "      <td>2021-07-28</td>\n",
       "      <td>78300</td>\n",
       "      <td>78900</td>\n",
       "      <td>78100</td>\n",
       "      <td>78400</td>\n",
       "      <td>78400.00000</td>\n",
       "      <td>10199591</td>\n",
       "    </tr>\n",
       "  </tbody>\n",
       "</table>\n",
       "<p>249 rows × 7 columns</p>\n",
       "</div>"
      ],
      "text/plain": [
       "           Date   Open   High    Low  Close    Adj Close    Volume\n",
       "0    2020-07-28  57000  58800  56400  58600  56560.60547  48431566\n",
       "1    2020-07-29  60300  60400  58600  59000  56946.68750  36476611\n",
       "2    2020-07-30  59700  60100  59000  59000  56946.68750  19285354\n",
       "3    2020-07-31  59500  59600  57700  57900  55884.96875  21943345\n",
       "4    2020-08-03  57800  57900  56700  56800  54823.25000  21158940\n",
       "..          ...    ...    ...    ...    ...          ...       ...\n",
       "244  2021-07-22  79000  79800  78900  79700  79700.00000  12618790\n",
       "245  2021-07-23  79700  79900  79200  79300  79300.00000   9098910\n",
       "246  2021-07-26  79400  79500  78800  78800  78800.00000  10040975\n",
       "247  2021-07-27  79200  79400  78500  78500  78500.00000  11427693\n",
       "248  2021-07-28  78300  78900  78100  78400  78400.00000  10199591\n",
       "\n",
       "[249 rows x 7 columns]"
      ]
     },
     "execution_count": 232,
     "metadata": {},
     "output_type": "execute_result"
    }
   ],
   "source": [
    "df=pd.read_csv(\"samsung.csv\")\n",
    "df"
   ]
  },
  {
   "cell_type": "code",
   "execution_count": null,
   "id": "2b4b11fd",
   "metadata": {},
   "outputs": [],
   "source": []
  },
  {
   "cell_type": "code",
   "execution_count": 242,
   "id": "f2a2e455",
   "metadata": {},
   "outputs": [
    {
     "data": {
      "text/plain": [
       "array([[   57000.     ,    58800.     ,    56400.     ,    58600.     ,\n",
       "           56560.60547, 48431566.     ],\n",
       "       [   60300.     ,    60400.     ,    58600.     ,    59000.     ,\n",
       "           56946.6875 , 36476611.     ],\n",
       "       [   59700.     ,    60100.     ,    59000.     ,    59000.     ,\n",
       "           56946.6875 , 19285354.     ],\n",
       "       ...,\n",
       "       [   79400.     ,    79500.     ,    78800.     ,    78800.     ,\n",
       "           78800.     , 10040975.     ],\n",
       "       [   79200.     ,    79400.     ,    78500.     ,    78500.     ,\n",
       "           78500.     , 11427693.     ],\n",
       "       [   78300.     ,    78900.     ,    78100.     ,    78400.     ,\n",
       "           78400.     , 10199591.     ]])"
      ]
     },
     "execution_count": 242,
     "metadata": {},
     "output_type": "execute_result"
    }
   ],
   "source": [
    "samsung=np.loadtxt(\"samsung.csv\", skiprows=1, delimiter=',') #첫번째 줄 스킵\n",
    "samsung.shape\n",
    "samsung\n",
    "#samsung 변수에 담긴 배열을 이용하여 오늘 학습한 함수, 열, 행 추출\n"
   ]
  },
  {
   "cell_type": "code",
   "execution_count": 243,
   "id": "e1cc41b4",
   "metadata": {},
   "outputs": [],
   "source": [
    "#kaggle.com"
   ]
  },
  {
   "cell_type": "code",
   "execution_count": 254,
   "id": "dfe74977",
   "metadata": {},
   "outputs": [
    {
     "data": {
      "text/plain": [
       "'Dooley, Mr. Patrick'"
      ]
     },
     "execution_count": 254,
     "metadata": {},
     "output_type": "execute_result"
    }
   ],
   "source": [
    "df=pd.read_csv(\"train.csv\")\n",
    "df['Name']\n",
    "df['Name'][0]\n",
    "df['Name'][1]\n",
    "df['Name'][890]"
   ]
  },
  {
   "cell_type": "code",
   "execution_count": 251,
   "id": "5b833ddb",
   "metadata": {},
   "outputs": [
    {
     "data": {
      "text/plain": [
       "891"
      ]
     },
     "execution_count": 251,
     "metadata": {},
     "output_type": "execute_result"
    }
   ],
   "source": [
    "len(df['Name'])"
   ]
  },
  {
   "cell_type": "code",
   "execution_count": 261,
   "id": "5ada346e",
   "metadata": {},
   "outputs": [
    {
     "data": {
      "text/plain": [
       "'Braund, Mr. Owen Harris'"
      ]
     },
     "execution_count": 261,
     "metadata": {},
     "output_type": "execute_result"
    }
   ],
   "source": [
    "df['Name'][0]"
   ]
  },
  {
   "cell_type": "code",
   "execution_count": null,
   "id": "2d0ecccf",
   "metadata": {},
   "outputs": [],
   "source": [
    "#모든 호칭 추출하여 저장\n",
    "#호칭 종류가 몇가지 출력\n",
    "#호칭 종류별 승객수 출력\n",
    "# ex) Mr : 500명\n",
    "#     Mrs : 400명\n",
    "#         ...\n",
    "        "
   ]
  }
 ],
 "metadata": {
  "kernelspec": {
   "display_name": "Python 3",
   "language": "python",
   "name": "python3"
  },
  "language_info": {
   "codemirror_mode": {
    "name": "ipython",
    "version": 3
   },
   "file_extension": ".py",
   "mimetype": "text/x-python",
   "name": "python",
   "nbconvert_exporter": "python",
   "pygments_lexer": "ipython3",
   "version": "3.8.8"
  }
 },
 "nbformat": 4,
 "nbformat_minor": 5
}
