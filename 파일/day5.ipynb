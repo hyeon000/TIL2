{
 "cells": [
  {
   "cell_type": "code",
   "execution_count": 3,
   "id": "48006908",
   "metadata": {},
   "outputs": [
    {
     "name": "stdout",
     "output_type": "stream",
     "text": [
      "[1, 2, 3, 4, 5]\n"
     ]
    }
   ],
   "source": [
    "a = [1, 1, 1, 2, 2, 3, 3, 3, 4, 4, 5]\n",
    "print(list(set(a)))"
   ]
  },
  {
   "cell_type": "code",
   "execution_count": 4,
   "id": "5c7a97db",
   "metadata": {},
   "outputs": [
    {
     "name": "stdout",
     "output_type": "stream",
     "text": [
      "23688\n"
     ]
    }
   ],
   "source": [
    "i=0\n",
    "hap=0\n",
    "while i<1000:\n",
    "    i+=1\n",
    "    if i%21==0: #if i%3==0 and i%7==0 :\n",
    "        hap+=i\n",
    "print(hap)"
   ]
  },
  {
   "cell_type": "code",
   "execution_count": 5,
   "id": "d9ec195a",
   "metadata": {},
   "outputs": [
    {
     "name": "stdout",
     "output_type": "stream",
     "text": [
      "*\n",
      "**\n",
      "***\n",
      "****\n",
      "*****\n"
     ]
    }
   ],
   "source": [
    "i=0\n",
    "while i<5:\n",
    "    i+=1\n",
    "    print(\"*\"*i)"
   ]
  },
  {
   "cell_type": "code",
   "execution_count": null,
   "id": "5fa8b57e",
   "metadata": {},
   "outputs": [],
   "source": [
    "# 시간복잡도 : 단순하게 표현하자면...실행해야 할 프로그램 소스\n",
    "# 코드 문장의 수\n",
    "# O(빅오) - 표기법 :시간복잡도 표기 방법\n",
    "    \n",
    "# O 표기법\n",
    "# <---빠름                                                                 느림--->\n",
    "# O(1) > O(log n) > O(n) > O(n log n) > O(n제곱) > O(n세제곱)> O(2의 n제곱) > O(n!)\n",
    "\n"
   ]
  },
  {
   "cell_type": "code",
   "execution_count": 11,
   "id": "cbe2e20f",
   "metadata": {},
   "outputs": [
    {
     "name": "stdout",
     "output_type": "stream",
     "text": [
      "0\n",
      "1\n",
      "2\n",
      "3\n",
      "4\n",
      "5\n",
      "6\n",
      "7\n",
      "8\n",
      "9\n",
      "10\n",
      "11\n",
      "12\n",
      "13\n",
      "14\n",
      "15\n",
      "16\n",
      "17\n",
      "18\n",
      "19\n",
      "20\n",
      "21\n",
      "22\n",
      "23\n",
      "24\n",
      "25\n",
      "26\n",
      "27\n",
      "28\n",
      "29\n",
      "30\n",
      "31\n",
      "32\n",
      "33\n",
      "34\n",
      "35\n",
      "36\n",
      "37\n",
      "38\n",
      "39\n",
      "40\n",
      "41\n",
      "42\n",
      "43\n",
      "44\n",
      "45\n",
      "46\n",
      "47\n",
      "48\n",
      "49\n",
      "50\n",
      "51\n",
      "52\n",
      "53\n",
      "54\n",
      "55\n",
      "56\n",
      "57\n",
      "58\n",
      "59\n",
      "60\n",
      "61\n",
      "62\n",
      "63\n",
      "64\n",
      "65\n",
      "66\n",
      "67\n",
      "68\n",
      "69\n",
      "70\n",
      "71\n",
      "72\n",
      "73\n",
      "74\n",
      "75\n",
      "76\n",
      "77\n",
      "78\n",
      "79\n",
      "80\n",
      "81\n",
      "82\n",
      "83\n",
      "84\n",
      "85\n",
      "86\n",
      "87\n",
      "88\n",
      "89\n",
      "90\n",
      "91\n",
      "92\n",
      "93\n",
      "94\n",
      "95\n",
      "96\n",
      "97\n",
      "98\n",
      "99\n"
     ]
    }
   ],
   "source": [
    "#무한루프는 while True: 로 표현\n",
    "# i=0\n",
    "# while True:\n",
    "#     print(i)\n",
    "#     i+=1\n",
    "#     if i==100:\n",
    "#         break\n",
    "\n",
    "for i in range(10000):\n",
    "    print(i)\n",
    "    if i==99:\n",
    "        break\n"
   ]
  },
  {
   "cell_type": "code",
   "execution_count": 12,
   "id": "52969154",
   "metadata": {},
   "outputs": [
    {
     "name": "stdout",
     "output_type": "stream",
     "text": [
      "0\n",
      "2\n",
      "4\n",
      "6\n",
      "8\n"
     ]
    }
   ],
   "source": [
    "for i in range(10):\n",
    "    if i % 2 !=0:\n",
    "        continue\n",
    "    print(i)\n",
    "    #i가 짝수인 경우에만 출력, continue문"
   ]
  },
  {
   "cell_type": "code",
   "execution_count": null,
   "id": "86d9f5d3",
   "metadata": {},
   "outputs": [],
   "source": [
    "# for i in range(3):   #i=0, 1, 2\n",
    "#     for j in range(2): #j=0, 1\n",
    "#         문장1   #3*2번\n",
    "#         문장2  #3*2번\n",
    "#     문장3\n",
    "#     문장4\n",
    "# 문장5\n",
    "# 문장6"
   ]
  },
  {
   "cell_type": "code",
   "execution_count": 15,
   "id": "47cdaad3",
   "metadata": {},
   "outputs": [
    {
     "name": "stdout",
     "output_type": "stream",
     "text": [
      "***\n",
      "***\n",
      "***\n",
      "***\n"
     ]
    }
   ],
   "source": [
    "# ***\n",
    "# ***\n",
    "# ***\n",
    "# ***\n",
    "#이중 for문 활용\n",
    "\n",
    "for i in range(4):\n",
    "    for j in range(3):\n",
    "        print(\"*\", end=\"\")\n",
    "    print()"
   ]
  },
  {
   "cell_type": "code",
   "execution_count": null,
   "id": "b70fd071",
   "metadata": {},
   "outputs": [],
   "source": []
  },
  {
   "cell_type": "code",
   "execution_count": 29,
   "id": "45efd1e8",
   "metadata": {},
   "outputs": [
    {
     "data": {
      "text/plain": [
       "[10]"
      ]
     },
     "execution_count": 29,
     "metadata": {},
     "output_type": "execute_result"
    }
   ],
   "source": [
    "a=[]\n",
    "a.append(10)\n",
    "a"
   ]
  },
  {
   "cell_type": "code",
   "execution_count": 30,
   "id": "a906bc50",
   "metadata": {},
   "outputs": [
    {
     "data": {
      "text/plain": [
       "[10, 20, 30]"
      ]
     },
     "execution_count": 30,
     "metadata": {},
     "output_type": "execute_result"
    }
   ],
   "source": [
    "a.extend([20,30])\n",
    "a"
   ]
  },
  {
   "cell_type": "code",
   "execution_count": 31,
   "id": "fd2c1edd",
   "metadata": {},
   "outputs": [],
   "source": [
    "a.insert(1, 15)"
   ]
  },
  {
   "cell_type": "code",
   "execution_count": 32,
   "id": "8c92f075",
   "metadata": {},
   "outputs": [
    {
     "data": {
      "text/plain": [
       "[10, 15, 20, 30]"
      ]
     },
     "execution_count": 32,
     "metadata": {},
     "output_type": "execute_result"
    }
   ],
   "source": [
    "a"
   ]
  },
  {
   "cell_type": "code",
   "execution_count": 33,
   "id": "3bd6a550",
   "metadata": {},
   "outputs": [],
   "source": [
    "a.insert(len(a), 40)"
   ]
  },
  {
   "cell_type": "code",
   "execution_count": 34,
   "id": "993e92e4",
   "metadata": {},
   "outputs": [
    {
     "data": {
      "text/plain": [
       "[10, 15, 20, 30, 40]"
      ]
     },
     "execution_count": 34,
     "metadata": {},
     "output_type": "execute_result"
    }
   ],
   "source": [
    "a"
   ]
  },
  {
   "cell_type": "code",
   "execution_count": 22,
   "id": "b7a2b8ae",
   "metadata": {},
   "outputs": [],
   "source": [
    "# 20과 30 사이에 한 번에 25, 27을 추가\n",
    "#[25,27]\n",
    "\n",
    "#[10, 15, 20, 30, 40] => [10, 15, 20, 25, 27, 30, 40]"
   ]
  },
  {
   "cell_type": "code",
   "execution_count": 24,
   "id": "059d5155",
   "metadata": {},
   "outputs": [
    {
     "data": {
      "text/plain": [
       "[10, 15, 20, [20, 27], 30, 40]"
      ]
     },
     "execution_count": 24,
     "metadata": {},
     "output_type": "execute_result"
    }
   ],
   "source": [
    "# a.insert(3, [20,27])\n",
    "# a"
   ]
  },
  {
   "cell_type": "code",
   "execution_count": 35,
   "id": "a47da694",
   "metadata": {},
   "outputs": [
    {
     "data": {
      "text/plain": [
       "[10, 15, 20, 30, 40]"
      ]
     },
     "execution_count": 35,
     "metadata": {},
     "output_type": "execute_result"
    }
   ],
   "source": [
    "a"
   ]
  },
  {
   "cell_type": "code",
   "execution_count": 36,
   "id": "9b2d4dd6",
   "metadata": {},
   "outputs": [
    {
     "data": {
      "text/plain": [
       "[10, 15, 20, 25, 27, 30, 40]"
      ]
     },
     "execution_count": 36,
     "metadata": {},
     "output_type": "execute_result"
    }
   ],
   "source": [
    "a[:3]+[25,27]+a[3:]"
   ]
  },
  {
   "cell_type": "code",
   "execution_count": 37,
   "id": "3644872a",
   "metadata": {},
   "outputs": [],
   "source": [
    "#시작번호와 끝번호를 동일하게 하면 여러개의 데이터를 추가할 수 있음\n",
    "a=[10, 15, 20, 30, 40]"
   ]
  },
  {
   "cell_type": "code",
   "execution_count": 40,
   "id": "ecbcd76c",
   "metadata": {},
   "outputs": [],
   "source": [
    "a[3:3]=[25,27]"
   ]
  },
  {
   "cell_type": "code",
   "execution_count": 41,
   "id": "ae432fdf",
   "metadata": {},
   "outputs": [
    {
     "data": {
      "text/plain": [
       "[10, 15, 20, 25, 27, 30, 40]"
      ]
     },
     "execution_count": 41,
     "metadata": {},
     "output_type": "execute_result"
    }
   ],
   "source": [
    "a"
   ]
  },
  {
   "cell_type": "code",
   "execution_count": 42,
   "id": "8eaf2b56",
   "metadata": {},
   "outputs": [
    {
     "data": {
      "text/plain": [
       "[10, 15, 20, [25, 27], 30, 40]"
      ]
     },
     "execution_count": 42,
     "metadata": {},
     "output_type": "execute_result"
    }
   ],
   "source": [
    "a = [10,15,20,30,40]\n",
    "a.insert(len(a)-2,[25,27])\n",
    "a"
   ]
  },
  {
   "cell_type": "code",
   "execution_count": 44,
   "id": "cadf030a",
   "metadata": {},
   "outputs": [],
   "source": [
    "# pop:마지막 요소, 특정 번호의 데이터 삭제\n",
    "# remove:데이터 값을 찾아서 삭제"
   ]
  },
  {
   "cell_type": "code",
   "execution_count": 49,
   "id": "7d28c537",
   "metadata": {},
   "outputs": [],
   "source": [
    "a=[4,5,6]\n",
    "#a.pop()\n",
    "#a.pop(1)\n",
    "\n",
    "del a[1]"
   ]
  },
  {
   "cell_type": "code",
   "execution_count": 50,
   "id": "bc2d2a44",
   "metadata": {},
   "outputs": [
    {
     "data": {
      "text/plain": [
       "[4, 6]"
      ]
     },
     "execution_count": 50,
     "metadata": {},
     "output_type": "execute_result"
    }
   ],
   "source": [
    "a"
   ]
  },
  {
   "cell_type": "code",
   "execution_count": null,
   "id": "875f4fde",
   "metadata": {},
   "outputs": [],
   "source": []
  },
  {
   "cell_type": "code",
   "execution_count": 52,
   "id": "b6245b93",
   "metadata": {},
   "outputs": [],
   "source": [
    "a=[4,5,6]\n",
    "a.remove(5)"
   ]
  },
  {
   "cell_type": "code",
   "execution_count": 53,
   "id": "1135e7de",
   "metadata": {},
   "outputs": [
    {
     "data": {
      "text/plain": [
       "[4, 6]"
      ]
     },
     "execution_count": 53,
     "metadata": {},
     "output_type": "execute_result"
    }
   ],
   "source": [
    "a"
   ]
  },
  {
   "cell_type": "code",
   "execution_count": 56,
   "id": "6876d7b0",
   "metadata": {},
   "outputs": [
    {
     "data": {
      "text/plain": [
       "2"
      ]
     },
     "execution_count": 56,
     "metadata": {},
     "output_type": "execute_result"
    }
   ],
   "source": [
    "a=[4,5,6,4]\n",
    "#a.index(6)\n",
    "a.count(4)"
   ]
  },
  {
   "cell_type": "code",
   "execution_count": 67,
   "id": "e3fc395d",
   "metadata": {},
   "outputs": [],
   "source": [
    "a=[4,5,6,4]\n",
    "a.sort(reverse=True) #a에는 정렬된 결과가 저장됨\n",
    "#a.reverse()"
   ]
  },
  {
   "cell_type": "code",
   "execution_count": 68,
   "id": "88a706e9",
   "metadata": {},
   "outputs": [
    {
     "data": {
      "text/plain": [
       "[6, 5, 4, 4]"
      ]
     },
     "execution_count": 68,
     "metadata": {},
     "output_type": "execute_result"
    }
   ],
   "source": [
    "a"
   ]
  },
  {
   "cell_type": "code",
   "execution_count": 61,
   "id": "cd006230",
   "metadata": {},
   "outputs": [
    {
     "data": {
      "text/plain": [
       "[4, 4, 5, 6]"
      ]
     },
     "execution_count": 61,
     "metadata": {},
     "output_type": "execute_result"
    }
   ],
   "source": [
    "sorted(a)\n"
   ]
  },
  {
   "cell_type": "code",
   "execution_count": 62,
   "id": "0f0e5063",
   "metadata": {},
   "outputs": [
    {
     "data": {
      "text/plain": [
       "[4, 5, 6, 4]"
      ]
     },
     "execution_count": 62,
     "metadata": {},
     "output_type": "execute_result"
    }
   ],
   "source": [
    "a"
   ]
  },
  {
   "cell_type": "code",
   "execution_count": null,
   "id": "04a95f5a",
   "metadata": {},
   "outputs": [],
   "source": []
  },
  {
   "cell_type": "code",
   "execution_count": 72,
   "id": "dfc2e546",
   "metadata": {},
   "outputs": [
    {
     "data": {
      "text/plain": [
       "[]"
      ]
     },
     "execution_count": 72,
     "metadata": {},
     "output_type": "execute_result"
    }
   ],
   "source": [
    "a=[4,5,6,4]\n",
    "#a.clear()\n",
    "del a[:]\n",
    "a"
   ]
  },
  {
   "cell_type": "code",
   "execution_count": 74,
   "id": "51097bfd",
   "metadata": {},
   "outputs": [
    {
     "data": {
      "text/plain": [
       "[100, 200, 300, 400]"
      ]
     },
     "execution_count": 74,
     "metadata": {},
     "output_type": "execute_result"
    }
   ],
   "source": [
    "a=[100,200]\n",
    "#[100,200,300,400]\n",
    "\n",
    "#a.extend([300,400])\n",
    "a[len(a):]=[300,400]\n",
    "\n",
    "a"
   ]
  },
  {
   "cell_type": "code",
   "execution_count": 77,
   "id": "b0cff695",
   "metadata": {},
   "outputs": [
    {
     "name": "stdout",
     "output_type": "stream",
     "text": [
      "비어있지 않음\n"
     ]
    }
   ],
   "source": [
    "a\n",
    "\n",
    "if len(a): # len(a) != 0\n",
    "    print(\"비어있지 않음\")\n",
    "else:\n",
    "    print(\"비어있음\")\n"
   ]
  },
  {
   "cell_type": "code",
   "execution_count": 79,
   "id": "52ec43c7",
   "metadata": {},
   "outputs": [
    {
     "name": "stdout",
     "output_type": "stream",
     "text": [
      "비어있지 않음\n"
     ]
    }
   ],
   "source": [
    "if a: #a에 데이터가 있으므로 참\n",
    "    print(\"비어있지 않음\")"
   ]
  },
  {
   "cell_type": "code",
   "execution_count": 80,
   "id": "e9ecc323",
   "metadata": {},
   "outputs": [],
   "source": [
    "if not a : \n",
    "    print(\"비어있음\")"
   ]
  },
  {
   "cell_type": "code",
   "execution_count": 89,
   "id": "e4caf5c7",
   "metadata": {},
   "outputs": [
    {
     "name": "stdout",
     "output_type": "stream",
     "text": [
      "1 3\n",
      "2 1\n",
      "3 2\n",
      "4 4\n",
      "5 5\n"
     ]
    }
   ],
   "source": [
    "a=[3,1,2,4,5]\n",
    "for idx, v in enumerate(a, start=1):\n",
    "#     print(idx) #index번호\n",
    "#     print(v)\n",
    "    print(idx,v)    \n",
    "    #print(idx+1,v)"
   ]
  },
  {
   "cell_type": "code",
   "execution_count": 90,
   "id": "0724a266",
   "metadata": {},
   "outputs": [],
   "source": [
    "a=[3,-2,5,1,-6]"
   ]
  },
  {
   "cell_type": "code",
   "execution_count": null,
   "id": "45942e2a",
   "metadata": {},
   "outputs": [],
   "source": [
    "#a리스트에서 양수만 출력"
   ]
  },
  {
   "cell_type": "code",
   "execution_count": 92,
   "id": "3a8b4c37",
   "metadata": {},
   "outputs": [
    {
     "name": "stdout",
     "output_type": "stream",
     "text": [
      "3 5 1 "
     ]
    }
   ],
   "source": [
    "# for idx, v in enumerate(a):\n",
    "#     if v > 0:\n",
    "#         print(v)\n",
    "a=[3,-2,5,1,-6]\n",
    "for i in a:\n",
    "    if i<0:\n",
    "        continue\n",
    "    else:\n",
    "        print(i, end=\" \")\n"
   ]
  },
  {
   "cell_type": "code",
   "execution_count": 94,
   "id": "bbf1fe85",
   "metadata": {},
   "outputs": [],
   "source": [
    "a=[3,-2,5,1,-6]"
   ]
  },
  {
   "cell_type": "code",
   "execution_count": 95,
   "id": "e0840ec4",
   "metadata": {},
   "outputs": [
    {
     "name": "stdout",
     "output_type": "stream",
     "text": [
      "[3, 5, 1]\n"
     ]
    }
   ],
   "source": [
    "for i in a:\n",
    "    if i > 0:\n",
    "        continue\n",
    "    else:\n",
    "        a.remove(i)\n",
    "print(a)\n"
   ]
  },
  {
   "cell_type": "code",
   "execution_count": 96,
   "id": "76f20992",
   "metadata": {},
   "outputs": [],
   "source": [
    "a=[3,7,1,5,2]"
   ]
  },
  {
   "cell_type": "code",
   "execution_count": 98,
   "id": "56e906a1",
   "metadata": {},
   "outputs": [
    {
     "name": "stdout",
     "output_type": "stream",
     "text": [
      "7\n"
     ]
    }
   ],
   "source": [
    "#a리스트에서 최소/최대값\n",
    "#small=a[0]\n",
    "big=a[0]\n",
    "for i in a:\n",
    "    if i > big:\n",
    "        big=i\n",
    "print(big)        "
   ]
  },
  {
   "cell_type": "code",
   "execution_count": 99,
   "id": "513add3d",
   "metadata": {},
   "outputs": [
    {
     "data": {
      "text/plain": [
       "[3, 7, 1, 5, 2]"
      ]
     },
     "execution_count": 99,
     "metadata": {},
     "output_type": "execute_result"
    }
   ],
   "source": [
    "a"
   ]
  },
  {
   "cell_type": "code",
   "execution_count": 100,
   "id": "ee60f0fe",
   "metadata": {},
   "outputs": [
    {
     "data": {
      "text/plain": [
       "[1, 2, 3, 5, 7]"
      ]
     },
     "execution_count": 100,
     "metadata": {},
     "output_type": "execute_result"
    }
   ],
   "source": [
    "a.sort()\n",
    "a"
   ]
  },
  {
   "cell_type": "code",
   "execution_count": 101,
   "id": "86e7761d",
   "metadata": {},
   "outputs": [
    {
     "data": {
      "text/plain": [
       "1"
      ]
     },
     "execution_count": 101,
     "metadata": {},
     "output_type": "execute_result"
    }
   ],
   "source": [
    "a[0] # sort(reverse=True)   a[len(a)-1]"
   ]
  },
  {
   "cell_type": "code",
   "execution_count": 103,
   "id": "46f280d8",
   "metadata": {},
   "outputs": [
    {
     "data": {
      "text/plain": [
       "7"
      ]
     },
     "execution_count": 103,
     "metadata": {},
     "output_type": "execute_result"
    }
   ],
   "source": [
    "min(a)\n",
    "max(a)"
   ]
  },
  {
   "cell_type": "code",
   "execution_count": 105,
   "id": "55d7a4a6",
   "metadata": {},
   "outputs": [
    {
     "data": {
      "text/plain": [
       "18"
      ]
     },
     "execution_count": 105,
     "metadata": {},
     "output_type": "execute_result"
    }
   ],
   "source": [
    "sum(a)"
   ]
  },
  {
   "cell_type": "code",
   "execution_count": 107,
   "id": "411ee2a0",
   "metadata": {},
   "outputs": [
    {
     "data": {
      "text/plain": [
       "[0, 1, 2, 3, 4, 5, 6, 7, 8, 9]"
      ]
     },
     "execution_count": 107,
     "metadata": {},
     "output_type": "execute_result"
    }
   ],
   "source": [
    "#list comprehension(리스트 내포(표현식)): 리스트 내부에 for, if문 등을 사용 \n",
    "#-> 리스트 생성\n",
    "\n",
    "#리스트 표현식 작성법\n",
    "# [식 for 변수 in 리스트]\n",
    "x=[x for x in range(10)]\n",
    "x"
   ]
  },
  {
   "cell_type": "code",
   "execution_count": 118,
   "id": "f16d8fcc",
   "metadata": {},
   "outputs": [
    {
     "data": {
      "text/plain": [
       "[0, 1, 2, 3, 4, 5, 6, 7, 8, 9]"
      ]
     },
     "execution_count": 118,
     "metadata": {},
     "output_type": "execute_result"
    }
   ],
   "source": [
    "# li=[]\n",
    "# for i in range(10):  \n",
    "#     li.append(i)    \n",
    "\n",
    "#[x for x in range(10)]\n",
    "list((x for x in range(10))) #제너라이터"
   ]
  },
  {
   "cell_type": "code",
   "execution_count": 120,
   "id": "f0880aea",
   "metadata": {},
   "outputs": [
    {
     "data": {
      "text/plain": [
       "[1, 2, 3, 4, 5, 6, 7, 8, 9, 10]"
      ]
     },
     "execution_count": 120,
     "metadata": {},
     "output_type": "execute_result"
    }
   ],
   "source": [
    "[x+1 for x in range(10)]"
   ]
  },
  {
   "cell_type": "code",
   "execution_count": null,
   "id": "1950ad03",
   "metadata": {},
   "outputs": [],
   "source": [
    "#리스트 내포를 이용하여 10~20까지 값을 갖는 리스트를 생성"
   ]
  },
  {
   "cell_type": "code",
   "execution_count": 130,
   "id": "5fe30c6e",
   "metadata": {},
   "outputs": [
    {
     "data": {
      "text/plain": [
       "[10, 11, 12, 13, 14, 15, 16, 17, 18, 19, 20]"
      ]
     },
     "execution_count": 130,
     "metadata": {},
     "output_type": "execute_result"
    }
   ],
   "source": [
    "mylist = [x for x in range(10,21)]\n",
    "#변수x = [ 리스트 ]\n",
    "mylist"
   ]
  },
  {
   "cell_type": "code",
   "execution_count": 129,
   "id": "da077813",
   "metadata": {},
   "outputs": [],
   "source": [
    "# a=[1,2,3]\n",
    "# a[2]"
   ]
  },
  {
   "cell_type": "code",
   "execution_count": 132,
   "id": "6d9b3e32",
   "metadata": {},
   "outputs": [
    {
     "data": {
      "text/plain": [
       "[0, 5, 10, 15, 20, 25]"
      ]
     },
     "execution_count": 132,
     "metadata": {},
     "output_type": "execute_result"
    }
   ],
   "source": [
    "#[0, 5, 10, 15, 20, 25]\n",
    "#리스트 내포를 사용하여 생성\n",
    "\n",
    "#[x for x in range(0,26,5)]\n",
    "\n",
    "[x*5 for x in range(0,6)]\n"
   ]
  },
  {
   "cell_type": "code",
   "execution_count": 136,
   "id": "20f25ee3",
   "metadata": {},
   "outputs": [
    {
     "data": {
      "text/plain": [
       "[0, 2, 4, 6, 8]"
      ]
     },
     "execution_count": 136,
     "metadata": {},
     "output_type": "execute_result"
    }
   ],
   "source": [
    "#[식 for 변수 리스트 if 조건식]\n",
    "[i for i in range(10) if i%2 == 0]\n",
    "\"\"\"\n",
    "1) range(10)    =>  0,1,2,...,9\n",
    "2) if i%2 == 0  =>  짝수만 뽑아냄\n",
    "3) 뽑아낸 짝수가 i에 전달되어 리스트가 생성 됨\n",
    "\"\"\""
   ]
  },
  {
   "cell_type": "code",
   "execution_count": 140,
   "id": "e0b59b84",
   "metadata": {},
   "outputs": [
    {
     "data": {
      "text/plain": [
       "[3, 7, 11, 15, 19]"
      ]
     },
     "execution_count": 140,
     "metadata": {},
     "output_type": "execute_result"
    }
   ],
   "source": [
    "#0~9까지 숫자 중에서 홀수에 3을 곱한 리스트를 생성\n",
    "#[1,3,5,7,9]\n",
    "#출력 : [3,9,15,21,27]\n",
    "[i*2+1 for i in range(10) if i%2 !=0]"
   ]
  },
  {
   "cell_type": "code",
   "execution_count": 141,
   "id": "eb6049e8",
   "metadata": {},
   "outputs": [],
   "source": [
    "a=['a','b','c','d','e']\n",
    "b=['A','B','C','D','E']"
   ]
  },
  {
   "cell_type": "code",
   "execution_count": 149,
   "id": "a4f47a60",
   "metadata": {},
   "outputs": [
    {
     "data": {
      "text/plain": [
       "['aA',\n",
       " 'aB',\n",
       " 'aC',\n",
       " 'aD',\n",
       " 'aE',\n",
       " 'bA',\n",
       " 'bB',\n",
       " 'bC',\n",
       " 'bD',\n",
       " 'bE',\n",
       " 'cA',\n",
       " 'cB',\n",
       " 'cC',\n",
       " 'cD',\n",
       " 'cE',\n",
       " 'dA',\n",
       " 'dB',\n",
       " 'dC',\n",
       " 'dD',\n",
       " 'dE',\n",
       " 'eA',\n",
       " 'eB',\n",
       " 'eC',\n",
       " 'eD',\n",
       " 'eE']"
      ]
     },
     "execution_count": 149,
     "metadata": {},
     "output_type": "execute_result"
    }
   ],
   "source": [
    "#[i+j for i in a for j in b]\n",
    "\n",
    "# mylist=[]\n",
    "# for i in a:\n",
    "#     for j in b:\n",
    "#         mylist.append(i+j)        \n",
    "# mylist\n",
    "\n",
    "#2단~9단 결과를 출력\n",
    "[2, 4, 6,...,81]"
   ]
  },
  {
   "cell_type": "code",
   "execution_count": 150,
   "id": "c773f828",
   "metadata": {},
   "outputs": [],
   "source": [
    "mylist=[]\n",
    "for i in range(2,10): #단\n",
    "    for j in range(1,10):\n",
    "        mylist.append(i*j)        "
   ]
  },
  {
   "cell_type": "code",
   "execution_count": 152,
   "id": "487d79d9",
   "metadata": {},
   "outputs": [
    {
     "name": "stdout",
     "output_type": "stream",
     "text": [
      "[2, 4, 6, 8, 10, 12, 14, 16, 18, 3, 6, 9, 12, 15, 18, 21, 24, 27, 4, 8, 12, 16, 20, 24, 28, 32, 36, 5, 10, 15, 20, 25, 30, 35, 40, 45, 6, 12, 18, 24, 30, 36, 42, 48, 54, 7, 14, 21, 28, 35, 42, 49, 56, 63, 8, 16, 24, 32, 40, 48, 56, 64, 72, 9, 18, 27, 36, 45, 54, 63, 72, 81]\n"
     ]
    }
   ],
   "source": [
    "print(mylist)"
   ]
  },
  {
   "cell_type": "code",
   "execution_count": 155,
   "id": "f7b2a111",
   "metadata": {},
   "outputs": [
    {
     "name": "stdout",
     "output_type": "stream",
     "text": [
      "[2, 4, 6, 8, 10, 12, 14, 16, 18, 3, 6, 9, 12, 15, 18, 21, 24, 27, 4, 8, 12, 16, 20, 24, 28, 32, 36, 5, 10, 15, 20, 25, 30, 35, 40, 45, 6, 12, 18, 24, 30, 36, 42, 48, 54, 7, 14, 21, 28, 35, 42, 49, 56, 63, 8, 16, 24, 32, 40, 48, 56, 64, 72, 9, 18, 27, 36, 45, 54, 63, 72, 81]\n"
     ]
    }
   ],
   "source": [
    "print([i*j for i in range(2,10) \n",
    "           for j in range(1,10)])"
   ]
  },
  {
   "cell_type": "code",
   "execution_count": 156,
   "id": "aae2dd83",
   "metadata": {},
   "outputs": [
    {
     "data": {
      "text/plain": [
       "[0, 2, 4, 6, 8, 10, 12, 14, 16, 18, 20, 22, 24, 26, 28]"
      ]
     },
     "execution_count": 156,
     "metadata": {},
     "output_type": "execute_result"
    }
   ],
   "source": [
    "[i for i in range(30) if i%2==0]"
   ]
  },
  {
   "cell_type": "code",
   "execution_count": 157,
   "id": "053d3f1d",
   "metadata": {},
   "outputs": [
    {
     "data": {
      "text/plain": [
       "[0, 6, 12, 18, 24]"
      ]
     },
     "execution_count": 157,
     "metadata": {},
     "output_type": "execute_result"
    }
   ],
   "source": [
    "[i for i in range(30) if i%2==0 and i%3==0]"
   ]
  },
  {
   "cell_type": "code",
   "execution_count": 158,
   "id": "1d078de3",
   "metadata": {},
   "outputs": [
    {
     "data": {
      "text/plain": [
       "[0, 6, 12, 18, 24]"
      ]
     },
     "execution_count": 158,
     "metadata": {},
     "output_type": "execute_result"
    }
   ],
   "source": [
    "[i for i in range(30) if i%2==0 if i%3==0]"
   ]
  },
  {
   "cell_type": "code",
   "execution_count": 159,
   "id": "280b6d47",
   "metadata": {},
   "outputs": [],
   "source": [
    "#리스트 내포에서 else도 사용 가능, 단, elif는 불가\n",
    "# 0~9까지 수를 리스트에 저장하고자 하는데,\n",
    "# 짝수는 'even',  홀수는 'odd'\n",
    "\n",
    "#['even','odd','even','odd','even','odd','even','odd','even','odd']"
   ]
  },
  {
   "cell_type": "code",
   "execution_count": 166,
   "id": "31d5e2ac",
   "metadata": {},
   "outputs": [
    {
     "data": {
      "text/plain": [
       "['even', 'odd', 'even', 'odd', 'even', 'odd', 'even', 'odd', 'even', 'odd']"
      ]
     },
     "execution_count": 166,
     "metadata": {},
     "output_type": "execute_result"
    }
   ],
   "source": [
    "['even' if i%2==0 else 'odd' for i in range(10)]"
   ]
  },
  {
   "cell_type": "code",
   "execution_count": 168,
   "id": "86fe3dea",
   "metadata": {},
   "outputs": [
    {
     "data": {
      "text/plain": [
       "['zero', 'odd', 'even', 'odd', 'even', 'odd', 'even', 'odd', 'even', 'odd']"
      ]
     },
     "execution_count": 168,
     "metadata": {},
     "output_type": "execute_result"
    }
   ],
   "source": [
    "#['zero', 'odd', 'even', 'odd', 'even', 'odd', 'even', 'odd', 'even', 'odd']\n",
    "\n",
    "#['zero' if i==0 else 'even' if i%2==0 else 'odd' for i in range(10)]"
   ]
  },
  {
   "cell_type": "code",
   "execution_count": null,
   "id": "fc8e3309",
   "metadata": {},
   "outputs": [],
   "source": [
    " "
   ]
  }
 ],
 "metadata": {
  "kernelspec": {
   "display_name": "Python 3",
   "language": "python",
   "name": "python3"
  },
  "language_info": {
   "codemirror_mode": {
    "name": "ipython",
    "version": 3
   },
   "file_extension": ".py",
   "mimetype": "text/x-python",
   "name": "python",
   "nbconvert_exporter": "python",
   "pygments_lexer": "ipython3",
   "version": "3.8.8"
  }
 },
 "nbformat": 4,
 "nbformat_minor": 5
}
