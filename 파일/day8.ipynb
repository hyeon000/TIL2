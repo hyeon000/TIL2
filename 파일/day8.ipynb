{
 "cells": [
  {
   "cell_type": "code",
   "execution_count": null,
   "id": "95f9bfd6",
   "metadata": {},
   "outputs": [],
   "source": []
  },
  {
   "cell_type": "code",
   "execution_count": 1,
   "id": "537e51a4",
   "metadata": {},
   "outputs": [
    {
     "name": "stdout",
     "output_type": "stream",
     "text": [
      "1227365\n"
     ]
    }
   ],
   "source": [
    "a = set()\n",
    "b = set(range(1, 5000))\n",
    "\n",
    "for i in range(1, 5000):\n",
    "    for j in str(i): #\"1\", \"2\", ..., \"4999\"\n",
    "        i = i + int(j)\n",
    "\n",
    "    if i < 5000:\n",
    "        a.add(i)\n",
    "\n",
    "b = b - a\n",
    "\n",
    "print(sum(b))"
   ]
  },
  {
   "cell_type": "code",
   "execution_count": 2,
   "id": "4f3b7453",
   "metadata": {},
   "outputs": [
    {
     "name": "stdout",
     "output_type": "stream",
     "text": [
      "1\n",
      "2\n",
      "3\n",
      "4\n"
     ]
    }
   ],
   "source": [
    "for j in \"1234\":\n",
    "    print(j)"
   ]
  },
  {
   "cell_type": "code",
   "execution_count": null,
   "id": "8c37a083",
   "metadata": {},
   "outputs": [],
   "source": []
  },
  {
   "cell_type": "code",
   "execution_count": null,
   "id": "cf278c50",
   "metadata": {},
   "outputs": [],
   "source": []
  },
  {
   "cell_type": "code",
   "execution_count": 3,
   "id": "8b1d38f1",
   "metadata": {},
   "outputs": [
    {
     "name": "stdout",
     "output_type": "stream",
     "text": [
      "1 2 3\n"
     ]
    }
   ],
   "source": [
    "print(1,2,3)"
   ]
  },
  {
   "cell_type": "code",
   "execution_count": 6,
   "id": "da37b2a4",
   "metadata": {},
   "outputs": [
    {
     "name": "stdout",
     "output_type": "stream",
     "text": [
      "[1, 2, 3]\n",
      "1 2 3\n",
      "1 2 3\n"
     ]
    }
   ],
   "source": [
    "x=[1,2,3]\n",
    "print(x)\n",
    "print(*x) # unpacking\n",
    "print(*[1,2,3])# unpacking"
   ]
  },
  {
   "cell_type": "code",
   "execution_count": 9,
   "id": "f544afb2",
   "metadata": {},
   "outputs": [
    {
     "name": "stdout",
     "output_type": "stream",
     "text": [
      "1\n",
      "2\n",
      "3\n",
      "1\n",
      "2\n",
      "3\n",
      "1\n",
      "2\n",
      "3\n",
      "4\n",
      "5\n"
     ]
    }
   ],
   "source": [
    "def printNum(*args):\n",
    "    for i in args:\n",
    "        print(i)\n",
    "    \n",
    "printNum(1,2,3)   #가변 인수 \n",
    "\n",
    "printNum(*[1,2,3])\n",
    "printNum(*[1,2,3,4,5])"
   ]
  },
  {
   "cell_type": "code",
   "execution_count": 10,
   "id": "3c4ef275",
   "metadata": {},
   "outputs": [],
   "source": [
    "def perInfo(n, a, addr):\n",
    "    print(n,a,addr)"
   ]
  },
  {
   "cell_type": "code",
   "execution_count": null,
   "id": "3172aabd",
   "metadata": {},
   "outputs": [],
   "source": [
    "perInfo(a=30, addr=\"서울\", n=\"김\")"
   ]
  },
  {
   "cell_type": "code",
   "execution_count": null,
   "id": "d4d1b9dd",
   "metadata": {},
   "outputs": [],
   "source": []
  },
  {
   "cell_type": "code",
   "execution_count": null,
   "id": "833c2882",
   "metadata": {},
   "outputs": [],
   "source": [
    "#패킹과 언패킹\n",
    "#패킹:여러개의 데이터를 묶어서 변수 1개에 저장\n",
    "#언패킹:변수 1개에 저장된 데이터를 풀어서 여러 개의 변수에 나누어 저장"
   ]
  },
  {
   "cell_type": "code",
   "execution_count": 12,
   "id": "bd3bc713",
   "metadata": {},
   "outputs": [],
   "source": [
    "num=(10,20,30,40,50)"
   ]
  },
  {
   "cell_type": "code",
   "execution_count": 17,
   "id": "42895b6a",
   "metadata": {},
   "outputs": [],
   "source": [
    "a,b,_,d,e=num"
   ]
  },
  {
   "cell_type": "code",
   "execution_count": 20,
   "id": "07a2a8d6",
   "metadata": {},
   "outputs": [
    {
     "data": {
      "text/plain": [
       "30"
      ]
     },
     "execution_count": 20,
     "metadata": {},
     "output_type": "execute_result"
    }
   ],
   "source": [
    "#_ 기호는 해당 자리의 데이터를 버리겠다(무시하겠다)"
   ]
  },
  {
   "cell_type": "code",
   "execution_count": 23,
   "id": "c9457aa6",
   "metadata": {},
   "outputs": [
    {
     "data": {
      "text/plain": [
       "(10, 20, 30, 40, 50)"
      ]
     },
     "execution_count": 23,
     "metadata": {},
     "output_type": "execute_result"
    }
   ],
   "source": [
    "num"
   ]
  },
  {
   "cell_type": "code",
   "execution_count": 22,
   "id": "310d6d96",
   "metadata": {},
   "outputs": [],
   "source": [
    "x=num[0]\n",
    "y=num[1]\n",
    "z=num[2:]"
   ]
  },
  {
   "cell_type": "code",
   "execution_count": 24,
   "id": "a435bfb1",
   "metadata": {},
   "outputs": [],
   "source": [
    "x,y,*z=num #나머지 데이터 전체를 리스트에 담아 저장"
   ]
  },
  {
   "cell_type": "code",
   "execution_count": 27,
   "id": "ce6ccf42",
   "metadata": {},
   "outputs": [
    {
     "data": {
      "text/plain": [
       "[30, 40, 50]"
      ]
     },
     "execution_count": 27,
     "metadata": {},
     "output_type": "execute_result"
    }
   ],
   "source": [
    "z"
   ]
  },
  {
   "cell_type": "code",
   "execution_count": 28,
   "id": "fe5b6660",
   "metadata": {},
   "outputs": [],
   "source": [
    "*x,y,z=num"
   ]
  },
  {
   "cell_type": "code",
   "execution_count": 31,
   "id": "a65b08f1",
   "metadata": {},
   "outputs": [
    {
     "data": {
      "text/plain": [
       "50"
      ]
     },
     "execution_count": 31,
     "metadata": {},
     "output_type": "execute_result"
    }
   ],
   "source": [
    "x\n",
    "y\n",
    "z"
   ]
  },
  {
   "cell_type": "code",
   "execution_count": 32,
   "id": "5850e70f",
   "metadata": {},
   "outputs": [],
   "source": [
    "x,*y,z=num"
   ]
  },
  {
   "cell_type": "code",
   "execution_count": 33,
   "id": "4686574e",
   "metadata": {},
   "outputs": [
    {
     "data": {
      "text/plain": [
       "[20, 30, 40]"
      ]
     },
     "execution_count": 33,
     "metadata": {},
     "output_type": "execute_result"
    }
   ],
   "source": [
    "y"
   ]
  },
  {
   "cell_type": "code",
   "execution_count": 34,
   "id": "2d5753bd",
   "metadata": {},
   "outputs": [],
   "source": [
    "def dString(year, month, day):\n",
    "    return str(year)+\"년\"+str(month)+\"월\"+str(day)+\"일\""
   ]
  },
  {
   "cell_type": "code",
   "execution_count": 35,
   "id": "387c81d5",
   "metadata": {},
   "outputs": [
    {
     "data": {
      "text/plain": [
       "'2021년7월14일'"
      ]
     },
     "execution_count": 35,
     "metadata": {},
     "output_type": "execute_result"
    }
   ],
   "source": [
    "date=(2021,7,14)\n",
    "dString(date[0], date[1], date[2])"
   ]
  },
  {
   "cell_type": "code",
   "execution_count": 36,
   "id": "a5009ac5",
   "metadata": {},
   "outputs": [
    {
     "data": {
      "text/plain": [
       "'2021년7월14일'"
      ]
     },
     "execution_count": 36,
     "metadata": {},
     "output_type": "execute_result"
    }
   ],
   "source": [
    "dString(*date)"
   ]
  },
  {
   "cell_type": "code",
   "execution_count": 39,
   "id": "659e2afd",
   "metadata": {},
   "outputs": [
    {
     "data": {
      "text/plain": [
       "'2021년7월14일'"
      ]
     },
     "execution_count": 39,
     "metadata": {},
     "output_type": "execute_result"
    }
   ],
   "source": [
    "dString(*[2021,7,14])"
   ]
  },
  {
   "cell_type": "code",
   "execution_count": 40,
   "id": "9b3785c2",
   "metadata": {},
   "outputs": [
    {
     "name": "stdout",
     "output_type": "stream",
     "text": [
      "3.5\n",
      "2.0\n"
     ]
    }
   ],
   "source": [
    "def test(*args): #패킹 매개변수\n",
    "    return sum(args)/len(args)\n",
    "    \n",
    "print(test(5,2))\n",
    "print(test(1,2,3))"
   ]
  },
  {
   "cell_type": "code",
   "execution_count": 43,
   "id": "db5d4794",
   "metadata": {},
   "outputs": [
    {
     "data": {
      "text/plain": [
       "30.0"
      ]
     },
     "execution_count": 43,
     "metadata": {},
     "output_type": "execute_result"
    }
   ],
   "source": [
    "num\n",
    "test(*num)"
   ]
  },
  {
   "cell_type": "code",
   "execution_count": 45,
   "id": "dd02e410",
   "metadata": {},
   "outputs": [],
   "source": [
    "#람다함수, 리스트내포\n",
    "# lambda : 함수를 정의할 때 사용하는 예약어(def와 동일), 간단한 기능의 함수 정의\n",
    "# def를 사용할 수 없는 곳에 쓰임\n",
    "\n",
    "#def : 복잡한 기능을 갖는 함수 정의\n"
   ]
  },
  {
   "cell_type": "code",
   "execution_count": 46,
   "id": "16fd0f7f",
   "metadata": {},
   "outputs": [],
   "source": [
    "def sum(a,b):\n",
    "    return a+b"
   ]
  },
  {
   "cell_type": "code",
   "execution_count": 47,
   "id": "dd17b04a",
   "metadata": {},
   "outputs": [
    {
     "name": "stdout",
     "output_type": "stream",
     "text": [
      "30\n"
     ]
    }
   ],
   "source": [
    "res=sum(10,20)\n",
    "print(res)"
   ]
  },
  {
   "cell_type": "code",
   "execution_count": 50,
   "id": "23bdd7eb",
   "metadata": {},
   "outputs": [],
   "source": [
    "#람다 함수(함수명이 없는 경우도 있음, 익명함수)\n",
    "sum2=lambda a,b:a+b"
   ]
  },
  {
   "cell_type": "code",
   "execution_count": 51,
   "id": "05af9e98",
   "metadata": {},
   "outputs": [
    {
     "data": {
      "text/plain": [
       "30"
      ]
     },
     "execution_count": 51,
     "metadata": {},
     "output_type": "execute_result"
    }
   ],
   "source": [
    "sum2(10,20)"
   ]
  },
  {
   "cell_type": "code",
   "execution_count": 52,
   "id": "c54618ce",
   "metadata": {},
   "outputs": [],
   "source": [
    "#lambda 매개변수(들):식"
   ]
  },
  {
   "cell_type": "code",
   "execution_count": 53,
   "id": "dbfa1df3",
   "metadata": {},
   "outputs": [
    {
     "data": {
      "text/plain": [
       "6"
      ]
     },
     "execution_count": 53,
     "metadata": {},
     "output_type": "execute_result"
    }
   ],
   "source": [
    "(lambda x:x+1)(5)"
   ]
  },
  {
   "cell_type": "code",
   "execution_count": 54,
   "id": "f6f20c17",
   "metadata": {},
   "outputs": [
    {
     "data": {
      "text/plain": [
       "15"
      ]
     },
     "execution_count": 54,
     "metadata": {},
     "output_type": "execute_result"
    }
   ],
   "source": [
    "(lambda x,y:x+y)(5,10)"
   ]
  },
  {
   "cell_type": "code",
   "execution_count": 56,
   "id": "2bb01099",
   "metadata": {},
   "outputs": [
    {
     "data": {
      "text/plain": [
       "15"
      ]
     },
     "execution_count": 56,
     "metadata": {},
     "output_type": "execute_result"
    }
   ],
   "source": [
    "#(lambda x,y:x+y)(5)\n",
    "\n",
    "(lambda x,y=10:x+y)(5) #버전에 따라 오류가 발생할 수도 있음"
   ]
  },
  {
   "cell_type": "code",
   "execution_count": 57,
   "id": "fa3e2907",
   "metadata": {},
   "outputs": [
    {
     "data": {
      "text/plain": [
       "15"
      ]
     },
     "execution_count": 57,
     "metadata": {},
     "output_type": "execute_result"
    }
   ],
   "source": [
    "y=10\n",
    "(lambda x:x+y)(5)"
   ]
  },
  {
   "cell_type": "code",
   "execution_count": 66,
   "id": "acb5798f",
   "metadata": {},
   "outputs": [
    {
     "name": "stdout",
     "output_type": "stream",
     "text": [
      "[2, 3, 4]\n"
     ]
    }
   ],
   "source": [
    "#람다함수를 map함수의 인수로 전달하여 수행\n",
    "# def add(a):\n",
    "#     return a+1\n",
    "x=[1,2,3]\n",
    "\n",
    "# print(list(map(add,x)))\n",
    "\n",
    "print(list(map(lambda a:a+1, x)))\n"
   ]
  },
  {
   "cell_type": "code",
   "execution_count": 63,
   "id": "3e8bc45c",
   "metadata": {},
   "outputs": [
    {
     "data": {
      "text/plain": [
       "[2, 3, 4]"
      ]
     },
     "execution_count": 63,
     "metadata": {},
     "output_type": "execute_result"
    }
   ],
   "source": [
    "# def add(a):\n",
    "#     for i in range(len(a)):\n",
    "#         a[i] += 1\n",
    "#     return a\n",
    "\n",
    "# x = [1, 2, 3]\n",
    "# print(add(x))\n",
    "\n",
    "\n",
    "# x_add = []\n",
    "# [x_add.append(add(i)) for i in x]\n",
    "# x_add\n",
    "\n",
    "# for i in range(len(x)):\n",
    "#     x[i]=add(x[i])\n",
    "# print(x)"
   ]
  },
  {
   "cell_type": "code",
   "execution_count": 67,
   "id": "172c700e",
   "metadata": {},
   "outputs": [],
   "source": [
    "#lambda 매개변수 : 식\n",
    "#lambda 매개변수 : 조건식\n",
    "x=[1,2,3,4,5]"
   ]
  },
  {
   "cell_type": "code",
   "execution_count": null,
   "id": "d174acb5",
   "metadata": {},
   "outputs": [],
   "source": [
    "#출력 결과 : [1,'2',3,'4',5] \n",
    "#짝수는 문자로 출력"
   ]
  },
  {
   "cell_type": "code",
   "execution_count": 68,
   "id": "cb653599",
   "metadata": {},
   "outputs": [
    {
     "name": "stdout",
     "output_type": "stream",
     "text": [
      "[1, '2', 3, '4', 5]\n"
     ]
    }
   ],
   "source": [
    "x = [1,2,3,4,5]\n",
    "\n",
    "for i in range(len(x)):\n",
    "    if x[i] % 2 == 0:\n",
    "        x[i] = str(x[i])\n",
    "print(x)\n"
   ]
  },
  {
   "cell_type": "code",
   "execution_count": 69,
   "id": "ee07d376",
   "metadata": {},
   "outputs": [
    {
     "data": {
      "text/plain": [
       "[1, '2', 3, '4', 5]"
      ]
     },
     "execution_count": 69,
     "metadata": {},
     "output_type": "execute_result"
    }
   ],
   "source": [
    "x = [1,2,3,4,5]\n",
    "[str(i) if i % 2 == 0 else i for i in x]"
   ]
  },
  {
   "cell_type": "code",
   "execution_count": 74,
   "id": "687152b9",
   "metadata": {},
   "outputs": [
    {
     "data": {
      "text/plain": [
       "[1, '2', 3, '4', 5]"
      ]
     },
     "execution_count": 74,
     "metadata": {},
     "output_type": "execute_result"
    }
   ],
   "source": [
    "x = [1,2,3,4,5]\n",
    "#람다식에 if문을 쓰는 경우에는 콜론기호를 사용하지 않음\n",
    "#조건식  => 식(참) if 조건식 else 식(거짓)\n",
    "list(map(lambda x: str(x) if x % 2 == 0 else x , x))"
   ]
  },
  {
   "cell_type": "code",
   "execution_count": 75,
   "id": "cfb7e352",
   "metadata": {},
   "outputs": [
    {
     "data": {
      "text/plain": [
       "['1', 2.0, 3, 4, 5]"
      ]
     },
     "execution_count": 75,
     "metadata": {},
     "output_type": "execute_result"
    }
   ],
   "source": [
    "#조건식  => 식1 if 조건식1 else 식2 if 조건식2 else 식3\n",
    "x = [1,2,3,4,5]\n",
    "# 1 -> '1'\n",
    "# 2 -> 2.0\n",
    "#나머지는 그대로 출력  : ['1', 2.0, 3, 4, 5]\n",
    "\n",
    "list(map(lambda x: str(x) if x ==1 else float(x) if x==2 else x,x))"
   ]
  },
  {
   "cell_type": "code",
   "execution_count": 79,
   "id": "922bd75c",
   "metadata": {},
   "outputs": [],
   "source": [
    "x=[10,20,0,5,10]\n",
    "y=[1,0,20,15,5]"
   ]
  },
  {
   "cell_type": "code",
   "execution_count": 85,
   "id": "8978b81d",
   "metadata": {},
   "outputs": [
    {
     "data": {
      "text/plain": [
       "[10, 0, 0, 75, 50]"
      ]
     },
     "execution_count": 85,
     "metadata": {},
     "output_type": "execute_result"
    }
   ],
   "source": [
    "#출력결과 : [10,0,0,75,50]\n",
    "list(map(lambda a, b: a * b, x, y))\n",
    "\n",
    "#벡터의 내적 : 135"
   ]
  },
  {
   "cell_type": "code",
   "execution_count": 87,
   "id": "ba7277bc",
   "metadata": {},
   "outputs": [
    {
     "data": {
      "text/plain": [
       "3"
      ]
     },
     "execution_count": 87,
     "metadata": {},
     "output_type": "execute_result"
    }
   ],
   "source": [
    "sum(1,2)"
   ]
  },
  {
   "cell_type": "code",
   "execution_count": 92,
   "id": "c6aabdac",
   "metadata": {},
   "outputs": [
    {
     "data": {
      "text/plain": [
       "1"
      ]
     },
     "execution_count": 92,
     "metadata": {},
     "output_type": "execute_result"
    }
   ],
   "source": [
    "#절대값\n",
    "abs(1)\n",
    "abs(-1)"
   ]
  },
  {
   "cell_type": "code",
   "execution_count": 102,
   "id": "35b99aab",
   "metadata": {},
   "outputs": [
    {
     "data": {
      "text/plain": [
       "True"
      ]
     },
     "execution_count": 102,
     "metadata": {},
     "output_type": "execute_result"
    }
   ],
   "source": [
    "#any, all함수\n",
    "#all:모두 참 -> 참\n",
    "all([10,20,-5])\n",
    "all([10,0,-5])\n",
    "all(\"hello\")\n",
    "#print(all([\"\", \"hello\",\"hi\"])) #거짓\n",
    "\n",
    "#any :하나 이상 참 -> 참\n",
    "any([10,0,-5])"
   ]
  },
  {
   "cell_type": "code",
   "execution_count": 103,
   "id": "d8bb0b74",
   "metadata": {},
   "outputs": [
    {
     "data": {
      "text/plain": [
       "'z'"
      ]
     },
     "execution_count": 103,
     "metadata": {},
     "output_type": "execute_result"
    }
   ],
   "source": [
    "chr(122)\n",
    "#chr(유니코드), utf-8, 16, 32\n",
    "#유니코드 : 전 세계의 모든 문자를 표현하기 위한 표준코드\n",
    "#참고:아스키코드는 0~127까지"
   ]
  },
  {
   "cell_type": "code",
   "execution_count": 117,
   "id": "5759ef94",
   "metadata": {},
   "outputs": [
    {
     "data": {
      "text/plain": [
       "54616"
      ]
     },
     "execution_count": 117,
     "metadata": {},
     "output_type": "execute_result"
    }
   ],
   "source": [
    "ord('각')\n",
    "ord('a')\n",
    "ord('하')"
   ]
  },
  {
   "cell_type": "code",
   "execution_count": 120,
   "id": "3724de74",
   "metadata": {},
   "outputs": [
    {
     "data": {
      "text/plain": [
       "(1, 4)"
      ]
     },
     "execution_count": 120,
     "metadata": {},
     "output_type": "execute_result"
    }
   ],
   "source": [
    "divmod(9, 5)\n",
    "#몫, 나머지"
   ]
  },
  {
   "cell_type": "code",
   "execution_count": 124,
   "id": "89a9b824",
   "metadata": {},
   "outputs": [
    {
     "name": "stdout",
     "output_type": "stream",
     "text": [
      "0 h\n",
      "1 e\n",
      "2 l\n",
      "3 l\n",
      "4 o\n",
      "0 h\n",
      "1 e\n",
      "2 l\n",
      "3 l\n",
      "4 o\n"
     ]
    }
   ],
   "source": [
    "#enumerate 함수 : 열거형 함수, 리스트(튜플,문자열)의\n",
    "#자료를 입력받아 (index,자료) 형식으로 리턴\n",
    "#일반적으로 for와 함께 사용\n",
    "a=['a','b','c']\n",
    "a=\"hello\"\n",
    "for i in enumerate(a):\n",
    "    print(i[0], i[1])\n",
    "\n",
    "for i, data in enumerate(a):\n",
    "    print(i, data)"
   ]
  },
  {
   "cell_type": "code",
   "execution_count": 131,
   "id": "57bcca72",
   "metadata": {},
   "outputs": [
    {
     "data": {
      "text/plain": [
       "(2, 1)"
      ]
     },
     "execution_count": 131,
     "metadata": {},
     "output_type": "execute_result"
    }
   ],
   "source": [
    "\n",
    "#eval()\n",
    "#연산이 가능한 문자열을 전달받아 연산 수행, 결과 도출\n",
    "eval(\"1+2\")\n",
    "\n",
    "eval(\"abs(-3)\")\n",
    "eval(\"divmod(9,4)\")"
   ]
  },
  {
   "cell_type": "code",
   "execution_count": 132,
   "id": "20a86672",
   "metadata": {},
   "outputs": [],
   "source": [
    "#filter()\n",
    "#조건에 만족하는 자료들만 추출\n",
    "#filter(함수, 리스트(튜플...)):함수에 정의한 조건을\n",
    "#만족하는 자료들만 필터링됨\n",
    "\n",
    "def myFunc(data):\n",
    "    return data>3 and data<7"
   ]
  },
  {
   "cell_type": "code",
   "execution_count": 135,
   "id": "5f13aebf",
   "metadata": {},
   "outputs": [
    {
     "data": {
      "text/plain": [
       "[5, 6]"
      ]
     },
     "execution_count": 135,
     "metadata": {},
     "output_type": "execute_result"
    }
   ],
   "source": [
    "data=[8,1,5,2,6]\n",
    "list(filter(myFunc,data))"
   ]
  },
  {
   "cell_type": "code",
   "execution_count": 137,
   "id": "136a909e",
   "metadata": {},
   "outputs": [
    {
     "data": {
      "text/plain": [
       "[5, 6]"
      ]
     },
     "execution_count": 137,
     "metadata": {},
     "output_type": "execute_result"
    }
   ],
   "source": [
    "data=[8,1,5,2,6]\n",
    "#[5, 6]이 출력되도록 람다함수로 정의해보세요\n",
    "list(filter(lambda x: x>3 and x<7,data))"
   ]
  },
  {
   "cell_type": "code",
   "execution_count": 139,
   "id": "dbeed3cd",
   "metadata": {},
   "outputs": [
    {
     "data": {
      "text/plain": [
       "[5, 6]"
      ]
     },
     "execution_count": 139,
     "metadata": {},
     "output_type": "execute_result"
    }
   ],
   "source": [
    "list(filter(lambda a: a if 3<a<7 else 0, data))\n",
    "list(filter(lambda data:data>3 and data<7, data))\n"
   ]
  },
  {
   "cell_type": "code",
   "execution_count": 144,
   "id": "738c6aa8",
   "metadata": {},
   "outputs": [
    {
     "data": {
      "text/plain": [
       "[3, 2, 4]"
      ]
     },
     "execution_count": 144,
     "metadata": {},
     "output_type": "execute_result"
    }
   ],
   "source": [
    "data=[-1,3,2,-5,4]\n",
    "def pos(data):\n",
    "    return data > 0\n",
    "    #완성\n",
    "list(filter(pos, data))\n",
    "#pos함수 호출(filter)"
   ]
  },
  {
   "cell_type": "code",
   "execution_count": null,
   "id": "245f9ae1",
   "metadata": {},
   "outputs": [],
   "source": [
    "data=[-1,3,2,-5,4]\n",
    "#양수만 출력\n",
    "#[3,2,4]"
   ]
  },
  {
   "cell_type": "code",
   "execution_count": null,
   "id": "56047e87",
   "metadata": {},
   "outputs": [],
   "source": []
  },
  {
   "cell_type": "code",
   "execution_count": 149,
   "id": "b7c0b11e",
   "metadata": {},
   "outputs": [
    {
     "name": "stdout",
     "output_type": "stream",
     "text": [
      "[2, 4, 6]\n"
     ]
    }
   ],
   "source": [
    "#map함수를 활용하여 주어진 리스트의 값을 2배 하시오\n",
    "#[1,2,3] -> *2 => [2,4,6]\n",
    "\n",
    "# 1)def함수 구현, map함수\n",
    "# 2)람다함수 구현, map함수\n",
    "# 3)단순 for문 사용\n",
    "x = [1,2,3]\n",
    "\n",
    "# for i in range(len(x)):\n",
    "#     x[i] = x[i] * 2\n",
    "# print(x)\n",
    "\n",
    "# print(list(map(lambda x : x*2,x)))\n",
    "\n",
    "def mul(x):\n",
    "    y = []\n",
    "    for i in x:\n",
    "        y.append(int(i)*2)\n",
    "    return y\n",
    "print(list(map(int,mul(x))))\n"
   ]
  },
  {
   "cell_type": "code",
   "execution_count": 153,
   "id": "d5195b91",
   "metadata": {},
   "outputs": [
    {
     "data": {
      "text/plain": [
       "'e'"
      ]
     },
     "execution_count": 153,
     "metadata": {},
     "output_type": "execute_result"
    }
   ],
   "source": [
    "max([2,1,3])\n",
    "max(\"test가\")\n",
    "min(\"test가\")"
   ]
  },
  {
   "cell_type": "code",
   "execution_count": 157,
   "id": "52234162",
   "metadata": {},
   "outputs": [
    {
     "data": {
      "text/plain": [
       "3.142"
      ]
     },
     "execution_count": 157,
     "metadata": {},
     "output_type": "execute_result"
    }
   ],
   "source": [
    "#pow():제곱\n",
    "pow(3,2)\n",
    "\n",
    "#round() : 반올림\n",
    "round(3.1)\n",
    "round(3.141592)\n",
    "round(3.141592, 3)"
   ]
  },
  {
   "cell_type": "code",
   "execution_count": 159,
   "id": "7dd6ef71",
   "metadata": {},
   "outputs": [
    {
     "data": {
      "text/plain": [
       "'HI'"
      ]
     },
     "execution_count": 159,
     "metadata": {},
     "output_type": "execute_result"
    }
   ],
   "source": [
    "\"Hi\".lower()\n",
    "\"Hi\".upper()"
   ]
  },
  {
   "cell_type": "code",
   "execution_count": 161,
   "id": "792f57b8",
   "metadata": {},
   "outputs": [
    {
     "data": {
      "text/plain": [
       "[(1, 3), (2, 4)]"
      ]
     },
     "execution_count": 161,
     "metadata": {},
     "output_type": "execute_result"
    }
   ],
   "source": [
    "#zip():자료들을 묶는 함수\n",
    "list(zip([1,2], [3,4]))"
   ]
  },
  {
   "cell_type": "code",
   "execution_count": 162,
   "id": "a3ab93aa",
   "metadata": {},
   "outputs": [
    {
     "data": {
      "text/plain": [
       "[('h', 'h'), ('i', 'e')]"
      ]
     },
     "execution_count": 162,
     "metadata": {},
     "output_type": "execute_result"
    }
   ],
   "source": [
    "list(zip(\"hi\", \"hello\"))"
   ]
  },
  {
   "cell_type": "code",
   "execution_count": 163,
   "id": "5ffc98cb",
   "metadata": {},
   "outputs": [
    {
     "data": {
      "text/plain": [
       "[(1, 3, 5), (2, 4, 6)]"
      ]
     },
     "execution_count": 163,
     "metadata": {},
     "output_type": "execute_result"
    }
   ],
   "source": [
    "list(zip([1,2], [3,4], [5,6,7]))"
   ]
  },
  {
   "cell_type": "code",
   "execution_count": 164,
   "id": "d9bc3f51",
   "metadata": {},
   "outputs": [],
   "source": [
    "#reduce(): 누적 함수"
   ]
  },
  {
   "cell_type": "code",
   "execution_count": 167,
   "id": "4efcf8f4",
   "metadata": {},
   "outputs": [],
   "source": [
    "def myFunc(a,b):\n",
    "    return a+b"
   ]
  },
  {
   "cell_type": "code",
   "execution_count": 169,
   "id": "a1588213",
   "metadata": {},
   "outputs": [
    {
     "data": {
      "text/plain": [
       "150"
      ]
     },
     "execution_count": 169,
     "metadata": {},
     "output_type": "execute_result"
    }
   ],
   "source": [
    "from functools import reduce \n",
    "x=[10,20,30,40,50]\n",
    "reduce(myFunc,x)  #누적합\n",
    "#파이썬 3. 대 버전에서는 지원이 안됨 -> import해야함\n",
    "\n",
    "#내장함수 : import를 하지 않아도 사용 가능한 함수"
   ]
  },
  {
   "cell_type": "code",
   "execution_count": 170,
   "id": "86b1cd99",
   "metadata": {},
   "outputs": [],
   "source": [
    "#파일압축: run-length기법, 허프만 압축방식, ...\n",
    "    \n",
    "#run-length기법:bmp파일\n",
    "\n",
    "#압축\n",
    "# aaaaaaaabbbbbccc #16글자\n",
    "# a8b5c3 #6글자\n",
    "\n",
    "# #해제\n",
    "# a8b5c3\n",
    "# aaaaaaaabbbbbccc\n",
    "\n",
    "#한계점\n",
    "#abcdefedbacde\n",
    "#a1b1c1...e1   \n",
    "    "
   ]
  },
  {
   "cell_type": "code",
   "execution_count": 172,
   "id": "47a04f5b",
   "metadata": {},
   "outputs": [
    {
     "name": "stdout",
     "output_type": "stream",
     "text": [
      "a1b3a2b2\n"
     ]
    }
   ],
   "source": [
    "text = 'abbbaabb'\n",
    "\n",
    "result = text[0]  # 'a1b3a2b'\n",
    "count  = 0        #1\n",
    "\n",
    "for i in text:\n",
    "    if i == result[-1]:   # b != a\n",
    "        count += 1\n",
    "    else:\n",
    "        result += str(count) + i\n",
    "        count = 1\n",
    "result += str(count)\n",
    "\n",
    "print(result)\n"
   ]
  },
  {
   "cell_type": "code",
   "execution_count": null,
   "id": "9ea93b1b",
   "metadata": {},
   "outputs": [],
   "source": []
  },
  {
   "cell_type": "code",
   "execution_count": null,
   "id": "648aa3a2",
   "metadata": {},
   "outputs": [],
   "source": []
  }
 ],
 "metadata": {
  "kernelspec": {
   "display_name": "Python 3",
   "language": "python",
   "name": "python3"
  },
  "language_info": {
   "codemirror_mode": {
    "name": "ipython",
    "version": 3
   },
   "file_extension": ".py",
   "mimetype": "text/x-python",
   "name": "python",
   "nbconvert_exporter": "python",
   "pygments_lexer": "ipython3",
   "version": "3.8.8"
  }
 },
 "nbformat": 4,
 "nbformat_minor": 5
}
