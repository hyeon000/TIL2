{
 "cells": [
  {
   "cell_type": "code",
   "execution_count": 7,
   "id": "57d41564",
   "metadata": {},
   "outputs": [],
   "source": [
    "x=\"머신러닝은 인공지능의 한 분류입니다\" #내가 작성한 숙제\n",
    "y=\"런닝머신은 운동 기구중의 하나입니다\" #다른 사람이 작성한 숙제\n",
    "xi=[]\n",
    "yi=[]\n",
    "for i in range(len(x)-1):\n",
    "    xi.append(x[i:i+2])\n",
    "for j in range(len(y)-1):\n",
    "    yi.append(y[j:j+2])\n"
   ]
  },
  {
   "cell_type": "code",
   "execution_count": 8,
   "id": "12dc4326",
   "metadata": {},
   "outputs": [
    {
     "data": {
      "text/plain": [
       "['런닝',\n",
       " '닝머',\n",
       " '머신',\n",
       " '신은',\n",
       " '은 ',\n",
       " ' 운',\n",
       " '운동',\n",
       " '동 ',\n",
       " ' 기',\n",
       " '기구',\n",
       " '구중',\n",
       " '중의',\n",
       " '의 ',\n",
       " ' 하',\n",
       " '하나',\n",
       " '나입',\n",
       " '입니',\n",
       " '니다']"
      ]
     },
     "execution_count": 8,
     "metadata": {},
     "output_type": "execute_result"
    }
   ],
   "source": [
    "yi"
   ]
  },
  {
   "cell_type": "code",
   "execution_count": null,
   "id": "2ad43b9b",
   "metadata": {},
   "outputs": [],
   "source": []
  },
  {
   "cell_type": "code",
   "execution_count": null,
   "id": "8bd4ca85",
   "metadata": {},
   "outputs": [],
   "source": []
  },
  {
   "cell_type": "code",
   "execution_count": 9,
   "id": "550d4978",
   "metadata": {},
   "outputs": [
    {
     "name": "stdout",
     "output_type": "stream",
     "text": [
      "27.77777777777778\n"
     ]
    }
   ],
   "source": [
    "print(len(set.intersection(set(xi),set(yi)))/len(yi)*100)"
   ]
  },
  {
   "cell_type": "code",
   "execution_count": null,
   "id": "5f33efb3",
   "metadata": {},
   "outputs": [],
   "source": []
  },
  {
   "cell_type": "code",
   "execution_count": 16,
   "id": "015c7355",
   "metadata": {},
   "outputs": [
    {
     "name": "stdout",
     "output_type": "stream",
     "text": [
      "[1, 2, 2, 3, 4, 5, 5, 6, 8, 9, 9]\n",
      "[0, 2, 2, 2, 3, 4, 5, 5, 6, 8, 9]\n",
      "[0, 0, 2, 2, 2, 3, 4, 5, 5, 6, 8]\n",
      "[0, 0, 0, 2, 2, 2, 3, 4, 5, 5, 6]\n",
      "[0, 0, 0, 0, 2, 2, 2, 3, 4, 5, 5]\n",
      "[0, 0, 0, 0, 0, 2, 2, 2, 3, 4, 5]\n",
      "[0, 0, 0, 0, 0, 0, 2, 2, 2, 3, 4]\n",
      "[0, 0, 0, 0, 0, 0, 0, 2, 2, 2, 3]\n",
      "[0, 0, 0, 0, 0, 0, 0, 0, 2, 2, 2]\n",
      "[0, 0, 0, 0, 0, 0, 0, 0, 0, 2, 2]\n"
     ]
    }
   ],
   "source": [
    "high=[5,8,3,1,5,6,9,9,2,2,4]\n",
    "\n",
    "for i in range(10):\n",
    "    high=sorted(high) #[2, 2, 3, 3, 4, 5, 5, 6, 8, 8, 8]\n",
    "    print(high)       #        high[-1]=high[-1]-1,   high[0]=high[0]+1\n",
    "    #print(high[0], high[-1])\n",
    "    high[0]+=high[0]    \n",
    "    high[-1]-=high[-1]\n",
    "    #print(high[0], high[-1])\n"
   ]
  },
  {
   "cell_type": "code",
   "execution_count": null,
   "id": "d10d5dc1",
   "metadata": {},
   "outputs": [],
   "source": []
  },
  {
   "cell_type": "code",
   "execution_count": null,
   "id": "a679222e",
   "metadata": {},
   "outputs": [],
   "source": [
    "\n",
    "print(max(high)-min(high))"
   ]
  },
  {
   "cell_type": "code",
   "execution_count": null,
   "id": "8a2d973b",
   "metadata": {},
   "outputs": [],
   "source": []
  },
  {
   "cell_type": "code",
   "execution_count": 32,
   "id": "c726dd5f",
   "metadata": {},
   "outputs": [],
   "source": [
    "x = \"머신러닝은 인공지능의 한 분류입니다\"\n",
    "y = \"런닝머신은 운동 기구중의 하나입니다\"\n",
    "x1 = []\n",
    "y1 = []\n"
   ]
  },
  {
   "cell_type": "code",
   "execution_count": 33,
   "id": "168379c4",
   "metadata": {},
   "outputs": [],
   "source": [
    "x1 = []\n",
    "y1 = []\n",
    "for i in range(len(x)-1):\n",
    "    x1.append(x[i:i+2])\n",
    "for i in range(len(y)-1):\n",
    "    y1.append(y[i:i+2])"
   ]
  },
  {
   "cell_type": "code",
   "execution_count": 34,
   "id": "6114c24b",
   "metadata": {},
   "outputs": [
    {
     "name": "stdout",
     "output_type": "stream",
     "text": [
      "['머신', '신러', '러닝', '닝은', '은 ', ' 인', '인공', '공지', '지능', '능의', '의 ', ' 한', '한 ', ' 분', '분류', '류입', '입니', '니다']\n",
      "18\n"
     ]
    }
   ],
   "source": [
    "print(x1)\n",
    "print(len(x1))"
   ]
  },
  {
   "cell_type": "code",
   "execution_count": 35,
   "id": "c90c10a2",
   "metadata": {},
   "outputs": [],
   "source": [
    "count = 0\n",
    "for i in range(len(x1)):\n",
    "    for j in range(len(y1)):\n",
    "        if x1[i] == y1[j]:\n",
    "            count += 1"
   ]
  },
  {
   "cell_type": "code",
   "execution_count": 36,
   "id": "c1322813",
   "metadata": {},
   "outputs": [
    {
     "name": "stdout",
     "output_type": "stream",
     "text": [
      "5\n"
     ]
    }
   ],
   "source": [
    "print(count)"
   ]
  },
  {
   "cell_type": "code",
   "execution_count": 37,
   "id": "bf6b35b0",
   "metadata": {},
   "outputs": [
    {
     "name": "stdout",
     "output_type": "stream",
     "text": [
      "0.2777777777777778\n"
     ]
    }
   ],
   "source": [
    "print(count / len(x1))"
   ]
  },
  {
   "cell_type": "code",
   "execution_count": 31,
   "id": "89406812",
   "metadata": {},
   "outputs": [
    {
     "data": {
      "text/plain": [
       "19"
      ]
     },
     "execution_count": 31,
     "metadata": {},
     "output_type": "execute_result"
    }
   ],
   "source": [
    "len(x1)"
   ]
  },
  {
   "cell_type": "code",
   "execution_count": 38,
   "id": "31506732",
   "metadata": {},
   "outputs": [],
   "source": [
    "# for 영화제목 in ['본영화1', '본영화2',...]:\n",
    "#     if 영화제목 in ['다른사람이본영화1', ...]:\n",
    "        "
   ]
  },
  {
   "cell_type": "code",
   "execution_count": null,
   "id": "4768b44f",
   "metadata": {},
   "outputs": [],
   "source": []
  },
  {
   "cell_type": "code",
   "execution_count": 39,
   "id": "1dcaa8dd",
   "metadata": {},
   "outputs": [
    {
     "name": "stdout",
     "output_type": "stream",
     "text": [
      "hello\n"
     ]
    }
   ],
   "source": [
    "함수는 반복적인 코드를 함수로 정의함으로서 다양한 장점이 있음(실수 줄임, 코드 짧아짐, 재사용, 개발시간 단축,..)"
   ]
  },
  {
   "cell_type": "code",
   "execution_count": null,
   "id": "2dec3671",
   "metadata": {},
   "outputs": [],
   "source": [
    "#함수 실행(호출) : 함수명()\n",
    "#함수 정의 :\n",
    "# def 함수명() : \n",
    "#     수행할 코드1\n",
    "#     수행할 코드2\n",
    "#     ...\n",
    "#     수행할 코드n"
   ]
  },
  {
   "cell_type": "code",
   "execution_count": 45,
   "id": "76f79d82",
   "metadata": {},
   "outputs": [],
   "source": [
    "#함수 정의 \n",
    "def hello(): #   def getValue():\n",
    "    print(\"hello world\") \n",
    "    #return 1"
   ]
  },
  {
   "cell_type": "code",
   "execution_count": 47,
   "id": "45ea851b",
   "metadata": {
    "scrolled": true
   },
   "outputs": [
    {
     "name": "stdout",
     "output_type": "stream",
     "text": [
      "hello world\n"
     ]
    }
   ],
   "source": [
    "#함수 실행(호출)\n",
    "hello() #hello함수를 호출한 뒤, hello함수에서 전달받은 값을 화면에 출력\n",
    "#None: 전달받은게 없다\n"
   ]
  },
  {
   "cell_type": "code",
   "execution_count": 62,
   "id": "b70c3dd5",
   "metadata": {
    "scrolled": false
   },
   "outputs": [
    {
     "name": "stdout",
     "output_type": "stream",
     "text": [
      "hello world\n"
     ]
    }
   ],
   "source": [
    "hello2()"
   ]
  },
  {
   "cell_type": "code",
   "execution_count": 61,
   "id": "f07978be",
   "metadata": {},
   "outputs": [],
   "source": [
    "def hello2(): \n",
    "    print(\"hello world\") "
   ]
  },
  {
   "cell_type": "code",
   "execution_count": null,
   "id": "6daefc79",
   "metadata": {},
   "outputs": [],
   "source": []
  },
  {
   "cell_type": "code",
   "execution_count": 67,
   "id": "8b794626",
   "metadata": {},
   "outputs": [],
   "source": [
    "def hello3():\n",
    "    #아직 구현할 코드를 작성하지 못한 상태  \n",
    "    pass #일단 넘어가(나중에 작성할게)"
   ]
  },
  {
   "cell_type": "code",
   "execution_count": null,
   "id": "7001264e",
   "metadata": {},
   "outputs": [],
   "source": []
  },
  {
   "cell_type": "code",
   "execution_count": null,
   "id": "4d315a56",
   "metadata": {},
   "outputs": [],
   "source": [
    "def 함수명():\n",
    "    #코드"
   ]
  },
  {
   "cell_type": "code",
   "execution_count": null,
   "id": "586c5089",
   "metadata": {},
   "outputs": [],
   "source": [
    "함수명()"
   ]
  },
  {
   "cell_type": "code",
   "execution_count": 71,
   "id": "d18019a0",
   "metadata": {},
   "outputs": [
    {
     "name": "stdout",
     "output_type": "stream",
     "text": [
      "\n",
      "안녕\n",
      "안녕 하세요\n",
      "안녕 하세요 방가\n",
      "안녕 하세요 방가 워요\n"
     ]
    }
   ],
   "source": [
    "print()\n",
    "print(\"안녕\") #인수(argument)\n",
    "print(\"안녕\",\"하세요\") \n",
    "print(\"안녕\",\"하세요\", \"방가\") \n",
    "print(\"안녕\",\"하세요\", \"방가\", \"워요\") "
   ]
  },
  {
   "cell_type": "code",
   "execution_count": null,
   "id": "36e23fd2",
   "metadata": {},
   "outputs": [],
   "source": [
    "def print(msg): #매개변수(parameter)\n",
    "    #\n",
    "    #\n",
    "    #"
   ]
  },
  {
   "cell_type": "code",
   "execution_count": null,
   "id": "b5e0c52d",
   "metadata": {},
   "outputs": [],
   "source": []
  },
  {
   "cell_type": "code",
   "execution_count": 72,
   "id": "85ef84db",
   "metadata": {},
   "outputs": [],
   "source": [
    "def add(x,y): #매개변수, (가)인수\n",
    "    print(x+y)"
   ]
  },
  {
   "cell_type": "code",
   "execution_count": 73,
   "id": "74b35fc3",
   "metadata": {},
   "outputs": [
    {
     "name": "stdout",
     "output_type": "stream",
     "text": [
      "3\n"
     ]
    }
   ],
   "source": [
    "add(1,2) #(실)인수"
   ]
  },
  {
   "cell_type": "code",
   "execution_count": 80,
   "id": "9a555821",
   "metadata": {},
   "outputs": [],
   "source": [
    "def calc(x,y, op): #매개변수, (가)인수\n",
    "    if(op==\"add\"):\n",
    "        print(x+y)       "
   ]
  },
  {
   "cell_type": "code",
   "execution_count": 81,
   "id": "da741e5d",
   "metadata": {},
   "outputs": [
    {
     "name": "stdout",
     "output_type": "stream",
     "text": [
      "3\n"
     ]
    }
   ],
   "source": [
    "calc(1,2, \"add\")"
   ]
  },
  {
   "cell_type": "code",
   "execution_count": 82,
   "id": "a39dcd4a",
   "metadata": {},
   "outputs": [
    {
     "name": "stdout",
     "output_type": "stream",
     "text": [
      "Help on built-in function print in module builtins:\n",
      "\n",
      "print(...)\n",
      "    print(value, ..., sep=' ', end='\\n', file=sys.stdout, flush=False)\n",
      "    \n",
      "    Prints the values to a stream, or to sys.stdout by default.\n",
      "    Optional keyword arguments:\n",
      "    file:  a file-like object (stream); defaults to the current sys.stdout.\n",
      "    sep:   string inserted between values, default a space.\n",
      "    end:   string appended after the last value, default a newline.\n",
      "    flush: whether to forcibly flush the stream.\n",
      "\n"
     ]
    }
   ],
   "source": [
    "help(print)\n",
    "#help(함수명)"
   ]
  },
  {
   "cell_type": "code",
   "execution_count": null,
   "id": "afabe480",
   "metadata": {},
   "outputs": [],
   "source": [
    "print()"
   ]
  },
  {
   "cell_type": "code",
   "execution_count": 83,
   "id": "ac9160fa",
   "metadata": {},
   "outputs": [
    {
     "name": "stdout",
     "output_type": "stream",
     "text": [
      "Help on function calc in module __main__:\n",
      "\n",
      "calc(x, y, op)\n",
      "\n"
     ]
    }
   ],
   "source": [
    "help(calc)"
   ]
  },
  {
   "cell_type": "code",
   "execution_count": 85,
   "id": "542e11b6",
   "metadata": {},
   "outputs": [],
   "source": [
    "def add(x,y):\n",
    "    return x+y"
   ]
  },
  {
   "cell_type": "code",
   "execution_count": 87,
   "id": "738b244a",
   "metadata": {},
   "outputs": [
    {
     "name": "stdout",
     "output_type": "stream",
     "text": [
      "30\n"
     ]
    }
   ],
   "source": [
    "print(add(10,20))"
   ]
  },
  {
   "cell_type": "code",
   "execution_count": 88,
   "id": "aec6dd15",
   "metadata": {},
   "outputs": [
    {
     "ename": "SyntaxError",
     "evalue": "unexpected EOF while parsing (<ipython-input-88-0804e800f7c8>, line 1)",
     "output_type": "error",
     "traceback": [
      "\u001b[1;36m  File \u001b[1;32m\"<ipython-input-88-0804e800f7c8>\"\u001b[1;36m, line \u001b[1;32m1\u001b[0m\n\u001b[1;33m    def calc(x, y, op):\u001b[0m\n\u001b[1;37m                       ^\u001b[0m\n\u001b[1;31mSyntaxError\u001b[0m\u001b[1;31m:\u001b[0m unexpected EOF while parsing\n"
     ]
    }
   ],
   "source": [
    "def calc(x, y, op):\n",
    "    # 구현"
   ]
  },
  {
   "cell_type": "code",
   "execution_count": 89,
   "id": "c0e7717d",
   "metadata": {},
   "outputs": [],
   "source": [
    "print(calc(1,2,\"+\")) #3\n",
    "print(calc(1,2,\"-\")) #-1\n",
    "print(calc(3,2,\"*\")) #6\n",
    "print(calc(10,2,\"/\")) #5"
   ]
  },
  {
   "cell_type": "code",
   "execution_count": null,
   "id": "ee2928b7",
   "metadata": {},
   "outputs": [],
   "source": []
  },
  {
   "cell_type": "code",
   "execution_count": null,
   "id": "ecb04536",
   "metadata": {},
   "outputs": [],
   "source": [
    "calc(1,2,\"+\")"
   ]
  },
  {
   "cell_type": "code",
   "execution_count": null,
   "id": "d7ea618a",
   "metadata": {},
   "outputs": [],
   "source": []
  },
  {
   "cell_type": "code",
   "execution_count": null,
   "id": "89b28521",
   "metadata": {},
   "outputs": [],
   "source": [
    "\n"
   ]
  },
  {
   "cell_type": "code",
   "execution_count": null,
   "id": "1c922847",
   "metadata": {},
   "outputs": [],
   "source": []
  },
  {
   "cell_type": "code",
   "execution_count": 92,
   "id": "42d86688",
   "metadata": {},
   "outputs": [
    {
     "data": {
      "text/plain": [
       "5"
      ]
     },
     "execution_count": 92,
     "metadata": {},
     "output_type": "execute_result"
    }
   ],
   "source": [
    "eval(\"3+2\")"
   ]
  },
  {
   "cell_type": "code",
   "execution_count": 96,
   "id": "f4d97ef3",
   "metadata": {},
   "outputs": [
    {
     "name": "stdout",
     "output_type": "stream",
     "text": [
      "3\n"
     ]
    }
   ],
   "source": [
    "def calc(a,b,operater):\n",
    "    return eval(str(a) + operater + str(b))\n",
    "    #return eval(str(a) + operater + str(b)) #  eval(\"1+2\")\n",
    "    #return\n",
    "\n",
    "print(calc(1,2,\"+\"))"
   ]
  },
  {
   "cell_type": "code",
   "execution_count": null,
   "id": "2acec783",
   "metadata": {},
   "outputs": [],
   "source": []
  },
  {
   "cell_type": "code",
   "execution_count": null,
   "id": "42b8a858",
   "metadata": {},
   "outputs": [],
   "source": []
  },
  {
   "cell_type": "code",
   "execution_count": null,
   "id": "0207cdf4",
   "metadata": {},
   "outputs": [],
   "source": [
    "def 함수명():\n",
    "    #함수 수행 구문\n",
    "    #return 생략  (함수를 호출한 곳으로 되돌아가시오)"
   ]
  },
  {
   "cell_type": "code",
   "execution_count": null,
   "id": "bccd264a",
   "metadata": {},
   "outputs": [],
   "source": [
    "함수명()"
   ]
  },
  {
   "cell_type": "code",
   "execution_count": null,
   "id": "6463834c",
   "metadata": {},
   "outputs": [],
   "source": []
  },
  {
   "cell_type": "code",
   "execution_count": 103,
   "id": "62129b6b",
   "metadata": {},
   "outputs": [],
   "source": [
    "def test(x,y):\n",
    "    return x+y"
   ]
  },
  {
   "cell_type": "code",
   "execution_count": 106,
   "id": "ea54efcc",
   "metadata": {},
   "outputs": [],
   "source": [
    "res=test(y=2, x=5)"
   ]
  },
  {
   "cell_type": "code",
   "execution_count": 107,
   "id": "046e50d4",
   "metadata": {},
   "outputs": [
    {
     "name": "stdout",
     "output_type": "stream",
     "text": [
      "7\n"
     ]
    }
   ],
   "source": [
    "print(res)"
   ]
  },
  {
   "cell_type": "code",
   "execution_count": 119,
   "id": "8747912f",
   "metadata": {},
   "outputs": [],
   "source": [
    "#인수의 개수가 정해지지 않았을때? 함수호출 가능?\n",
    "\n",
    "#인수의 개수가 변할 수 있는 경우에 함수 정의\n",
    "def add(*args):\n",
    "    sum=0\n",
    "    for i in args:\n",
    "        sum+=i \n",
    "    return sum"
   ]
  },
  {
   "cell_type": "code",
   "execution_count": 120,
   "id": "8d7fdebb",
   "metadata": {},
   "outputs": [
    {
     "data": {
      "text/plain": [
       "111"
      ]
     },
     "execution_count": 120,
     "metadata": {},
     "output_type": "execute_result"
    }
   ],
   "source": [
    "add(1,10,100) "
   ]
  },
  {
   "cell_type": "code",
   "execution_count": 123,
   "id": "ec66356d",
   "metadata": {},
   "outputs": [],
   "source": [
    "def func1(op, *numbers):\n",
    "    if op == \"multiply\":\n",
    "        result = 1\n",
    "        for number in numbers:\n",
    "            result *= number\n",
    "    else:\n",
    "        result = 0\n",
    "        for number in numbers:\n",
    "            result += number        \n",
    "    return result"
   ]
  },
  {
   "cell_type": "code",
   "execution_count": 124,
   "id": "5539cf1b",
   "metadata": {},
   "outputs": [
    {
     "name": "stdout",
     "output_type": "stream",
     "text": [
      "6000\n",
      "80\n"
     ]
    }
   ],
   "source": [
    "res=func1(\"multiply\", 10,20,30)\n",
    "print(res) #10*20*30 => 6000 결과 출력\n",
    "res=func1(\"sum\", 5,10,15,20,30)\n",
    "print(res) # 80 출력"
   ]
  },
  {
   "cell_type": "code",
   "execution_count": null,
   "id": "e7dc8074",
   "metadata": {},
   "outputs": [],
   "source": []
  },
  {
   "cell_type": "code",
   "execution_count": null,
   "id": "505860b7",
   "metadata": {},
   "outputs": [],
   "source": []
  },
  {
   "cell_type": "code",
   "execution_count": null,
   "id": "6abc928b",
   "metadata": {},
   "outputs": [],
   "source": []
  },
  {
   "cell_type": "code",
   "execution_count": null,
   "id": "55587e90",
   "metadata": {},
   "outputs": [],
   "source": []
  },
  {
   "cell_type": "code",
   "execution_count": null,
   "id": "80894172",
   "metadata": {},
   "outputs": [],
   "source": []
  },
  {
   "cell_type": "code",
   "execution_count": null,
   "id": "7871045a",
   "metadata": {},
   "outputs": [],
   "source": []
  },
  {
   "cell_type": "code",
   "execution_count": 134,
   "id": "61033b3f",
   "metadata": {},
   "outputs": [],
   "source": [
    "def addsub(x,y):  #3,4\n",
    "    return x+y, x-y"
   ]
  },
  {
   "cell_type": "code",
   "execution_count": 136,
   "id": "284915ea",
   "metadata": {},
   "outputs": [
    {
     "name": "stdout",
     "output_type": "stream",
     "text": [
      "7\n",
      "-1\n"
     ]
    }
   ],
   "source": [
    "res1, res2=addsub(3,4)\n",
    "print(res1)\n",
    "print(res2)\n",
    "\n",
    "# res=addsub(3,4)\n",
    "# #print(type(res))\n",
    "# print(res[0])\n",
    "# print(res[1])"
   ]
  },
  {
   "cell_type": "code",
   "execution_count": null,
   "id": "69249075",
   "metadata": {},
   "outputs": [],
   "source": []
  },
  {
   "cell_type": "code",
   "execution_count": null,
   "id": "0d94c892",
   "metadata": {},
   "outputs": [],
   "source": []
  },
  {
   "cell_type": "code",
   "execution_count": null,
   "id": "e7bb11f3",
   "metadata": {},
   "outputs": [],
   "source": []
  },
  {
   "cell_type": "code",
   "execution_count": 155,
   "id": "d1e788fe",
   "metadata": {},
   "outputs": [],
   "source": [
    "#def intro(n, age, female=True): #매개변수 초기값 설정\n",
    "\n",
    "def intro(n, age, female=True): #매개변수 초기값 설정\n",
    "    print(\"이름:\",  n)\n",
    "    print(\"나이:\", age)\n",
    "    if female:\n",
    "        print(\"여성\")\n",
    "    else:\n",
    "        print(\"남성\")"
   ]
  },
  {
   "cell_type": "code",
   "execution_count": 156,
   "id": "9ee54dc4",
   "metadata": {},
   "outputs": [
    {
     "name": "stdout",
     "output_type": "stream",
     "text": [
      "이름: 홍길동\n",
      "나이: 25\n",
      "여성\n"
     ]
    }
   ],
   "source": [
    "intro(\"홍길동\", 25)\n",
    "#intro(\"홍길동\", 25, False)"
   ]
  },
  {
   "cell_type": "code",
   "execution_count": null,
   "id": "6d7b5456",
   "metadata": {},
   "outputs": [],
   "source": []
  },
  {
   "cell_type": "code",
   "execution_count": 160,
   "id": "a2c16cb9",
   "metadata": {},
   "outputs": [
    {
     "name": "stdout",
     "output_type": "stream",
     "text": [
      "5\n"
     ]
    }
   ],
   "source": [
    "a=5\n",
    "b=1\n",
    "\n",
    "def test(a): #함수 정의, 매개변수는 함수 내에서만 사용하는 변수\n",
    "    a=a+10\n",
    "\n",
    "test(b) #함수 호출\n",
    "\n",
    "print(a)"
   ]
  },
  {
   "cell_type": "code",
   "execution_count": 161,
   "id": "796b1a82",
   "metadata": {},
   "outputs": [
    {
     "name": "stdout",
     "output_type": "stream",
     "text": [
      "머신러닝은 인공지능의 한 분류입니다\n"
     ]
    }
   ],
   "source": [
    "def test2(x):\n",
    "    x=x+1\n",
    "\n",
    "test2(10)\n",
    "print(x)"
   ]
  },
  {
   "cell_type": "code",
   "execution_count": null,
   "id": "58cbccbb",
   "metadata": {},
   "outputs": [],
   "source": []
  },
  {
   "cell_type": "code",
   "execution_count": 166,
   "id": "6f6aa3ba",
   "metadata": {},
   "outputs": [
    {
     "name": "stdout",
     "output_type": "stream",
     "text": [
      "11\n"
     ]
    }
   ],
   "source": [
    "#1. 함수 내부에서 함수 외부에 있는 변수의 값을 변경하는 방법\n",
    "\n",
    "# x=1\n",
    "# def test(x):\n",
    "#     x=x+10\n",
    "#     return x\n",
    "\n",
    "# # test(x)\n",
    "# # print(x)\n",
    "\n",
    "# x=test(x)\n",
    "# print(x)\n",
    "\n",
    "#2. global : 전역 변수\n",
    "x=1\n",
    "def test():\n",
    "    global x ##함수 내부에서 함수 외부에 있는 변수 x를 사용하겠다\n",
    "    x=x+10\n",
    "    \n",
    "test()\n",
    "print(x)\n"
   ]
  },
  {
   "cell_type": "code",
   "execution_count": 171,
   "id": "40e8f9d0",
   "metadata": {},
   "outputs": [],
   "source": [
    "def test():\n",
    "    #return 1,2\n",
    "    return [1,2]"
   ]
  },
  {
   "cell_type": "code",
   "execution_count": 172,
   "id": "c156cc1f",
   "metadata": {},
   "outputs": [
    {
     "name": "stdout",
     "output_type": "stream",
     "text": [
      "[1, 2]\n"
     ]
    }
   ],
   "source": [
    "res=test()\n",
    "#print(list(res))\n",
    "print(res)"
   ]
  },
  {
   "cell_type": "code",
   "execution_count": 175,
   "id": "aca783e2",
   "metadata": {},
   "outputs": [
    {
     "name": "stdout",
     "output_type": "stream",
     "text": [
      "3\n",
      "6\n"
     ]
    }
   ],
   "source": [
    "def mul(a,b):\n",
    "    res=a*b\n",
    "    return res\n",
    "\n",
    "def add(xx,yy):\n",
    "    zz=xx+yy\n",
    "    print(zz)\n",
    "    result=mul(zz, 2)\n",
    "    return result\n",
    "    \n",
    "    \n",
    "x=1\n",
    "y=2\n",
    "print(add(x,y))"
   ]
  },
  {
   "cell_type": "code",
   "execution_count": null,
   "id": "f51aeba4",
   "metadata": {},
   "outputs": [],
   "source": []
  }
 ],
 "metadata": {
  "kernelspec": {
   "display_name": "Python 3",
   "language": "python",
   "name": "python3"
  },
  "language_info": {
   "codemirror_mode": {
    "name": "ipython",
    "version": 3
   },
   "file_extension": ".py",
   "mimetype": "text/x-python",
   "name": "python",
   "nbconvert_exporter": "python",
   "pygments_lexer": "ipython3",
   "version": "3.8.8"
  }
 },
 "nbformat": 4,
 "nbformat_minor": 5
}
